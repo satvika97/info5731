{
 "cells": [
  {
   "cell_type": "code",
   "execution_count": 1,
   "metadata": {},
   "outputs": [
    {
     "data": {
      "text/plain": [
       "True"
      ]
     },
     "execution_count": 1,
     "metadata": {},
     "output_type": "execute_result"
    }
   ],
   "source": [
    "\"A\".isupper()"
   ]
  },
  {
   "cell_type": "code",
   "execution_count": 2,
   "metadata": {},
   "outputs": [
    {
     "ename": "SyntaxError",
     "evalue": "Missing parentheses in call to 'print'. Did you mean print(\"This is my Python class\")? (<ipython-input-2-6fbff18deb64>, line 1)",
     "output_type": "error",
     "traceback": [
      "\u001b[1;36m  File \u001b[1;32m\"<ipython-input-2-6fbff18deb64>\"\u001b[1;36m, line \u001b[1;32m1\u001b[0m\n\u001b[1;33m    print \"This is my Python class\";\u001b[0m\n\u001b[1;37m                                  ^\u001b[0m\n\u001b[1;31mSyntaxError\u001b[0m\u001b[1;31m:\u001b[0m Missing parentheses in call to 'print'. Did you mean print(\"This is my Python class\")?\n"
     ]
    }
   ],
   "source": [
    "print \"This is my Python class\";#parantheses are missing we ought to incorporate the parantheses while utilizing  print"
   ]
  },
  {
   "cell_type": "code",
   "execution_count": 3,
   "metadata": {},
   "outputs": [
    {
     "ename": "SyntaxError",
     "evalue": "invalid syntax (<ipython-input-3-ab94c64265ac>, line 1)",
     "output_type": "error",
     "traceback": [
      "\u001b[1;36m  File \u001b[1;32m\"<ipython-input-3-ab94c64265ac>\"\u001b[1;36m, line \u001b[1;32m1\u001b[0m\n\u001b[1;33m    x == 1 AND y > x\u001b[0m\n\u001b[1;37m             ^\u001b[0m\n\u001b[1;31mSyntaxError\u001b[0m\u001b[1;31m:\u001b[0m invalid syntax\n"
     ]
    }
   ],
   "source": [
    "x == 1 AND y > x\n",
    "#The and is works in the event that it is in lowercase like this(and)"
   ]
  },
  {
   "cell_type": "code",
   "execution_count": 4,
   "metadata": {},
   "outputs": [
    {
     "ename": "SyntaxError",
     "evalue": "'return' outside function (<ipython-input-4-56d8fc030678>, line 1)",
     "output_type": "error",
     "traceback": [
      "\u001b[1;36m  File \u001b[1;32m\"<ipython-input-4-56d8fc030678>\"\u001b[1;36m, line \u001b[1;32m1\u001b[0m\n\u001b[1;33m    return t[1:]\u001b[0m\n\u001b[1;37m                ^\u001b[0m\n\u001b[1;31mSyntaxError\u001b[0m\u001b[1;31m:\u001b[0m 'return' outside function\n"
     ]
    }
   ],
   "source": [
    "return t[1:]\n",
    "#If we want to display the 1 element we should not use the return statement"
   ]
  },
  {
   "cell_type": "code",
   "execution_count": 5,
   "metadata": {},
   "outputs": [
    {
     "ename": "SyntaxError",
     "evalue": "unexpected EOF while parsing (<ipython-input-5-2e922ba232d7>, line 2)",
     "output_type": "error",
     "traceback": [
      "\u001b[1;36m  File \u001b[1;32m\"<ipython-input-5-2e922ba232d7>\"\u001b[1;36m, line \u001b[1;32m2\u001b[0m\n\u001b[1;33m    #It doesn't do string match\u001b[0m\n\u001b[1;37m                               ^\u001b[0m\n\u001b[1;31mSyntaxError\u001b[0m\u001b[1;31m:\u001b[0m unexpected EOF while parsing\n"
     ]
    }
   ],
   "source": [
    "if \"fruit\" in \"apple\":\n",
    "    #It doesn't do string match"
   ]
  },
  {
   "cell_type": "code",
   "execution_count": 6,
   "metadata": {},
   "outputs": [
    {
     "ename": "FileNotFoundError",
     "evalue": "[Errno 2] No such file or directory: 'myfile.txt'",
     "output_type": "error",
     "traceback": [
      "\u001b[1;31m---------------------------------------------------------------------------\u001b[0m",
      "\u001b[1;31mFileNotFoundError\u001b[0m                         Traceback (most recent call last)",
      "\u001b[1;32m<ipython-input-6-9ecf5aa5d4de>\u001b[0m in \u001b[0;36m<module>\u001b[1;34m\u001b[0m\n\u001b[1;32m----> 1\u001b[1;33m \u001b[1;32mwith\u001b[0m \u001b[0mopen\u001b[0m\u001b[1;33m(\u001b[0m\u001b[1;34m\"myfile.txt\"\u001b[0m\u001b[1;33m,\u001b[0m \u001b[1;34m\"r\"\u001b[0m\u001b[1;33m)\u001b[0m \u001b[1;32mas\u001b[0m \u001b[0mf\u001b[0m\u001b[1;33m:\u001b[0m\u001b[1;33m\u001b[0m\u001b[1;33m\u001b[0m\u001b[0m\n\u001b[0m\u001b[0;32m      2\u001b[0m     \u001b[0mtext\u001b[0m \u001b[1;33m=\u001b[0m \u001b[0mf\u001b[0m\u001b[1;33m.\u001b[0m\u001b[0mread\u001b[0m\u001b[1;33m(\u001b[0m\u001b[1;33m)\u001b[0m\u001b[1;33m.\u001b[0m\u001b[0mdecode\u001b[0m\u001b[1;33m(\u001b[0m\u001b[1;34m\"UTF-8\"\u001b[0m\u001b[1;33m)\u001b[0m\u001b[1;33m\u001b[0m\u001b[1;33m\u001b[0m\u001b[0m\n",
      "\u001b[1;31mFileNotFoundError\u001b[0m: [Errno 2] No such file or directory: 'myfile.txt'"
     ]
    }
   ],
   "source": [
    "with open(\"myfile.txt\", \"r\") as f:\n",
    "    text = f.read().decode(\"UTF-8\")"
   ]
  },
  {
   "cell_type": "code",
   "execution_count": 7,
   "metadata": {},
   "outputs": [
    {
     "data": {
      "text/plain": [
       "False"
      ]
     },
     "execution_count": 7,
     "metadata": {},
     "output_type": "execute_result"
    }
   ],
   "source": [
    "foo = 1\n",
    "foo == None"
   ]
  },
  {
   "cell_type": "code",
   "execution_count": 8,
   "metadata": {},
   "outputs": [
    {
     "ename": "TypeError",
     "evalue": "'str' object does not support item assignment",
     "output_type": "error",
     "traceback": [
      "\u001b[1;31m---------------------------------------------------------------------------\u001b[0m",
      "\u001b[1;31mTypeError\u001b[0m                                 Traceback (most recent call last)",
      "\u001b[1;32m<ipython-input-8-9bb4e55a7bde>\u001b[0m in \u001b[0;36m<module>\u001b[1;34m\u001b[0m\n\u001b[0;32m      1\u001b[0m \u001b[0mname\u001b[0m \u001b[1;33m=\u001b[0m \u001b[1;34m\"My name is Brenda\"\u001b[0m\u001b[1;33m\u001b[0m\u001b[1;33m\u001b[0m\u001b[0m\n\u001b[1;32m----> 2\u001b[1;33m \u001b[0mname\u001b[0m\u001b[1;33m[\u001b[0m\u001b[1;36m0\u001b[0m\u001b[1;33m]\u001b[0m \u001b[1;33m=\u001b[0m \u001b[1;34m\"A\"\u001b[0m\u001b[1;33m\u001b[0m\u001b[1;33m\u001b[0m\u001b[0m\n\u001b[0m",
      "\u001b[1;31mTypeError\u001b[0m: 'str' object does not support item assignment"
     ]
    }
   ],
   "source": [
    "name = \"My name is Brenda\"\n",
    "name[0] = \"A\"\n",
    "#It doesn't allow to enter the name of 0 element equal to a because it is not a list"
   ]
  },
  {
   "cell_type": "code",
   "execution_count": 9,
   "metadata": {},
   "outputs": [
    {
     "data": {
      "text/plain": [
       "27"
      ]
     },
     "execution_count": 9,
     "metadata": {},
     "output_type": "execute_result"
    }
   ],
   "source": [
    "x = 3\n",
    "x**3"
   ]
  },
  {
   "cell_type": "code",
   "execution_count": 10,
   "metadata": {},
   "outputs": [
    {
     "data": {
      "text/plain": [
       "6"
      ]
     },
     "execution_count": 10,
     "metadata": {},
     "output_type": "execute_result"
    }
   ],
   "source": [
    "20%7"
   ]
  },
  {
   "cell_type": "code",
   "execution_count": 13,
   "metadata": {},
   "outputs": [
    {
     "name": "stdout",
     "output_type": "stream",
     "text": [
      "Enter score: 70\n",
      "grade obtained for 70 is C\n"
     ]
    }
   ],
   "source": [
    "score = eval(input(\"Enter score: \"))\n",
    "if score>=0 and score<=100:\n",
    "    if score >= 90:\n",
    "        gradeobtained = 'A';\n",
    "    elif score >= 80:\n",
    "        gradeobtained = 'B';\n",
    "    elif score >= 70:\n",
    "        gradeobtained = 'C';\n",
    "    elif score >= 60:\n",
    "        gradeobtained = 'D';\n",
    "    else:\n",
    "        gradeobtained = 'F';\n",
    "    print(\"grade obtained for\",score,\"is\",gradeobtained);\n",
    "else:\n",
    "    print(\"Error: out of scope\");"
   ]
  },
  {
   "cell_type": "code",
   "execution_count": 14,
   "metadata": {},
   "outputs": [
    {
     "name": "stdout",
     "output_type": "stream",
     "text": [
      "[3, 9, 27, 31, 35, 45, 55, 57, 61, 71, 73, 97]\n",
      "97\n",
      "73\n",
      "71\n",
      "61\n",
      "57\n",
      "55\n",
      "45\n",
      "35\n",
      "31\n",
      "27\n",
      "9\n",
      "3\n",
      "47.0\n"
     ]
    }
   ],
   "source": [
    "import random\n",
    "\n",
    "my_randoms=[]\n",
    "for i in range (12):\n",
    "    my_randoms.append(random.randrange(1,100,2))\n",
    "my_randoms.sort()\n",
    "\n",
    "print (my_randoms)\n",
    "length=len(my_randoms)\n",
    "\n",
    "for i in range(length):\n",
    "    print(my_randoms[length-i-1])\n",
    "print(sum(my_randoms)/12)"
   ]
  },
  {
   "cell_type": "code",
   "execution_count": 16,
   "metadata": {},
   "outputs": [
    {
     "name": "stdout",
     "output_type": "stream",
     "text": [
      "enter no of radius: 7\n",
      "1 v:  4.19047619047619\n",
      "2 v:  33.52380952380952\n",
      "3 v:  113.14285714285714\n",
      "4 v:  268.19047619047615\n",
      "5 v:  523.8095238095237\n",
      "6 v:  905.1428571428571\n",
      "7 v:  1437.3333333333333\n",
      "8 v:  2145.523809523809\n",
      "9 v:  3054.857142857142\n"
     ]
    }
   ],
   "source": [
    "pi=22/7\n",
    "radian = int(input('enter no of radius: '))\n",
    "for radian in range(1,10):\n",
    "    v = (4/3) * (pi * radian ** 3)\n",
    "    print(radian, \"v: \", v)"
   ]
  },
  {
   "cell_type": "code",
   "execution_count": 17,
   "metadata": {},
   "outputs": [
    {
     "name": "stdout",
     "output_type": "stream",
     "text": [
      "Enter first string: My name is Satvika\n",
      "Enter second string: I am studying master's\n"
     ]
    }
   ],
   "source": [
    "one = input(\"Enter first string: \")\n",
    "two = input(\"Enter second string: \")"
   ]
  },
  {
   "cell_type": "code",
   "execution_count": 20,
   "metadata": {},
   "outputs": [
    {
     "name": "stdout",
     "output_type": "stream",
     "text": [
      "Enter first string: hi; hello\n",
      "Enter second string: How are you?\n",
      "First list: ['hi', ';', 'hello']\n",
      "Second list: ['How', 'are', 'you', '?']\n",
      "\n",
      "Following are common\n",
      "\n",
      "Following are common without punctuation\n",
      "hi hello\n",
      "How are you\n",
      "\n",
      "Vowel frequency in first string: {'a': 0, 'e': 1, 'i': 1, 'o': 1, 'u': 0}\n",
      "\n",
      "Vowel frequency in second string: {'a': 1, 'e': 1, 'i': 0, 'o': 2, 'u': 1}\n"
     ]
    }
   ],
   "source": [
    "import string\n",
    "import re\n",
    "\n",
    "one = input(\"Enter first string: \")\n",
    "two = input(\"Enter second string: \")\n",
    "\n",
    "\n",
    "a = re.findall(r\"[\\w']+|[.,!?;:]\", one)\n",
    "b = re.findall(r\"[\\w']+|[.,!?;:]\", two)\n",
    "\n",
    "print(\"First list:\",a)\n",
    "print(\"Second list:\",b)\n",
    "\n",
    "\n",
    "print(\"\\nFollowing are common\")\n",
    "for word in a:\n",
    "    for other in b:\n",
    "        if word.lower() == other.lower():\n",
    "            print(word)\n",
    "  \n",
    "\n",
    "print(\"\\nFollowing are common without punctuation\")\n",
    "'''for word in a:\n",
    "    for other in b:\n",
    "        if word.lower() == other.lower() and word not in string.punctuation:\n",
    "            print(word)\n",
    "'''\n",
    "import re\n",
    "oneP = re.sub(r'[^\\w\\s]','',one)\n",
    "twoP = re.sub(r'[^\\w\\s]','',two)\n",
    "\n",
    "print(oneP);\n",
    "print(twoP);\n",
    "\n",
    "vowels = {'a':0, 'e':0, 'i':0, 'o':0, 'u':0}\n",
    "for letter in one:\n",
    "    if letter.lower() in vowels:\n",
    "        vowels[letter.lower()] += 1\n",
    "print(\"\\nVowel frequency in first string:\",vowels)\n",
    "\n",
    "\n",
    "vowels = {'a':0, 'e':0, 'i':0, 'o':0, 'u':0}\n",
    "for letter in two:\n",
    "    if letter.lower() in vowels:\n",
    "        vowels[letter.lower()] += 1\n",
    "        \n",
    "        \n",
    "print(\"\\nVowel frequency in second string:\",vowels)"
   ]
  },
  {
   "cell_type": "code",
   "execution_count": null,
   "metadata": {},
   "outputs": [],
   "source": []
  }
 ],
 "metadata": {
  "kernelspec": {
   "display_name": "Python 3",
   "language": "python",
   "name": "python3"
  },
  "language_info": {
   "codemirror_mode": {
    "name": "ipython",
    "version": 3
   },
   "file_extension": ".py",
   "mimetype": "text/x-python",
   "name": "python",
   "nbconvert_exporter": "python",
   "pygments_lexer": "ipython3",
   "version": "3.7.1"
  }
 },
 "nbformat": 4,
 "nbformat_minor": 2
}
