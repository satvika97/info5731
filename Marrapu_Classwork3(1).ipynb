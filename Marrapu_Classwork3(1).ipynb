{
 "cells": [
  {
   "cell_type": "markdown",
   "metadata": {
    "colab_type": "text",
    "id": "pYrY2Fl1pvwx"
   },
   "source": [
    "# Class work 3: Text Classification on IMDB review samples"
   ]
  },
  {
   "cell_type": "markdown",
   "metadata": {
    "colab_type": "text",
    "id": "fx6U7fk7sRz-"
   },
   "source": [
    "## Data loading"
   ]
  },
  {
   "cell_type": "markdown",
   "metadata": {
    "colab_type": "text",
    "id": "pkoTrpCUpeCz"
   },
   "source": [
    "**Question 1: (10 points)**\n",
    "\n",
    "Go to [this link](https://unt.instructure.com/courses/12025/files/2443720/download?download_frd=1) to download the data file and upload it to Google Colab. And then run the following commands:"
   ]
  },
  {
   "cell_type": "code",
   "execution_count": 0,
   "metadata": {
    "colab": {},
    "colab_type": "code",
    "id": "NIK8xVzmsR0C"
   },
   "outputs": [],
   "source": [
    "import pickle"
   ]
  },
  {
   "cell_type": "code",
   "execution_count": 0,
   "metadata": {
    "colab": {},
    "colab_type": "code",
    "id": "egds4jV6sR0K"
   },
   "outputs": [],
   "source": [
    "with open('imdb-review.pickle', 'rb') as f:\n",
    "    train, test = pickle.load(f)"
   ]
  },
  {
   "cell_type": "code",
   "execution_count": 0,
   "metadata": {
    "colab": {
     "base_uri": "https://localhost:8080/",
     "height": 204
    },
    "colab_type": "code",
    "id": "uouUbO1_s0Tj",
    "outputId": "1b751f97-5331-40d5-a227-492c969a7649"
   },
   "outputs": [
    {
     "data": {
      "text/html": [
       "<div>\n",
       "<style scoped>\n",
       "    .dataframe tbody tr th:only-of-type {\n",
       "        vertical-align: middle;\n",
       "    }\n",
       "\n",
       "    .dataframe tbody tr th {\n",
       "        vertical-align: top;\n",
       "    }\n",
       "\n",
       "    .dataframe thead th {\n",
       "        text-align: right;\n",
       "    }\n",
       "</style>\n",
       "<table border=\"1\" class=\"dataframe\">\n",
       "  <thead>\n",
       "    <tr style=\"text-align: right;\">\n",
       "      <th></th>\n",
       "      <th>text</th>\n",
       "      <th>sentiment</th>\n",
       "    </tr>\n",
       "  </thead>\n",
       "  <tbody>\n",
       "    <tr>\n",
       "      <th>0</th>\n",
       "      <td>For a movie that gets no respect there sure ar...</td>\n",
       "      <td>1</td>\n",
       "    </tr>\n",
       "    <tr>\n",
       "      <th>1</th>\n",
       "      <td>Bizarre horror movie filled with famous faces ...</td>\n",
       "      <td>1</td>\n",
       "    </tr>\n",
       "    <tr>\n",
       "      <th>2</th>\n",
       "      <td>A solid, if unremarkable film. Matthau, as Ein...</td>\n",
       "      <td>1</td>\n",
       "    </tr>\n",
       "    <tr>\n",
       "      <th>3</th>\n",
       "      <td>It's a strange feeling to sit alone in a theat...</td>\n",
       "      <td>1</td>\n",
       "    </tr>\n",
       "    <tr>\n",
       "      <th>4</th>\n",
       "      <td>You probably all already know this by now, but...</td>\n",
       "      <td>1</td>\n",
       "    </tr>\n",
       "  </tbody>\n",
       "</table>\n",
       "</div>"
      ],
      "text/plain": [
       "                                                text  sentiment\n",
       "0  For a movie that gets no respect there sure ar...          1\n",
       "1  Bizarre horror movie filled with famous faces ...          1\n",
       "2  A solid, if unremarkable film. Matthau, as Ein...          1\n",
       "3  It's a strange feeling to sit alone in a theat...          1\n",
       "4  You probably all already know this by now, but...          1"
      ]
     },
     "execution_count": 70,
     "metadata": {
      "tags": []
     },
     "output_type": "execute_result"
    }
   ],
   "source": [
    "train.head()"
   ]
  },
  {
   "cell_type": "markdown",
   "metadata": {
    "colab_type": "text",
    "id": "dxo7XSyQtfHC"
   },
   "source": [
    "You should see the output like this:"
   ]
  },
  {
   "cell_type": "markdown",
   "metadata": {
    "colab_type": "text",
    "id": "T1jOySWDti2p"
   },
   "source": [
    "![](https://github.com/wshuyi/github_pub_img/raw/master/assets/2019-03-25-21-22-19-073406.png)"
   ]
  },
  {
   "cell_type": "markdown",
   "metadata": {
    "colab_type": "text",
    "id": "i9Vi5TQRsR0P"
   },
   "source": [
    "## sampling\n"
   ]
  },
  {
   "cell_type": "markdown",
   "metadata": {
    "colab_type": "text",
    "id": "eXQ2iWF2sR0Q"
   },
   "source": [
    "**Question 2: (10 points)**\n",
    "\n",
    "Sample **2000** rows from original training set. 1000 positive, 1000 negative. To keep all your result identical, please use **`random_state=1`** while sampling. Reset the index of generated data frame, and save it to **`train`**. (Hint: you can refer to[ this document](https://pandas.pydata.org/pandas-docs/stable/reference/api/pandas.DataFrame.sample.html).)\n",
    "\n",
    "\n",
    "\n",
    "\n"
   ]
  },
  {
   "cell_type": "code",
   "execution_count": 0,
   "metadata": {
    "colab": {},
    "colab_type": "code",
    "id": "AlGynFk0sR0S"
   },
   "outputs": [],
   "source": [
    "\n",
    "df=pd.concat([train[train.sentiment==1].sample(1000,random_state=1),train[train.sentiment==0].sample(1000,random_state=1)])"
   ]
  },
  {
   "cell_type": "code",
   "execution_count": 0,
   "metadata": {
    "colab": {},
    "colab_type": "code",
    "id": "APzkPrMWpSYC"
   },
   "outputs": [],
   "source": [
    "train=df.reset_index(drop=True)"
   ]
  },
  {
   "cell_type": "code",
   "execution_count": 0,
   "metadata": {
    "colab": {
     "base_uri": "https://localhost:8080/",
     "height": 204
    },
    "colab_type": "code",
    "id": "VWtvPqj5sR0X",
    "outputId": "19641c79-ba9f-430b-8d97-6390d7237ecb"
   },
   "outputs": [
    {
     "data": {
      "text/html": [
       "<div>\n",
       "<style scoped>\n",
       "    .dataframe tbody tr th:only-of-type {\n",
       "        vertical-align: middle;\n",
       "    }\n",
       "\n",
       "    .dataframe tbody tr th {\n",
       "        vertical-align: top;\n",
       "    }\n",
       "\n",
       "    .dataframe thead th {\n",
       "        text-align: right;\n",
       "    }\n",
       "</style>\n",
       "<table border=\"1\" class=\"dataframe\">\n",
       "  <thead>\n",
       "    <tr style=\"text-align: right;\">\n",
       "      <th></th>\n",
       "      <th>text</th>\n",
       "      <th>sentiment</th>\n",
       "    </tr>\n",
       "  </thead>\n",
       "  <tbody>\n",
       "    <tr>\n",
       "      <th>0</th>\n",
       "      <td>I have watched this episode more often than an...</td>\n",
       "      <td>1</td>\n",
       "    </tr>\n",
       "    <tr>\n",
       "      <th>1</th>\n",
       "      <td>As many reviewers here have noted, the film ve...</td>\n",
       "      <td>1</td>\n",
       "    </tr>\n",
       "    <tr>\n",
       "      <th>2</th>\n",
       "      <td>At first,this movie seems so bad that i almost...</td>\n",
       "      <td>1</td>\n",
       "    </tr>\n",
       "    <tr>\n",
       "      <th>3</th>\n",
       "      <td>Was this based on a comic-book? A video-game? ...</td>\n",
       "      <td>1</td>\n",
       "    </tr>\n",
       "    <tr>\n",
       "      <th>4</th>\n",
       "      <td>Melissa Joan Hart shines! This show is amazing...</td>\n",
       "      <td>1</td>\n",
       "    </tr>\n",
       "  </tbody>\n",
       "</table>\n",
       "</div>"
      ],
      "text/plain": [
       "                                                text  sentiment\n",
       "0  I have watched this episode more often than an...          1\n",
       "1  As many reviewers here have noted, the film ve...          1\n",
       "2  At first,this movie seems so bad that i almost...          1\n",
       "3  Was this based on a comic-book? A video-game? ...          1\n",
       "4  Melissa Joan Hart shines! This show is amazing...          1"
      ]
     },
     "execution_count": 95,
     "metadata": {
      "tags": []
     },
     "output_type": "execute_result"
    }
   ],
   "source": [
    "train.head()"
   ]
  },
  {
   "cell_type": "markdown",
   "metadata": {
    "colab_type": "text",
    "id": "VLBE4y9VuoJW"
   },
   "source": [
    "You should see the output like this:\n",
    "\n",
    "![](https://github.com/wshuyi/github_pub_img/raw/master/assets/2019-03-25-21-22-32-893523.png)"
   ]
  },
  {
   "cell_type": "code",
   "execution_count": 0,
   "metadata": {
    "colab": {
     "base_uri": "https://localhost:8080/",
     "height": 204
    },
    "colab_type": "code",
    "id": "WQrxhyIzsR0e",
    "outputId": "bd3fc95c-b443-4b71-c0c9-7afe6cac9ebf"
   },
   "outputs": [
    {
     "data": {
      "text/html": [
       "<div>\n",
       "<style scoped>\n",
       "    .dataframe tbody tr th:only-of-type {\n",
       "        vertical-align: middle;\n",
       "    }\n",
       "\n",
       "    .dataframe tbody tr th {\n",
       "        vertical-align: top;\n",
       "    }\n",
       "\n",
       "    .dataframe thead th {\n",
       "        text-align: right;\n",
       "    }\n",
       "</style>\n",
       "<table border=\"1\" class=\"dataframe\">\n",
       "  <thead>\n",
       "    <tr style=\"text-align: right;\">\n",
       "      <th></th>\n",
       "      <th>text</th>\n",
       "      <th>sentiment</th>\n",
       "    </tr>\n",
       "  </thead>\n",
       "  <tbody>\n",
       "    <tr>\n",
       "      <th>1995</th>\n",
       "      <td>Is rich, ailing Elizabeth Taylor courting the ...</td>\n",
       "      <td>0</td>\n",
       "    </tr>\n",
       "    <tr>\n",
       "      <th>1996</th>\n",
       "      <td>The movie itself is not too bad; many comments...</td>\n",
       "      <td>0</td>\n",
       "    </tr>\n",
       "    <tr>\n",
       "      <th>1997</th>\n",
       "      <td>I feel much less generous with this film than ...</td>\n",
       "      <td>0</td>\n",
       "    </tr>\n",
       "    <tr>\n",
       "      <th>1998</th>\n",
       "      <td>It SURPRISINGLY had a plot! ;) I've seen movie...</td>\n",
       "      <td>0</td>\n",
       "    </tr>\n",
       "    <tr>\n",
       "      <th>1999</th>\n",
       "      <td>This movie could have been 15 minutes long if ...</td>\n",
       "      <td>0</td>\n",
       "    </tr>\n",
       "  </tbody>\n",
       "</table>\n",
       "</div>"
      ],
      "text/plain": [
       "                                                   text  sentiment\n",
       "1995  Is rich, ailing Elizabeth Taylor courting the ...          0\n",
       "1996  The movie itself is not too bad; many comments...          0\n",
       "1997  I feel much less generous with this film than ...          0\n",
       "1998  It SURPRISINGLY had a plot! ;) I've seen movie...          0\n",
       "1999  This movie could have been 15 minutes long if ...          0"
      ]
     },
     "execution_count": 96,
     "metadata": {
      "tags": []
     },
     "output_type": "execute_result"
    }
   ],
   "source": [
    "train.tail()"
   ]
  },
  {
   "cell_type": "markdown",
   "metadata": {
    "colab_type": "text",
    "id": "oaIig18au7xw"
   },
   "source": [
    "You should see the output like this:\n",
    "\n",
    "![](https://github.com/wshuyi/github_pub_img/raw/master/assets/2019-03-25-21-22-52-059518.png)"
   ]
  },
  {
   "cell_type": "markdown",
   "metadata": {
    "colab_type": "text",
    "id": "4jAiC2TSvXXT"
   },
   "source": [
    "**Question 3: (10 points)**\n",
    "\n",
    "Sample **1000** rows from original test set. 500 positive, 500 negative. To keep all your result identical, please use **`random_state=1`** while sampling. Reset the index of generated data frame, and save it to **`test`**. (Hint: you can refer to[ this document](https://pandas.pydata.org/pandas-docs/stable/reference/api/pandas.DataFrame.sample.html).)\n",
    "\n",
    "\n",
    "\n",
    "\n",
    "\n",
    "\n"
   ]
  },
  {
   "cell_type": "code",
   "execution_count": 0,
   "metadata": {
    "colab": {},
    "colab_type": "code",
    "id": "oP6mMOnvzS6L"
   },
   "outputs": [],
   "source": [
    "# Todo: your code here\n",
    "df1=pd.concat([test[test.sentiment==1].sample(n=500,random_state=1),test[test.sentiment<1].sample(n=500,random_state=1)])"
   ]
  },
  {
   "cell_type": "code",
   "execution_count": 0,
   "metadata": {
    "colab": {},
    "colab_type": "code",
    "id": "2OLKwRJcvLf9"
   },
   "outputs": [],
   "source": [
    "test=df1.reset_index(drop=True)"
   ]
  },
  {
   "cell_type": "code",
   "execution_count": 0,
   "metadata": {
    "colab": {
     "base_uri": "https://localhost:8080/",
     "height": 204
    },
    "colab_type": "code",
    "id": "yVulvkv7sR0i",
    "outputId": "f0ae1dff-d600-4957-cd65-cfa158745c8f"
   },
   "outputs": [
    {
     "data": {
      "text/html": [
       "<div>\n",
       "<style scoped>\n",
       "    .dataframe tbody tr th:only-of-type {\n",
       "        vertical-align: middle;\n",
       "    }\n",
       "\n",
       "    .dataframe tbody tr th {\n",
       "        vertical-align: top;\n",
       "    }\n",
       "\n",
       "    .dataframe thead th {\n",
       "        text-align: right;\n",
       "    }\n",
       "</style>\n",
       "<table border=\"1\" class=\"dataframe\">\n",
       "  <thead>\n",
       "    <tr style=\"text-align: right;\">\n",
       "      <th></th>\n",
       "      <th>text</th>\n",
       "      <th>sentiment</th>\n",
       "    </tr>\n",
       "  </thead>\n",
       "  <tbody>\n",
       "    <tr>\n",
       "      <th>0</th>\n",
       "      <td>Bug Juice changed my life. I Know it sounds st...</td>\n",
       "      <td>1</td>\n",
       "    </tr>\n",
       "    <tr>\n",
       "      <th>1</th>\n",
       "      <td>As many of today's movies are guilty of, the p...</td>\n",
       "      <td>1</td>\n",
       "    </tr>\n",
       "    <tr>\n",
       "      <th>2</th>\n",
       "      <td>This is one of the best movies I have ever see...</td>\n",
       "      <td>1</td>\n",
       "    </tr>\n",
       "    <tr>\n",
       "      <th>3</th>\n",
       "      <td>This movie took me by surprise. The opening cr...</td>\n",
       "      <td>1</td>\n",
       "    </tr>\n",
       "    <tr>\n",
       "      <th>4</th>\n",
       "      <td>I am salivating for the sequels. I needed some...</td>\n",
       "      <td>1</td>\n",
       "    </tr>\n",
       "  </tbody>\n",
       "</table>\n",
       "</div>"
      ],
      "text/plain": [
       "                                                text  sentiment\n",
       "0  Bug Juice changed my life. I Know it sounds st...          1\n",
       "1  As many of today's movies are guilty of, the p...          1\n",
       "2  This is one of the best movies I have ever see...          1\n",
       "3  This movie took me by surprise. The opening cr...          1\n",
       "4  I am salivating for the sequels. I needed some...          1"
      ]
     },
     "execution_count": 116,
     "metadata": {
      "tags": []
     },
     "output_type": "execute_result"
    }
   ],
   "source": [
    "test.head()"
   ]
  },
  {
   "cell_type": "markdown",
   "metadata": {
    "colab_type": "text",
    "id": "XMsPEhKNv9My"
   },
   "source": [
    "You should see the output like this:\n",
    "\n",
    "![](https://github.com/wshuyi/github_pub_img/raw/master/assets/2019-03-25-21-23-06-418103.png)"
   ]
  },
  {
   "cell_type": "code",
   "execution_count": 0,
   "metadata": {
    "colab": {
     "base_uri": "https://localhost:8080/",
     "height": 204
    },
    "colab_type": "code",
    "id": "TVOUQNtIsR0o",
    "outputId": "41f8d825-c450-42da-fcc7-f8b079e95db2"
   },
   "outputs": [
    {
     "data": {
      "text/html": [
       "<div>\n",
       "<style scoped>\n",
       "    .dataframe tbody tr th:only-of-type {\n",
       "        vertical-align: middle;\n",
       "    }\n",
       "\n",
       "    .dataframe tbody tr th {\n",
       "        vertical-align: top;\n",
       "    }\n",
       "\n",
       "    .dataframe thead th {\n",
       "        text-align: right;\n",
       "    }\n",
       "</style>\n",
       "<table border=\"1\" class=\"dataframe\">\n",
       "  <thead>\n",
       "    <tr style=\"text-align: right;\">\n",
       "      <th></th>\n",
       "      <th>text</th>\n",
       "      <th>sentiment</th>\n",
       "    </tr>\n",
       "  </thead>\n",
       "  <tbody>\n",
       "    <tr>\n",
       "      <th>995</th>\n",
       "      <td>This is my opinion of this movie, expressed in...</td>\n",
       "      <td>0</td>\n",
       "    </tr>\n",
       "    <tr>\n",
       "      <th>996</th>\n",
       "      <td>Why can't a movie be rated a zero? Or even a n...</td>\n",
       "      <td>0</td>\n",
       "    </tr>\n",
       "    <tr>\n",
       "      <th>997</th>\n",
       "      <td>The Gun is probably the worst film I've ever s...</td>\n",
       "      <td>0</td>\n",
       "    </tr>\n",
       "    <tr>\n",
       "      <th>998</th>\n",
       "      <td>If you are thinking of going to see this film ...</td>\n",
       "      <td>0</td>\n",
       "    </tr>\n",
       "    <tr>\n",
       "      <th>999</th>\n",
       "      <td>This movie was like a gathering of people that...</td>\n",
       "      <td>0</td>\n",
       "    </tr>\n",
       "  </tbody>\n",
       "</table>\n",
       "</div>"
      ],
      "text/plain": [
       "                                                  text  sentiment\n",
       "995  This is my opinion of this movie, expressed in...          0\n",
       "996  Why can't a movie be rated a zero? Or even a n...          0\n",
       "997  The Gun is probably the worst film I've ever s...          0\n",
       "998  If you are thinking of going to see this film ...          0\n",
       "999  This movie was like a gathering of people that...          0"
      ]
     },
     "execution_count": 117,
     "metadata": {
      "tags": []
     },
     "output_type": "execute_result"
    }
   ],
   "source": [
    "test.tail()"
   ]
  },
  {
   "cell_type": "markdown",
   "metadata": {
    "colab_type": "text",
    "id": "4Zf1RhB3wFMs"
   },
   "source": [
    "You should see the output like this:\n",
    "\n",
    "![](https://github.com/wshuyi/github_pub_img/raw/master/assets/2019-03-25-21-23-16-486933.png)"
   ]
  },
  {
   "cell_type": "markdown",
   "metadata": {
    "colab_type": "text",
    "id": "R7FJoBdhsR0z"
   },
   "source": [
    "## Classification with TextBlob"
   ]
  },
  {
   "cell_type": "markdown",
   "metadata": {
    "colab_type": "text",
    "id": "qASzg7UgwLZU"
   },
   "source": [
    "**Question 4: (30 points)**\n",
    "\n",
    "Use [textblob](https://textblob.readthedocs.io/en/dev/quickstart.html#sentiment-analysis) to do sentiment analysis on **test** data, and make a **`classification_report`** using the prediction result and real sentiment labels. (Hint: you can refer to [this link](https://scikit-learn.org/stable/modules/generated/sklearn.metrics.classification_report.html) for documentation.)\n",
    "\n",
    "\n",
    "\n",
    "\n",
    "\n",
    "\n"
   ]
  },
  {
   "cell_type": "code",
   "execution_count": 0,
   "metadata": {
    "colab": {},
    "colab_type": "code",
    "id": "tUOvoJQg0aQN"
   },
   "outputs": [],
   "source": [
    "# Todo: your code here\n",
    "from textblob import TextBlob\n"
   ]
  },
  {
   "cell_type": "code",
   "execution_count": 0,
   "metadata": {
    "colab": {},
    "colab_type": "code",
    "id": "UFqJFoc2xlCZ"
   },
   "outputs": [],
   "source": [
    "from textblob import TextBlob\n",
    "test_str = test.iloc[0].text\n",
    "blob = TextBlob(test_str); \n",
    "pred=[]\n",
    "df = test\n",
    "for i in range(len(df)):\n",
    "  test_str = df.iloc[i].text\n",
    "  blob = TextBlob(test_str); blob\n",
    "  a=blob.sentiment.polarity\n",
    "  if a <= 0:\n",
    "    pred.append(0)\n",
    "  else:\n",
    "    pred.append(1)"
   ]
  },
  {
   "cell_type": "code",
   "execution_count": 0,
   "metadata": {
    "colab": {
     "base_uri": "https://localhost:8080/",
     "height": 170
    },
    "colab_type": "code",
    "id": "SPBaxT4R0T9B",
    "outputId": "a61214fe-c9cd-4738-ffb9-4d671ae35e9f"
   },
   "outputs": [
    {
     "name": "stdout",
     "output_type": "stream",
     "text": [
      "              precision    recall  f1-score   support\n",
      "\n",
      "           0       0.91      0.43      0.59       500\n",
      "           1       0.63      0.96      0.76       500\n",
      "\n",
      "   micro avg       0.69      0.69      0.69      1000\n",
      "   macro avg       0.77      0.69      0.67      1000\n",
      "weighted avg       0.77      0.69      0.67      1000\n",
      "\n"
     ]
    }
   ],
   "source": [
    "from sklearn.metrics import classification_report\n",
    "test_x=test['sentiment']\n",
    "target_names=['0','1']\n",
    "print(classification_report(test_x,pred, target_names=target_names))"
   ]
  },
  {
   "cell_type": "markdown",
   "metadata": {
    "colab_type": "text",
    "id": "dL7EXDcqw5VZ"
   },
   "source": [
    "You should see the output like this:\n",
    "\n",
    "![](https://github.com/wshuyi/github_pub_img/raw/master/assets/2019-03-25-21-23-27-649327.png)"
   ]
  },
  {
   "cell_type": "markdown",
   "metadata": {
    "colab_type": "text",
    "id": "ZGgNaxOssR1I"
   },
   "source": [
    "## Classification with Scikit-learn"
   ]
  },
  {
   "cell_type": "markdown",
   "metadata": {
    "colab_type": "text",
    "id": "UVeSXOs3xbiJ"
   },
   "source": [
    "**Question 5: (40 points)**\n",
    "\n",
    "Train a [MultinomialNB Model](https://scikit-learn.org/stable/modules/generated/sklearn.naive_bayes.MultinomialNB.html) from Scikit-learn with the **train** data. Make sure you convert the text data into high dimensional (2000) vectors with [CountVectorizer](https://scikit-learn.org/stable/modules/generated/sklearn.feature_extraction.text.CountVectorizer.html), and using proper parameters to filter the tokens. Then do sentiment analysis on **test** data, and make a **`classification_report`** using the prediction result and real sentiment labels. (Hint: you can refer to [this link](https://scikit-learn.org/stable/modules/generated/sklearn.metrics.classification_report.html) for documentation.)\n",
    "\n",
    "\n",
    "\n",
    "\n",
    "\n",
    "\n"
   ]
  },
  {
   "cell_type": "code",
   "execution_count": 0,
   "metadata": {
    "colab": {
     "base_uri": "https://localhost:8080/",
     "height": 170
    },
    "colab_type": "code",
    "id": "U4SKVnQt5kHv",
    "outputId": "6d647cb8-1350-4acc-f0fb-0798b549a7ac"
   },
   "outputs": [
    {
     "name": "stdout",
     "output_type": "stream",
     "text": [
      "              precision    recall  f1-score   support\n",
      "\n",
      "           0       0.82      0.86      0.84       500\n",
      "           1       0.85      0.81      0.83       500\n",
      "\n",
      "   micro avg       0.84      0.84      0.84      1000\n",
      "   macro avg       0.84      0.84      0.84      1000\n",
      "weighted avg       0.84      0.84      0.84      1000\n",
      "\n"
     ]
    }
   ],
   "source": [
    "# Todo: your code here\n",
    "from sklearn.naive_bayes import MultinomialNB\n",
    "from sklearn.feature_extraction.text import CountVectorizer\n",
    "from sklearn.metrics import classification_report\n",
    "vect = CountVectorizer()\n",
    "vect.fit_transform(train.text)\n",
    "vect = CountVectorizer(stop_words='english', token_pattern =u'(?u)\\\\b[^\\\\d\\\\W]\\\\w+\\\\b', max_df=0.8, min_df=2, max_features=2000)\n",
    "vect.fit_transform(train.text)\n",
    "matrix = vect.fit_transform(train.text).toarray()\n",
    "headers = vect.get_feature_names()\n",
    "import pandas as pd\n",
    "term_matrix = pd.DataFrame(matrix, columns=headers)\n",
    "X_train = vect.fit_transform(train.text)\n",
    "y_train = train.sentiment\n",
    "nb = MultinomialNB()\n",
    "nb.fit(X_train, y_train)\n",
    "X_test = vect.transform(test.text)\n",
    "y_test = test.sentiment\n",
    "y_pred = nb.predict(X_test)\n",
    "from sklearn import metrics\n",
    "print(metrics.classification_report(y_test, y_pred))"
   ]
  },
  {
   "cell_type": "markdown",
   "metadata": {
    "colab_type": "text",
    "id": "kvTUJjs7yqr-"
   },
   "source": [
    "You should see the output like this:\n",
    "\n",
    "![](https://github.com/wshuyi/github_pub_img/raw/master/assets/2019-03-25-21-23-45-528500.png)"
   ]
  },
  {
   "cell_type": "code",
   "execution_count": 0,
   "metadata": {
    "colab": {},
    "colab_type": "code",
    "id": "VezgLVrfqFyW"
   },
   "outputs": [],
   "source": []
  },
  {
   "cell_type": "code",
   "execution_count": 0,
   "metadata": {
    "colab": {},
    "colab_type": "code",
    "id": "XDjhRrvjngvk"
   },
   "outputs": [],
   "source": []
  }
 ],
 "metadata": {
  "colab": {
   "collapsed_sections": [],
   "name": "Erasani_Classwork3",
   "provenance": [],
   "toc_visible": true,
   "version": "0.3.2"
  },
  "kernelspec": {
   "display_name": "Python 3",
   "language": "python",
   "name": "python3"
  },
  "language_info": {
   "codemirror_mode": {
    "name": "ipython",
    "version": 3
   },
   "file_extension": ".py",
   "mimetype": "text/x-python",
   "name": "python",
   "nbconvert_exporter": "python",
   "pygments_lexer": "ipython3",
   "version": "3.7.1"
  }
 },
 "nbformat": 4,
 "nbformat_minor": 1
}
