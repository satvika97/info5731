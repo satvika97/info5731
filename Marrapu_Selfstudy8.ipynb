{
 "cells": [
  {
   "cell_type": "code",
   "execution_count": 0,
   "metadata": {
    "colab": {},
    "colab_type": "code",
    "id": "VjmDuCH00KEh"
   },
   "outputs": [],
   "source": [
    "users = [\n",
    "{ \"id\": 0, \"name\": \"Hero\" },\n",
    "{ \"id\": 1, \"name\": \"Dunn\" },\n",
    "{ \"id\": 2, \"name\": \"Sue\" },\n",
    "{ \"id\": 3, \"name\": \"Chi\" },\n",
    "{ \"id\": 4, \"name\": \"Thor\" },\n",
    "{ \"id\": 5, \"name\": \"Clive\" },\n",
    "{ \"id\": 6, \"name\": \"Hicks\" },\n",
    "{ \"id\": 7, \"name\": \"Devin\" },\n",
    "{ \"id\": 8, \"name\": \"Kate\" },\n",
    "{ \"id\": 9, \"name\": \"Klein\" }\n",
    "]"
   ]
  },
  {
   "cell_type": "code",
   "execution_count": 0,
   "metadata": {
    "colab": {},
    "colab_type": "code",
    "id": "7UeNRS_mK-L3"
   },
   "outputs": [],
   "source": [
    "friendships = [(0, 1), (0, 2), (1, 2), (1, 3), (2, 3), (3, 4),\n",
    "(4, 5), (5, 6), (5, 7), (6, 8), (7, 8), (8, 9)]"
   ]
  },
  {
   "cell_type": "code",
   "execution_count": 0,
   "metadata": {
    "colab": {},
    "colab_type": "code",
    "id": "5tb6Jww6LAnz"
   },
   "outputs": [],
   "source": [
    "for user in users:\n",
    "    user[\"friends\"] = []"
   ]
  },
  {
   "cell_type": "code",
   "execution_count": 0,
   "metadata": {
    "colab": {},
    "colab_type": "code",
    "id": "pzZv8e4hLmBw"
   },
   "outputs": [],
   "source": [
    "for i, j in friendships:\n",
    "    # this works because users[i] is the user whose id is i\n",
    "    users[i][\"friends\"].append(users[j]) # add j as a friend of i\n",
    "    users[j][\"friends\"].append(users[i]) # add i as a friend of j"
   ]
  },
  {
   "cell_type": "code",
   "execution_count": 0,
   "metadata": {
    "colab": {},
    "colab_type": "code",
    "id": "Hc-_LY_dLuVM"
   },
   "outputs": [],
   "source": [
    "def number_of_friends(user):\n",
    "    \"\"\"how many friends does _user_ have?\"\"\"\n",
    "    return len(user[\"friends\"]) # length of friend_ids list\n",
    "  \n",
    "total_connections = sum(number_of_friends(user)\n",
    "    for user in users) # 24"
   ]
  },
  {
   "cell_type": "code",
   "execution_count": 0,
   "metadata": {
    "colab": {},
    "colab_type": "code",
    "id": "SxIdi4bmL4_p"
   },
   "outputs": [],
   "source": [
    "from __future__ import division # integer division is lame\n",
    "num_users = len(users) # length of the users list\n",
    "avg_connections = total_connections / num_users # 2.4"
   ]
  },
  {
   "cell_type": "code",
   "execution_count": 0,
   "metadata": {
    "colab": {
     "base_uri": "https://localhost:8080/",
     "height": 187
    },
    "colab_type": "code",
    "id": "vJfe2Q64L95w",
    "outputId": "d75511bc-f404-4ad0-e6be-90ce1da90a84"
   },
   "outputs": [
    {
     "data": {
      "text/plain": [
       "[(1, 3),\n",
       " (2, 3),\n",
       " (3, 3),\n",
       " (5, 3),\n",
       " (8, 3),\n",
       " (0, 2),\n",
       " (4, 2),\n",
       " (6, 2),\n",
       " (7, 2),\n",
       " (9, 1)]"
      ]
     },
     "execution_count": 13,
     "metadata": {
      "tags": []
     },
     "output_type": "execute_result"
    }
   ],
   "source": [
    "# create a list (user_id, number_of_friends)\n",
    "num_friends_by_id = [(user[\"id\"], number_of_friends(user))\n",
    "for user in users]\n",
    "\n",
    "sorted(num_friends_by_id, # get it sorted\n",
    "key=lambda (user_id, num_friends): num_friends, # by num_friends\n",
    "reverse=True) # largest to smallest\n",
    "\n",
    "# each pair is (user_id, num_friends)\n",
    "# [(1, 3), (2, 3), (3, 3), (5, 3), (8, 3),\n",
    "# (0, 2), (4, 2), (6, 2), (7, 2), (9, 1)]"
   ]
  },
  {
   "cell_type": "code",
   "execution_count": 0,
   "metadata": {
    "colab": {},
    "colab_type": "code",
    "id": "fu0BwvD9MAm-"
   },
   "outputs": [],
   "source": [
    "def friends_of_friend_ids_bad(user):\n",
    "    # \"foaf\" is short for \"friend of a friend\"\n",
    "    return [foaf[\"id\"]\n",
    "            for friend in user[\"friends\"] # for each of user's friends\n",
    "            for foaf in friend[\"friends\"]] # get each of _their_ friends"
   ]
  },
  {
   "cell_type": "code",
   "execution_count": 0,
   "metadata": {
    "colab": {
     "base_uri": "https://localhost:8080/",
     "height": 2145
    },
    "colab_type": "code",
    "id": "L_uCCKm-Oyby",
    "outputId": "5126c2d9-339d-4dba-a726-87de29a4e311"
   },
   "outputs": [
    {
     "data": {
      "text/plain": [
       "{'friends': [{'friends': [{...},\n",
       "    {'friends': [{...},\n",
       "      {...},\n",
       "      {'friends': [{...},\n",
       "        {...},\n",
       "        {'friends': [{...},\n",
       "          {'friends': [{...},\n",
       "            {'friends': [{...},\n",
       "              {'friends': [{...},\n",
       "                {'friends': [{...}, {...}], 'id': 7, 'name': 'Devin'},\n",
       "                {'friends': [{...}], 'id': 9, 'name': 'Klein'}],\n",
       "               'id': 8,\n",
       "               'name': 'Kate'}],\n",
       "             'id': 6,\n",
       "             'name': 'Hicks'},\n",
       "            {'friends': [{...},\n",
       "              {'friends': [{'friends': [{...}, {...}],\n",
       "                 'id': 6,\n",
       "                 'name': 'Hicks'},\n",
       "                {...},\n",
       "                {'friends': [{...}], 'id': 9, 'name': 'Klein'}],\n",
       "               'id': 8,\n",
       "               'name': 'Kate'}],\n",
       "             'id': 7,\n",
       "             'name': 'Devin'}],\n",
       "           'id': 5,\n",
       "           'name': 'Clive'}],\n",
       "         'id': 4,\n",
       "         'name': 'Thor'}],\n",
       "       'id': 3,\n",
       "       'name': 'Chi'}],\n",
       "     'id': 2,\n",
       "     'name': 'Sue'},\n",
       "    {'friends': [{...},\n",
       "      {'friends': [{...}, {...}, {...}], 'id': 2, 'name': 'Sue'},\n",
       "      {'friends': [{...},\n",
       "        {'friends': [{...},\n",
       "          {'friends': [{...},\n",
       "            {'friends': [{...},\n",
       "              {'friends': [{...}, {...}], 'id': 7, 'name': 'Devin'},\n",
       "              {'friends': [{...}], 'id': 9, 'name': 'Klein'}],\n",
       "             'id': 8,\n",
       "             'name': 'Kate'}],\n",
       "           'id': 6,\n",
       "           'name': 'Hicks'},\n",
       "          {'friends': [{...},\n",
       "            {'friends': [{'friends': [{...}, {...}], 'id': 6, 'name': 'Hicks'},\n",
       "              {...},\n",
       "              {'friends': [{...}], 'id': 9, 'name': 'Klein'}],\n",
       "             'id': 8,\n",
       "             'name': 'Kate'}],\n",
       "           'id': 7,\n",
       "           'name': 'Devin'}],\n",
       "         'id': 5,\n",
       "         'name': 'Clive'}],\n",
       "       'id': 4,\n",
       "       'name': 'Thor'}],\n",
       "     'id': 3,\n",
       "     'name': 'Chi'}],\n",
       "   'id': 1,\n",
       "   'name': 'Dunn'},\n",
       "  {'friends': [{...},\n",
       "    {'friends': [{...},\n",
       "      {...},\n",
       "      {'friends': [{...},\n",
       "        {...},\n",
       "        {'friends': [{...},\n",
       "          {'friends': [{...},\n",
       "            {'friends': [{...},\n",
       "              {'friends': [{...},\n",
       "                {'friends': [{...}, {...}], 'id': 7, 'name': 'Devin'},\n",
       "                {'friends': [{...}], 'id': 9, 'name': 'Klein'}],\n",
       "               'id': 8,\n",
       "               'name': 'Kate'}],\n",
       "             'id': 6,\n",
       "             'name': 'Hicks'},\n",
       "            {'friends': [{...},\n",
       "              {'friends': [{'friends': [{...}, {...}],\n",
       "                 'id': 6,\n",
       "                 'name': 'Hicks'},\n",
       "                {...},\n",
       "                {'friends': [{...}], 'id': 9, 'name': 'Klein'}],\n",
       "               'id': 8,\n",
       "               'name': 'Kate'}],\n",
       "             'id': 7,\n",
       "             'name': 'Devin'}],\n",
       "           'id': 5,\n",
       "           'name': 'Clive'}],\n",
       "         'id': 4,\n",
       "         'name': 'Thor'}],\n",
       "       'id': 3,\n",
       "       'name': 'Chi'}],\n",
       "     'id': 1,\n",
       "     'name': 'Dunn'},\n",
       "    {'friends': [{'friends': [{...}, {...}, {...}], 'id': 1, 'name': 'Dunn'},\n",
       "      {...},\n",
       "      {'friends': [{...},\n",
       "        {'friends': [{...},\n",
       "          {'friends': [{...},\n",
       "            {'friends': [{...},\n",
       "              {'friends': [{...}, {...}], 'id': 7, 'name': 'Devin'},\n",
       "              {'friends': [{...}], 'id': 9, 'name': 'Klein'}],\n",
       "             'id': 8,\n",
       "             'name': 'Kate'}],\n",
       "           'id': 6,\n",
       "           'name': 'Hicks'},\n",
       "          {'friends': [{...},\n",
       "            {'friends': [{'friends': [{...}, {...}], 'id': 6, 'name': 'Hicks'},\n",
       "              {...},\n",
       "              {'friends': [{...}], 'id': 9, 'name': 'Klein'}],\n",
       "             'id': 8,\n",
       "             'name': 'Kate'}],\n",
       "           'id': 7,\n",
       "           'name': 'Devin'}],\n",
       "         'id': 5,\n",
       "         'name': 'Clive'}],\n",
       "       'id': 4,\n",
       "       'name': 'Thor'}],\n",
       "     'id': 3,\n",
       "     'name': 'Chi'}],\n",
       "   'id': 2,\n",
       "   'name': 'Sue'}],\n",
       " 'id': 0,\n",
       " 'name': 'Hero'}"
      ]
     },
     "execution_count": 15,
     "metadata": {
      "tags": []
     },
     "output_type": "execute_result"
    }
   ],
   "source": [
    "users[0]"
   ]
  },
  {
   "cell_type": "code",
   "execution_count": 0,
   "metadata": {
    "colab": {
     "base_uri": "https://localhost:8080/",
     "height": 68
    },
    "colab_type": "code",
    "id": "G4SSAP0dMHxh",
    "outputId": "410f3da9-a162-4ecc-ab1e-437748702853"
   },
   "outputs": [
    {
     "name": "stdout",
     "output_type": "stream",
     "text": [
      "[1, 2]\n",
      "[0, 2, 3]\n",
      "[0, 1, 3]\n"
     ]
    }
   ],
   "source": [
    "print [friend[\"id\"] for friend in users[0][\"friends\"]] # [1, 2]\n",
    "print [friend[\"id\"] for friend in users[1][\"friends\"]] # [0, 2, 3]\n",
    "print [friend[\"id\"] for friend in users[2][\"friends\"]] # [0, 1, 3]"
   ]
  },
  {
   "cell_type": "code",
   "execution_count": 0,
   "metadata": {
    "colab": {
     "base_uri": "https://localhost:8080/",
     "height": 34
    },
    "colab_type": "code",
    "id": "Q8AFgZkyMMdk",
    "outputId": "e246b456-953d-4930-c7ef-2d02e6e8379b"
   },
   "outputs": [
    {
     "name": "stdout",
     "output_type": "stream",
     "text": [
      "Counter({0: 2, 5: 1})\n"
     ]
    }
   ],
   "source": [
    "from collections import Counter # not loaded by default\n",
    "\n",
    "def not_the_same(user, other_user):\n",
    "    \"\"\"two users are not the same if they have different ids\"\"\"\n",
    "    return user[\"id\"] != other_user[\"id\"]\n",
    "  \n",
    "def not_friends(user, other_user):\n",
    "    \"\"\"other_user is not a friend if he's not in user[\"friends\"];\n",
    "    that is, if he's not_the_same as all the people in user[\"friends\"]\"\"\"\n",
    "    return all(not_the_same(friend, other_user)\n",
    "                for friend in user[\"friends\"])\n",
    "  \n",
    "def friends_of_friend_ids(user):\n",
    "    return Counter(foaf[\"id\"]\n",
    "                    for friend in user[\"friends\"] # for each of my friends\n",
    "                    for foaf in friend[\"friends\"] # count *their* friends\n",
    "                    if not_the_same(user, foaf) # who aren't me\n",
    "                    and not_friends(user, foaf)) # and aren't my friends\n",
    "\n",
    "print friends_of_friend_ids(users[3]) # Counter({0: 2, 5: 1})"
   ]
  },
  {
   "cell_type": "code",
   "execution_count": 0,
   "metadata": {
    "colab": {},
    "colab_type": "code",
    "id": "TbFsAMmjM3np"
   },
   "outputs": [],
   "source": [
    "interests = [\n",
    "(0, \"Hadoop\"), (0, \"Big Data\"), (0, \"HBase\"), (0, \"Java\"),\n",
    "(0, \"Spark\"), (0, \"Storm\"), (0, \"Cassandra\"),\n",
    "(1, \"NoSQL\"), (1, \"MongoDB\"), (1, \"Cassandra\"), (1, \"HBase\"),\n",
    "(1, \"Postgres\"), (2, \"Python\"), (2, \"scikit-learn\"), (2, \"scipy\"),\n",
    "(2, \"numpy\"), (2, \"statsmodels\"), (2, \"pandas\"), (3, \"R\"), (3, \"Python\"),\n",
    "(3, \"statistics\"), (3, \"regression\"), (3, \"probability\"),\n",
    "(4, \"machine learning\"), (4, \"regression\"), (4, \"decision trees\"),\n",
    "(4, \"libsvm\"), (5, \"Python\"), (5, \"R\"), (5, \"Java\"), (5, \"C++\"),\n",
    "(5, \"Haskell\"), (5, \"programming languages\"), (6, \"statistics\"),\n",
    "(6, \"probability\"), (6, \"mathematics\"), (6, \"theory\"),\n",
    "(7, \"machine learning\"), (7, \"scikit-learn\"), (7, \"Mahout\"),\n",
    "(7, \"neural networks\"), (8, \"neural networks\"), (8, \"deep learning\"),\n",
    "(8, \"Big Data\"), (8, \"artificial intelligence\"), (9, \"Hadoop\"),\n",
    "(9, \"Java\"), (9, \"MapReduce\"), (9, \"Big Data\")\n",
    "]"
   ]
  },
  {
   "cell_type": "code",
   "execution_count": 0,
   "metadata": {
    "colab": {},
    "colab_type": "code",
    "id": "w-6naCRbM847"
   },
   "outputs": [],
   "source": [
    "def data_scientists_who_like(target_interest):\n",
    "    return [user_id\n",
    "            for user_id, user_interest in interests\n",
    "            if user_interest == target_interest]"
   ]
  },
  {
   "cell_type": "code",
   "execution_count": 0,
   "metadata": {
    "colab": {},
    "colab_type": "code",
    "id": "XV8pUfEvND5i"
   },
   "outputs": [],
   "source": [
    "from collections import defaultdict\n",
    "\n",
    "# keys are interests, values are lists of user_ids with that interest\n",
    "user_ids_by_interest = defaultdict(list)\n",
    "\n",
    "for user_id, interest in interests:\n",
    "    user_ids_by_interest[interest].append(user_id)"
   ]
  },
  {
   "cell_type": "code",
   "execution_count": 0,
   "metadata": {
    "colab": {},
    "colab_type": "code",
    "id": "7uW9vLmBNKPH"
   },
   "outputs": [],
   "source": [
    "# keys are user_ids, values are lists of interests for that user_id\n",
    "interests_by_user_id = defaultdict(list)"
   ]
  },
  {
   "cell_type": "code",
   "execution_count": 0,
   "metadata": {
    "colab": {},
    "colab_type": "code",
    "id": "dTDF5kQKNPLU"
   },
   "outputs": [],
   "source": [
    "for user_id, interest in interests:\n",
    "    interests_by_user_id[user_id].append(interest)"
   ]
  },
  {
   "cell_type": "code",
   "execution_count": 0,
   "metadata": {
    "colab": {},
    "colab_type": "code",
    "id": "B43YujC3NQ3L"
   },
   "outputs": [],
   "source": [
    "def most_common_interests_with(user):\n",
    "    return Counter(interested_user_id\n",
    "        for interest in interests_by_user_id[user[\"id\"]]\n",
    "        for interested_user_id in user_ids_by_interest[interest]\n",
    "        if interested_user_id != user[\"id\"])"
   ]
  },
  {
   "cell_type": "code",
   "execution_count": 0,
   "metadata": {
    "colab": {},
    "colab_type": "code",
    "id": "dIBX1cWWNZwE"
   },
   "outputs": [],
   "source": [
    "salaries_and_tenures = [(83000, 8.7), (88000, 8.1),\n",
    "(48000, 0.7), (76000, 6),\n",
    "(69000, 6.5), (76000, 7.5),\n",
    "(60000, 2.5), (83000, 10),\n",
    "(48000, 1.9), (63000, 4.2)]"
   ]
  },
  {
   "cell_type": "code",
   "execution_count": 0,
   "metadata": {
    "colab": {},
    "colab_type": "code",
    "id": "FhcrTioRNfE2"
   },
   "outputs": [],
   "source": [
    "# keys are years, values are lists of the salaries for each tenure\n",
    "salary_by_tenure = defaultdict(list)\n",
    "\n",
    "for salary, tenure in salaries_and_tenures:\n",
    "    salary_by_tenure[tenure].append(salary)\n",
    "    \n",
    "# keys are years, each value is average salary for that tenure\n",
    "average_salary_by_tenure = {\n",
    "    tenure : sum(salaries) / len(salaries)\n",
    "    for tenure, salaries in salary_by_tenure.items()\n",
    "    }"
   ]
  },
  {
   "cell_type": "code",
   "execution_count": 0,
   "metadata": {
    "colab": {
     "base_uri": "https://localhost:8080/",
     "height": 204
    },
    "colab_type": "code",
    "id": "0Fk4j_NNPLO8",
    "outputId": "aa0f1b9e-3647-471e-ea85-c529fa8c0dd0"
   },
   "outputs": [
    {
     "data": {
      "text/plain": [
       "defaultdict(list,\n",
       "            {0.7: [48000],\n",
       "             1.9: [48000],\n",
       "             2.5: [60000],\n",
       "             4.2: [63000],\n",
       "             6: [76000],\n",
       "             6.5: [69000],\n",
       "             7.5: [76000],\n",
       "             8.1: [88000],\n",
       "             8.7: [83000],\n",
       "             10: [83000]})"
      ]
     },
     "execution_count": 26,
     "metadata": {
      "tags": []
     },
     "output_type": "execute_result"
    }
   ],
   "source": [
    "salary_by_tenure"
   ]
  },
  {
   "cell_type": "code",
   "execution_count": 0,
   "metadata": {
    "colab": {},
    "colab_type": "code",
    "id": "Sr3iEvkoNp_I"
   },
   "outputs": [],
   "source": [
    "def tenure_bucket(tenure):\n",
    "    if tenure < 2:\n",
    "        return \"less than two\"\n",
    "    elif tenure < 5:\n",
    "        return \"between two and five\"\n",
    "    else:\n",
    "        return \"more than five\""
   ]
  },
  {
   "cell_type": "code",
   "execution_count": 0,
   "metadata": {
    "colab": {},
    "colab_type": "code",
    "id": "2VNAHExwNy2-"
   },
   "outputs": [],
   "source": [
    "# keys are tenure buckets, values are lists of salaries for that bucket\n",
    "salary_by_tenure_bucket = defaultdict(list)\n",
    "\n",
    "for salary, tenure in salaries_and_tenures:\n",
    "    bucket = tenure_bucket(tenure)\n",
    "    salary_by_tenure_bucket[bucket].append(salary)"
   ]
  },
  {
   "cell_type": "code",
   "execution_count": 0,
   "metadata": {
    "colab": {},
    "colab_type": "code",
    "id": "q99ELtXtN4SL"
   },
   "outputs": [],
   "source": [
    "# keys are tenure buckets, values are average salary for that bucket\n",
    "average_salary_by_bucket = {\n",
    "  tenure_bucket : sum(salaries) / len(salaries)\n",
    "  for tenure_bucket, salaries in salary_by_tenure_bucket.iteritems()\n",
    "}"
   ]
  },
  {
   "cell_type": "code",
   "execution_count": 0,
   "metadata": {
    "colab": {
     "base_uri": "https://localhost:8080/",
     "height": 68
    },
    "colab_type": "code",
    "id": "fNci7Wp9PQeh",
    "outputId": "7cfe0d21-e69f-45a0-ee81-4ac398775ab1"
   },
   "outputs": [
    {
     "data": {
      "text/plain": [
       "{'between two and five': 61500.0,\n",
       " 'less than two': 48000.0,\n",
       " 'more than five': 79166.66666666667}"
      ]
     },
     "execution_count": 30,
     "metadata": {
      "tags": []
     },
     "output_type": "execute_result"
    }
   ],
   "source": [
    "average_salary_by_bucket"
   ]
  },
  {
   "cell_type": "code",
   "execution_count": 0,
   "metadata": {
    "colab": {},
    "colab_type": "code",
    "id": "SwI3vy3uN9CO"
   },
   "outputs": [],
   "source": [
    "def predict_paid_or_unpaid(years_experience):\n",
    "  if years_experience < 3.0:\n",
    "    return \"paid\"\n",
    "  elif years_experience < 8.5:\n",
    "    return \"unpaid\"\n",
    "  else:\n",
    "    return \"paid\""
   ]
  },
  {
   "cell_type": "code",
   "execution_count": 0,
   "metadata": {
    "colab": {
     "base_uri": "https://localhost:8080/",
     "height": 34
    },
    "colab_type": "code",
    "id": "hjkJEllnPWVi",
    "outputId": "50334b90-9a0f-4f1e-c0a9-697cc1fc7352"
   },
   "outputs": [
    {
     "data": {
      "text/plain": [
       "<function __main__.predict_paid_or_unpaid>"
      ]
     },
     "execution_count": 32,
     "metadata": {
      "tags": []
     },
     "output_type": "execute_result"
    }
   ],
   "source": [
    "predict_paid_or_unpaid"
   ]
  },
  {
   "cell_type": "code",
   "execution_count": 0,
   "metadata": {
    "colab": {},
    "colab_type": "code",
    "id": "v0J8-AT2OAIS"
   },
   "outputs": [],
   "source": [
    "interests = [\n",
    "(0, \"Hadoop\"), (0, \"Big Data\"), (0, \"HBase\"), (0, \"Java\"),\n",
    "(0, \"Spark\"), (0, \"Storm\"), (0, \"Cassandra\"),\n",
    "(1, \"NoSQL\"), (1, \"MongoDB\"), (1, \"Cassandra\"), (1, \"HBase\"),\n",
    "(1, \"Postgres\"), (2, \"Python\"), (2, \"scikit-learn\"), (2, \"scipy\"),\n",
    "(2, \"numpy\"), (2, \"statsmodels\"), (2, \"pandas\"), (3, \"R\"), (3, \"Python\"),\n",
    "(3, \"statistics\"), (3, \"regression\"), (3, \"probability\"),\n",
    "(4, \"machine learning\"), (4, \"regression\"), (4, \"decision trees\"),\n",
    "(4, \"libsvm\"), (5, \"Python\"), (5, \"R\"), (5, \"Java\"), (5, \"C++\"),\n",
    "(5, \"Haskell\"), (5, \"programming languages\"), (6, \"statistics\"),\n",
    "(6, \"probability\"), (6, \"mathematics\"), (6, \"theory\"),\n",
    "(7, \"machine learning\"), (7, \"scikit-learn\"), (7, \"Mahout\"),\n",
    "(7, \"neural networks\"), (8, \"neural networks\"), (8, \"deep learning\"),\n",
    "(8, \"Big Data\"), (8, \"artificial intelligence\"), (9, \"Hadoop\"),\n",
    "(9, \"Java\"), (9, \"MapReduce\"), (9, \"Big Data\")\n",
    "]"
   ]
  },
  {
   "cell_type": "code",
   "execution_count": 0,
   "metadata": {
    "colab": {},
    "colab_type": "code",
    "id": "2Z1eJf4GONdk"
   },
   "outputs": [],
   "source": [
    "words_and_counts = Counter(word\n",
    "                            for user, interest in interests\n",
    "                            for word in interest.lower().split())"
   ]
  },
  {
   "cell_type": "code",
   "execution_count": 0,
   "metadata": {
    "colab": {
     "base_uri": "https://localhost:8080/",
     "height": 289
    },
    "colab_type": "code",
    "id": "K6AxUi5EOYq-",
    "outputId": "1ef9b8db-1bf3-40c9-ee26-bea69e0721b8"
   },
   "outputs": [
    {
     "name": "stdout",
     "output_type": "stream",
     "text": [
      "learning 3\n",
      "java 3\n",
      "python 3\n",
      "big 3\n",
      "data 3\n",
      "hbase 2\n",
      "regression 2\n",
      "cassandra 2\n",
      "statistics 2\n",
      "probability 2\n",
      "hadoop 2\n",
      "networks 2\n",
      "machine 2\n",
      "neural 2\n",
      "scikit-learn 2\n",
      "r 2\n"
     ]
    }
   ],
   "source": [
    "for word, count in words_and_counts.most_common():\n",
    "    if count > 1:\n",
    "        print word, count"
   ]
  },
  {
   "cell_type": "markdown",
   "metadata": {
    "colab_type": "text",
    "id": "rCoifIAfPiHX"
   },
   "source": [
    "Ch.3 Visualizing Data "
   ]
  },
  {
   "cell_type": "code",
   "execution_count": 0,
   "metadata": {
    "colab": {},
    "colab_type": "code",
    "id": "8nAE2mz1PgMy"
   },
   "outputs": [],
   "source": [
    "from matplotlib import pyplot as plt"
   ]
  },
  {
   "cell_type": "code",
   "execution_count": 0,
   "metadata": {
    "colab": {
     "base_uri": "https://localhost:8080/",
     "height": 362
    },
    "colab_type": "code",
    "id": "tOcbB77jOezg",
    "outputId": "33d14886-3abc-4831-f4d5-8d78831218ce"
   },
   "outputs": [
    {
     "data": {
      "image/png": "[encoded data removed]",
      "text/plain": [
       "<Figure size 576x396 with 1 Axes>"
      ]
     },
     "metadata": {
      "tags": []
     },
     "output_type": "display_data"
    }
   ],
   "source": [
    "years = [1950, 1960, 1970, 1980, 1990, 2000, 2010]\n",
    "gdp = [300.2, 543.3, 1075.9, 2862.5, 5979.6, 10289.7, 14958.3]\n",
    "# create a line chart, years on x-axis, gdp on y-axis\n",
    "plt.plot(years, gdp, color='green', marker='o', linestyle='solid')\n",
    "# add a title\n",
    "plt.title(\"Nominal GDP\")\n",
    "# add a label to the y-axis\n",
    "plt.ylabel(\"Billions of $\")\n",
    "plt.show()"
   ]
  },
  {
   "cell_type": "code",
   "execution_count": 0,
   "metadata": {
    "colab": {
     "base_uri": "https://localhost:8080/",
     "height": 362
    },
    "colab_type": "code",
    "id": "SjwhwGg4R6HT",
    "outputId": "3ef872e6-03d8-4f15-a938-7fe163077499"
   },
   "outputs": [
    {
     "data": {
      "image/png": "[encoded data removed]",
      "text/plain": [
       "<Figure size 576x396 with 1 Axes>"
      ]
     },
     "metadata": {
      "tags": []
     },
     "output_type": "display_data"
    }
   ],
   "source": [
    "movies = [\"Annie Hall\", \"Ben-Hur\", \"Casablanca\", \"Gandhi\", \"West Side Story\"]\n",
    "num_oscars = [5, 11, 3, 8, 10]\n",
    "# bars are by default width 0.8, so we'll add 0.1 to the left coordinates\n",
    "# so that each bar is centered\n",
    "xs = [i + 0.1 for i, _ in enumerate(movies)]\n",
    "# plot bars with left x-coordinates [xs], heights [num_oscars]\n",
    "plt.bar(xs, num_oscars)\n",
    "plt.ylabel(\"# of Academy Awards\")\n",
    "plt.title(\"My Favorite Movies\")\n",
    "# label x-axis with movie names at bar centers\n",
    "plt.xticks([i + 0.5 for i, _ in enumerate(movies)], movies)\n",
    "plt.show()"
   ]
  },
  {
   "cell_type": "code",
   "execution_count": 0,
   "metadata": {
    "colab": {
     "base_uri": "https://localhost:8080/",
     "height": 376
    },
    "colab_type": "code",
    "id": "Q4xo07vyR_M6",
    "outputId": "cd30a16e-334f-47e1-f757-1719fec95c0b"
   },
   "outputs": [
    {
     "data": {
      "image/png": "[encoded data removed]",
      "text/plain": [
       "<Figure size 576x396 with 1 Axes>"
      ]
     },
     "metadata": {
      "tags": []
     },
     "output_type": "display_data"
    }
   ],
   "source": [
    "from collections import Counter\n",
    "grades = [83,95,91,87,70,0,85,82,100,67,73,77,0]\n",
    "decile = lambda grade: grade // 10 * 10\n",
    "histogram = Counter(decile(grade) for grade in grades)\n",
    "plt.bar([x - 4 for x in histogram.keys()], # shift each bar to the left by 4\n",
    "histogram.values(), # give each bar its correct height\n",
    "8) # give each bar a width of 8\n",
    "plt.axis([-5, 105, 0, 5]) # x-axis from -5 to 105,\n",
    "# y-axis from 0 to 5\n",
    "plt.xticks([10 * i for i in range(11)]) # x-axis labels at 0, 10, ..., 100\n",
    "plt.xlabel(\"Decile\")\n",
    "plt.ylabel(\"# of Students\")\n",
    "plt.title(\"Distribution of Exam 1 Grades\")\n",
    "plt.show()"
   ]
  },
  {
   "cell_type": "code",
   "execution_count": 0,
   "metadata": {
    "colab": {
     "base_uri": "https://localhost:8080/",
     "height": 362
    },
    "colab_type": "code",
    "id": "ErX0yGikSBlt",
    "outputId": "526e0a4f-ada1-4b66-b89d-5c72b4ba2b39"
   },
   "outputs": [
    {
     "data": {
      "image/png": "[encoded data removed]",
      "text/plain": [
       "<Figure size 576x396 with 1 Axes>"
      ]
     },
     "metadata": {
      "tags": []
     },
     "output_type": "display_data"
    }
   ],
   "source": [
    "mentions = [500, 505]\n",
    "years = [2013, 2014]\n",
    "plt.bar([2012.6, 2013.6], mentions, 0.8)\n",
    "plt.xticks(years)\n",
    "plt.ylabel(\"# of times I heard someone say 'data science'\")\n",
    "# if you don't do this, matplotlib will label the x-axis 0, 1\n",
    "# and then add a +2.013e3 off in the corner (bad matplotlib!)\n",
    "plt.ticklabel_format(useOffset=False)\n",
    "# misleading y-axis only shows the part above 500\n",
    "plt.axis([2012.5,2014.5,499,506])\n",
    "plt.title(\"Look at the 'Huge' Increase!\")\n",
    "plt.show()"
   ]
  },
  {
   "cell_type": "code",
   "execution_count": 0,
   "metadata": {
    "colab": {
     "base_uri": "https://localhost:8080/",
     "height": 362
    },
    "colab_type": "code",
    "id": "yIXLhpitSSqT",
    "outputId": "99dfbfd9-5f9d-493b-f684-0f134da95b88"
   },
   "outputs": [
    {
     "data": {
      "image/png": "[encoded data removed]",
      "text/plain": [
       "<Figure size 576x396 with 1 Axes>"
      ]
     },
     "metadata": {
      "tags": []
     },
     "output_type": "display_data"
    }
   ],
   "source": [
    "mentions = [500, 505]\n",
    "years = [2013, 2014]\n",
    "plt.bar([2012.6, 2013.6], mentions, 0.8)\n",
    "plt.xticks(years)\n",
    "plt.ylabel(\"# of times I heard someone say 'data science'\")\n",
    "# if you don't do this, matplotlib will label the x-axis 0, 1\n",
    "# and then add a +2.013e3 off in the corner (bad matplotlib!)\n",
    "plt.ticklabel_format(useOffset=False)\n",
    "plt.axis([2012.5,2014.5,0,550])\n",
    "plt.title(\"Not So Huge Anymore\")\n",
    "plt.show()"
   ]
  },
  {
   "cell_type": "code",
   "execution_count": 0,
   "metadata": {
    "colab": {
     "base_uri": "https://localhost:8080/",
     "height": 376
    },
    "colab_type": "code",
    "id": "-yvUluNfSV2F",
    "outputId": "ddbdcefd-1a6d-4735-d30a-a4923feaed90"
   },
   "outputs": [
    {
     "data": {
      "image/png": "[encoded data removed]",
      "text/plain": [
       "<Figure size 576x396 with 1 Axes>"
      ]
     },
     "metadata": {
      "tags": []
     },
     "output_type": "display_data"
    }
   ],
   "source": [
    "variance = [1, 2, 4, 8, 16, 32, 64, 128, 256]\n",
    "bias_squared = [256, 128, 64, 32, 16, 8, 4, 2, 1]\n",
    "total_error = [x + y for x, y in zip(variance, bias_squared)]\n",
    "xs = [i for i, _ in enumerate(variance)]\n",
    "# we can make multiple calls to plt.plot\n",
    "# to show multiple series on the same chart\n",
    "plt.plot(xs, variance, 'g-', label='variance') # green solid line\n",
    "plt.plot(xs, bias_squared, 'r-.', label='bias^2') # red dot-dashed line\n",
    "plt.plot(xs, total_error, 'b:', label='total error') # blue dotted line\n",
    "# because we've assigned labels to each series\n",
    "# we can get a legend for free\n",
    "# loc=9 means \"top center\"\n",
    "plt.legend(loc=9)\n",
    "plt.xlabel(\"model complexity\")\n",
    "plt.title(\"The Bias-Variance Tradeoff\")\n",
    "plt.show()"
   ]
  },
  {
   "cell_type": "code",
   "execution_count": 0,
   "metadata": {
    "colab": {
     "base_uri": "https://localhost:8080/",
     "height": 376
    },
    "colab_type": "code",
    "id": "wfkiG4e7Si_W",
    "outputId": "b3bd87da-30c8-464c-9b9e-f73a2b62555e"
   },
   "outputs": [
    {
     "data": {
      "image/png": "[encoded data removed]",
      "text/plain": [
       "<Figure size 576x396 with 1 Axes>"
      ]
     },
     "metadata": {
      "tags": []
     },
     "output_type": "display_data"
    }
   ],
   "source": [
    "friends = [ 70, 65, 72, 63, 71, 64, 60, 64, 67]\n",
    "minutes = [175, 170, 205, 120, 220, 130, 105, 145, 190]\n",
    "labels = ['a', 'b', 'c', 'd', 'e', 'f', 'g', 'h', 'i']\n",
    "\n",
    "plt.scatter(friends, minutes)\n",
    "\n",
    "# label each point\n",
    "for label, friend_count, minute_count in zip(labels, friends, minutes):\n",
    "    plt.annotate(label,\n",
    "                 xy=(friend_count, minute_count), # put the label with its point\n",
    "                 xytext=(5, -5), # but slightly offset\n",
    "                 textcoords='offset points')\n",
    "    \n",
    "plt.title(\"Daily Minutes vs. Number of Friends\")\n",
    "plt.xlabel(\"# of friends\")\n",
    "plt.ylabel(\"daily minutes spent on the site\")\n",
    "plt.show()"
   ]
  },
  {
   "cell_type": "code",
   "execution_count": 0,
   "metadata": {
    "colab": {
     "base_uri": "https://localhost:8080/",
     "height": 376
    },
    "colab_type": "code",
    "id": "jrIJINhkSnfw",
    "outputId": "d4d988af-51d3-4764-b209-047bc80e8e5e"
   },
   "outputs": [
    {
     "data": {
      "image/png": "[encoded data removed]",
      "text/plain": [
       "<Figure size 576x396 with 1 Axes>"
      ]
     },
     "metadata": {
      "tags": []
     },
     "output_type": "display_data"
    }
   ],
   "source": [
    "test_1_grades = [ 99, 90, 85, 97, 80]\n",
    "test_2_grades = [100, 85, 60, 90, 70]\n",
    "plt.scatter(test_1_grades, test_2_grades)\n",
    "plt.title(\"Axes Aren't Comparable\")\n",
    "plt.xlabel(\"test 1 grade\")\n",
    "plt.ylabel(\"test 2 grade\")\n",
    "plt.show()"
   ]
  },
  {
   "cell_type": "code",
   "execution_count": 0,
   "metadata": {
    "colab": {
     "base_uri": "https://localhost:8080/",
     "height": 376
    },
    "colab_type": "code",
    "id": "F_a2dbB6S4C3",
    "outputId": "538e3929-f933-486a-a66b-36f69cc864de"
   },
   "outputs": [
    {
     "data": {
      "image/png": "[encoded data removed]",
      "text/plain": [
       "<Figure size 576x396 with 1 Axes>"
      ]
     },
     "metadata": {
      "tags": []
     },
     "output_type": "display_data"
    }
   ],
   "source": [
    "test_1_grades = [ 99, 90, 85, 97, 80]\n",
    "test_2_grades = [100, 85, 60, 90, 70]\n",
    "plt.scatter(test_1_grades, test_2_grades)\n",
    "plt.axis(\"equal\")\n",
    "plt.title(\"Axes Aren't Comparable\")\n",
    "plt.xlabel(\"test 1 grade\")\n",
    "plt.ylabel(\"test 2 grade\")\n",
    "plt.show()"
   ]
  },
  {
   "cell_type": "code",
   "execution_count": 0,
   "metadata": {
    "colab": {},
    "colab_type": "code",
    "id": "h9cUItpqS_rw"
   },
   "outputs": [],
   "source": [
    "height_weight_age = [70, # inches,\n",
    "170, # pounds,\n",
    "40 ] # years\n",
    "grades = [95, # exam1\n",
    "80, # exam2\n",
    "75, # exam3\n",
    "62 ] # exam4"
   ]
  },
  {
   "cell_type": "code",
   "execution_count": 0,
   "metadata": {
    "colab": {},
    "colab_type": "code",
    "id": "rCon1RvQTNWH"
   },
   "outputs": [],
   "source": [
    "def vector_add(v, w):\n",
    "    \"\"\"adds corresponding elements\"\"\"\n",
    "    return [v_i + w_i\n",
    "          for v_i, w_i in zip(v, w)]"
   ]
  },
  {
   "cell_type": "code",
   "execution_count": 0,
   "metadata": {
    "colab": {},
    "colab_type": "code",
    "id": "ykYEah7HT3W4"
   },
   "outputs": [],
   "source": [
    "def vector_subtract(v, w):\n",
    "    \"\"\"subtracts corresponding elements\"\"\"\n",
    "    return [v_i - w_i\n",
    "        for v_i, w_i in zip(v, w)]"
   ]
  },
  {
   "cell_type": "code",
   "execution_count": 0,
   "metadata": {
    "colab": {},
    "colab_type": "code",
    "id": "Y--uU38FUDCH"
   },
   "outputs": [],
   "source": [
    "def vector_sum(vectors):\n",
    "    \"\"\"sums all corresponding elements\"\"\"\n",
    "    result = vectors[0] # start with the first vector\n",
    "    for vector in vectors[1:]: # then loop over the others\n",
    "        result = vector_add(result, vector) # and add them to the result\n",
    "    return result"
   ]
  },
  {
   "cell_type": "code",
   "execution_count": 0,
   "metadata": {
    "colab": {},
    "colab_type": "code",
    "id": "ScCFOy81ULQH"
   },
   "outputs": [],
   "source": [
    "def vector_sum(vectors):\n",
    "    return reduce(vector_add, vectors)"
   ]
  },
  {
   "cell_type": "code",
   "execution_count": 0,
   "metadata": {
    "colab": {
     "base_uri": "https://localhost:8080/",
     "height": 164
    },
    "colab_type": "code",
    "id": "9YsPq6klUOHY",
    "outputId": "cca1bd34-64b1-45af-ec6c-883c7cf3e1b7"
   },
   "outputs": [
    {
     "ename": "NameError",
     "evalue": "ignored",
     "output_type": "error",
     "traceback": [
      "\u001b[0;31m\u001b[0m",
      "\u001b[0;31mNameError\u001b[0mTraceback (most recent call last)",
      "\u001b[0;32m<ipython-input-52-76a800ee122d>\u001b[0m in \u001b[0;36m<module>\u001b[0;34m()\u001b[0m\n\u001b[0;32m----> 1\u001b[0;31m \u001b[0mvector_sum\u001b[0m \u001b[0;34m=\u001b[0m \u001b[0mpartial\u001b[0m\u001b[0;34m(\u001b[0m\u001b[0mreduce\u001b[0m\u001b[0;34m,\u001b[0m \u001b[0mvector_add\u001b[0m\u001b[0;34m)\u001b[0m\u001b[0;34m\u001b[0m\u001b[0m\n\u001b[0m",
      "\u001b[0;31mNameError\u001b[0m: name 'partial' is not defined"
     ]
    }
   ],
   "source": [
    "vector_sum = partial(reduce, vector_add)"
   ]
  },
  {
   "cell_type": "code",
   "execution_count": 0,
   "metadata": {
    "colab": {},
    "colab_type": "code",
    "id": "DjzMCgqmUP_I"
   },
   "outputs": [],
   "source": [
    "def scalar_multiply(c, v):\n",
    "    \"\"\"c is a number, v is a vector\"\"\"\n",
    "    return [c * v_i for v_i in v]"
   ]
  },
  {
   "cell_type": "code",
   "execution_count": 0,
   "metadata": {
    "colab": {},
    "colab_type": "code",
    "id": "bqsjdhCDUe38"
   },
   "outputs": [],
   "source": [
    "def vector_mean(vectors):\n",
    "    \"\"\"compute the vector whose ith element is the mean of the\n",
    "    ith elements of the input vectors\"\"\"\n",
    "    n = len(vectors)\n",
    "    return scalar_multiply(1/n, vector_sum(vectors))"
   ]
  },
  {
   "cell_type": "code",
   "execution_count": 0,
   "metadata": {
    "colab": {},
    "colab_type": "code",
    "id": "RWsszroXVp7Z"
   },
   "outputs": [],
   "source": [
    "def dot(v, w):\n",
    "    \"\"\"v_1 * w_1 + ... + v_n * w_n\"\"\"\n",
    "    return sum(v_i * w_i\n",
    "    for v_i, w_i in zip(v, w))"
   ]
  },
  {
   "cell_type": "code",
   "execution_count": 0,
   "metadata": {
    "colab": {},
    "colab_type": "code",
    "id": "mhBKxISWVtLA"
   },
   "outputs": [],
   "source": [
    "def sum_of_squares(v):\n",
    "    \"\"\"v_1 * v_1 + ... + v_n * v_n\"\"\"\n",
    "    return dot(v, v)"
   ]
  },
  {
   "cell_type": "code",
   "execution_count": 0,
   "metadata": {
    "colab": {},
    "colab_type": "code",
    "id": "86iRu9AeVyf7"
   },
   "outputs": [],
   "source": [
    "import math\n",
    "\n",
    "def magnitude(v):\n",
    "    return math.sqrt(sum_of_squares(v)) # math.sqrt is square root function"
   ]
  },
  {
   "cell_type": "code",
   "execution_count": 0,
   "metadata": {
    "colab": {},
    "colab_type": "code",
    "id": "jfiyuISoV4Vo"
   },
   "outputs": [],
   "source": [
    "def squared_distance(v, w):\n",
    "    \"\"\"(v_1 - w_1) ** 2 + ... + (v_n - w_n) ** 2\"\"\"\n",
    "    return sum_of_squares(vector_subtract(v, w))\n",
    "  \n",
    "def distance(v, w):\n",
    "    return math.sqrt(squared_distance(v, w))"
   ]
  },
  {
   "cell_type": "code",
   "execution_count": 0,
   "metadata": {
    "colab": {},
    "colab_type": "code",
    "id": "_Vgq3UZkV-nd"
   },
   "outputs": [],
   "source": [
    "def distance(v, w):\n",
    "    return magnitude(vector_subtract(v, w))"
   ]
  },
  {
   "cell_type": "code",
   "execution_count": 0,
   "metadata": {
    "colab": {},
    "colab_type": "code",
    "id": "uEM4MUhZWDO-"
   },
   "outputs": [],
   "source": [
    "A = [[1, 2, 3], # A has 2 rows and 3 columns\n",
    "[4, 5, 6]]\n",
    "B = [[1, 2], # B has 3 rows and 2 columns\n",
    "[3, 4],\n",
    "[5, 6]]"
   ]
  },
  {
   "cell_type": "code",
   "execution_count": 0,
   "metadata": {
    "colab": {},
    "colab_type": "code",
    "id": "ab_P5KZ6WFyr"
   },
   "outputs": [],
   "source": [
    "def shape(A):\n",
    "    num_rows = len(A)\n",
    "    num_cols = len(A[0]) if A else 0 # number of elements in first row\n",
    "    return num_rows, num_cols"
   ]
  },
  {
   "cell_type": "code",
   "execution_count": 0,
   "metadata": {
    "colab": {},
    "colab_type": "code",
    "id": "vkloh6I9WMbD"
   },
   "outputs": [],
   "source": [
    "def get_row(A, i):\n",
    "    return A[i] # A[i] is already the ith row\n",
    "    \n",
    "def get_column(A, j):\n",
    "    return [A_i[j] # jth element of row A_i\n",
    "            for A_i in A] # for each row A_i"
   ]
  },
  {
   "cell_type": "code",
   "execution_count": 0,
   "metadata": {
    "colab": {},
    "colab_type": "code",
    "id": "HO8nYQuyWT6E"
   },
   "outputs": [],
   "source": [
    "def make_matrix(num_rows, num_cols, entry_fn):\n",
    "    \"\"\"returns a num_rows x num_cols matrix\n",
    "    whose (i,j)th entry is entry_fn(i, j)\"\"\"\n",
    "    return [[entry_fn(i, j) # given i, create a list\n",
    "            for j in range(num_cols)] # [entry_fn(i, 0), ... ]\n",
    "            for i in range(num_rows)] # create one list for each i"
   ]
  },
  {
   "cell_type": "code",
   "execution_count": 0,
   "metadata": {
    "colab": {},
    "colab_type": "code",
    "id": "N5Eg309xWbFO"
   },
   "outputs": [],
   "source": [
    "def is_diagonal(i, j):\n",
    "    \"\"\"1's on the 'diagonal', 0's everywhere else\"\"\"\n",
    "    return 1 if i == j else 0\n",
    "  \n",
    "identity_matrix = make_matrix(5, 5, is_diagonal)\n",
    "# [[1, 0, 0, 0, 0],\n",
    "# [0, 1, 0, 0, 0],\n",
    "# [0, 0, 1, 0, 0],\n",
    "# [0, 0, 0, 1, 0],\n",
    "# [0, 0, 0, 0, 1]]"
   ]
  },
  {
   "cell_type": "code",
   "execution_count": 0,
   "metadata": {
    "colab": {},
    "colab_type": "code",
    "id": "39ZHF7FDWmEz"
   },
   "outputs": [],
   "source": [
    "data = [[70, 170, 40],\n",
    "[65, 120, 26],\n",
    "[77, 250, 19],\n",
    "# ....\n",
    "]"
   ]
  },
  {
   "cell_type": "code",
   "execution_count": 0,
   "metadata": {
    "colab": {},
    "colab_type": "code",
    "id": "6J1779aaWpN5"
   },
   "outputs": [],
   "source": [
    "friendships = [(0, 1), (0, 2), (1, 2), (1, 3), (2, 3), (3, 4),\n",
    "(4, 5), (5, 6), (5, 7), (6, 8), (7, 8), (8, 9)]"
   ]
  },
  {
   "cell_type": "code",
   "execution_count": 0,
   "metadata": {
    "colab": {},
    "colab_type": "code",
    "id": "ewM-5zkxWrcQ"
   },
   "outputs": [],
   "source": [
    "# user 0 1 2 3 4 5 6 7 8 9\n",
    "#\n",
    "friendships = [[0, 1, 1, 0, 0, 0, 0, 0, 0, 0], # user 0\n",
    "[1, 0, 1, 1, 0, 0, 0, 0, 0, 0], # user 1\n",
    "[1, 1, 0, 1, 0, 0, 0, 0, 0, 0], # user 2\n",
    "[0, 1, 1, 0, 1, 0, 0, 0, 0, 0], # user 3\n",
    "[0, 0, 0, 1, 0, 1, 0, 0, 0, 0], # user 4\n",
    "[0, 0, 0, 0, 1, 0, 1, 1, 0, 0], # user 5\n",
    "[0, 0, 0, 0, 0, 1, 0, 0, 1, 0], # user 6\n",
    "[0, 0, 0, 0, 0, 1, 0, 0, 1, 0], # user 7\n",
    "[0, 0, 0, 0, 0, 0, 1, 1, 0, 1], # user 8\n",
    "[0, 0, 0, 0, 0, 0, 0, 0, 1, 0]] # user 9"
   ]
  },
  {
   "cell_type": "code",
   "execution_count": 0,
   "metadata": {
    "colab": {
     "base_uri": "https://localhost:8080/",
     "height": 34
    },
    "colab_type": "code",
    "id": "f3WlcXCSWuhB",
    "outputId": "e7a1e08f-c754-4c1a-f89b-d7abc57c072c"
   },
   "outputs": [
    {
     "data": {
      "text/plain": [
       "False"
      ]
     },
     "execution_count": 68,
     "metadata": {
      "tags": []
     },
     "output_type": "execute_result"
    }
   ],
   "source": [
    "friendships[0][2] == 1 # True, 0 and 2 are friends\n",
    "friendships[0][8] == 1 # False, 0 and 8 are not friends"
   ]
  },
  {
   "cell_type": "code",
   "execution_count": 0,
   "metadata": {
    "colab": {},
    "colab_type": "code",
    "id": "7k_Ws2hkWwbK"
   },
   "outputs": [],
   "source": [
    "friends_of_five = [i # only need\n",
    "                    for i, is_friend in enumerate(friendships[5]) # to look at\n",
    "                    if is_friend] # one row"
   ]
  },
  {
   "cell_type": "code",
   "execution_count": 0,
   "metadata": {
    "colab": {},
    "colab_type": "code",
    "id": "-wN8K91BXY8Y"
   },
   "outputs": [],
   "source": [
    "import random\n",
    "import math\n",
    "import numbers\n",
    "from scipy.stats import norm\n",
    "import matplotlib.pyplot as plt"
   ]
  },
  {
   "cell_type": "code",
   "execution_count": 0,
   "metadata": {
    "colab": {},
    "colab_type": "code",
    "id": "kfPgN403YtQB"
   },
   "outputs": [],
   "source": [
    "random.seed(0)\n",
    "\n",
    "# uniform between -100 and 100\n",
    "uniform = [200 * random.random() - 100 for _ in range(10000)]"
   ]
  },
  {
   "cell_type": "code",
   "execution_count": 0,
   "metadata": {
    "colab": {
     "base_uri": "https://localhost:8080/",
     "height": 362
    },
    "colab_type": "code",
    "id": "oub_ZLZhXitR",
    "outputId": "4aaae7c9-4d08-4d4b-9b7f-5837811079b5"
   },
   "outputs": [
    {
     "data": {
      "image/png": "[encoded data removed]",
      "text/plain": [
       "<Figure size 576x396 with 1 Axes>"
      ]
     },
     "metadata": {
      "tags": []
     },
     "output_type": "display_data"
    }
   ],
   "source": [
    "plot_histogram(uniform, 10, \"Uniform Histogram\")"
   ]
  },
  {
   "cell_type": "code",
   "execution_count": 0,
   "metadata": {
    "colab": {
     "base_uri": "https://localhost:8080/",
     "height": 362
    },
    "colab_type": "code",
    "id": "f4dar7XseuLE",
    "outputId": "bfd4b4a2-d615-43c1-9e38-c4755d7c486d"
   },
   "outputs": [
    {
     "data": {
      "image/png": "[encoded data removed]",
      "text/plain": [
       "<Figure size 576x396 with 1 Axes>"
      ]
     },
     "metadata": {
      "tags": []
     },
     "output_type": "display_data"
    }
   ],
   "source": [
    "random.seed(0)\n",
    "\n",
    "def inverse_normal_cdf(r):\n",
    "    return ndtri(r)\n",
    "\n",
    "def random_normal():\n",
    "    return inverse_normal_cdf(random.random())\n",
    "\n",
    "# normal distribution with mean 0, standard deviation 57\n",
    "normal = [57 * inverse_normal_cdf(random.random()) \n",
    "          for _ in range(10000)]\n",
    "\n",
    "plot_histogram(normal, 10, \"Normal Histogram\")"
   ]
  },
  {
   "cell_type": "code",
   "execution_count": 0,
   "metadata": {
    "colab": {},
    "colab_type": "code",
    "id": "byKJSNVUjh0W"
   },
   "outputs": [],
   "source": [
    "import matplotlib.pyplot as plt\n",
    "import matplotlib.gridspec as gridspec\n",
    "import numpy as np, random\n",
    "from scipy.special import ndtri"
   ]
  },
  {
   "cell_type": "code",
   "execution_count": 0,
   "metadata": {
    "colab": {},
    "colab_type": "code",
    "id": "bmQJ1yokYDRI"
   },
   "outputs": [],
   "source": [
    "def inverse_normal_cdf(r):\n",
    "    return ndtri(r)\n",
    "\n",
    "def random_normal():\n",
    "    return inverse_normal_cdf(random.random())"
   ]
  },
  {
   "cell_type": "code",
   "execution_count": 0,
   "metadata": {
    "colab": {},
    "colab_type": "code",
    "id": "AJnA16u5ifbL"
   },
   "outputs": [],
   "source": [
    "xs = [random_normal() for _ in range(1000)]\n",
    "ys1 = [ x + random_normal() / 2 for x in xs]\n",
    "ys2 = [-x + random_normal() / 2 for x in xs]"
   ]
  },
  {
   "cell_type": "code",
   "execution_count": 0,
   "metadata": {
    "colab": {
     "base_uri": "https://localhost:8080/",
     "height": 376
    },
    "colab_type": "code",
    "id": "zryiHY-SfACA",
    "outputId": "a646aa89-88cd-4876-9892-d1b45a06b851"
   },
   "outputs": [
    {
     "data": {
      "image/png": "[encoded data removed]",
      "text/plain": [
       "<Figure size 576x396 with 1 Axes>"
      ]
     },
     "metadata": {
      "tags": []
     },
     "output_type": "display_data"
    }
   ],
   "source": [
    "plt.scatter(xs, ys1, marker='.', color='black', label='ys1')\n",
    "plt.scatter(xs, ys2, marker='.', color='gray', label='ys2')\n",
    "plt.xlabel('xs')\n",
    "plt.ylabel('ys')\n",
    "plt.legend(loc=9)\n",
    "plt.title(\"Very Different Joint Distributions\")\n",
    "plt.show()"
   ]
  },
  {
   "cell_type": "code",
   "execution_count": 0,
   "metadata": {
    "colab": {},
    "colab_type": "code",
    "id": "s3X4hzE6kW3w"
   },
   "outputs": [],
   "source": [
    "def standard_deviation(x):\n",
    "   return math.sqrt(variance(x))"
   ]
  },
  {
   "cell_type": "code",
   "execution_count": 0,
   "metadata": {
    "colab": {},
    "colab_type": "code",
    "id": "wGLCszSFlIY7"
   },
   "outputs": [],
   "source": [
    "def correlation(x, y):\n",
    "    stdev_x = standard_deviation(x)\n",
    "    stdev_y = standard_deviation(y)\n",
    "    if stdev_x > 0 and stdev_y > 0:\n",
    "        return covariance(x, y) / stdev_x / stdev_y\n",
    "    else:\n",
    "        return 0 # if no variation, correlation is zero"
   ]
  },
  {
   "cell_type": "code",
   "execution_count": 0,
   "metadata": {
    "colab": {
     "base_uri": "https://localhost:8080/",
     "height": 368
    },
    "colab_type": "code",
    "id": "l6k7ypFJfDzo",
    "outputId": "86e2a91b-c621-44a1-b749-2f8840b9c097"
   },
   "outputs": [
    {
     "ename": "TypeError",
     "evalue": "ignored",
     "output_type": "error",
     "traceback": [
      "\u001b[0;31m\u001b[0m",
      "\u001b[0;31mTypeError\u001b[0mTraceback (most recent call last)",
      "\u001b[0;32m<ipython-input-127-2f7a6c82f98a>\u001b[0m in \u001b[0;36m<module>\u001b[0;34m()\u001b[0m\n\u001b[0;32m----> 1\u001b[0;31m \u001b[0;32mprint\u001b[0m \u001b[0mcorrelation\u001b[0m\u001b[0;34m(\u001b[0m\u001b[0mxs\u001b[0m\u001b[0;34m,\u001b[0m \u001b[0mys1\u001b[0m\u001b[0;34m)\u001b[0m \u001b[0;31m# 0.9\u001b[0m\u001b[0;34m\u001b[0m\u001b[0m\n\u001b[0m\u001b[1;32m      2\u001b[0m \u001b[0;32mprint\u001b[0m \u001b[0mcorrelation\u001b[0m\u001b[0;34m(\u001b[0m\u001b[0mxs\u001b[0m\u001b[0;34m,\u001b[0m \u001b[0mys2\u001b[0m\u001b[0;34m)\u001b[0m \u001b[0;31m# -0.9\u001b[0m\u001b[0;34m\u001b[0m\u001b[0m\n",
      "\u001b[0;32m<ipython-input-126-63e0d286d947>\u001b[0m in \u001b[0;36mcorrelation\u001b[0;34m(x, y)\u001b[0m\n\u001b[1;32m      1\u001b[0m \u001b[0;32mdef\u001b[0m \u001b[0mcorrelation\u001b[0m\u001b[0;34m(\u001b[0m\u001b[0mx\u001b[0m\u001b[0;34m,\u001b[0m \u001b[0my\u001b[0m\u001b[0;34m)\u001b[0m\u001b[0;34m:\u001b[0m\u001b[0;34m\u001b[0m\u001b[0m\n\u001b[0;32m----> 2\u001b[0;31m     \u001b[0mstdev_x\u001b[0m \u001b[0;34m=\u001b[0m \u001b[0mstandard_deviation\u001b[0m\u001b[0;34m(\u001b[0m\u001b[0mx\u001b[0m\u001b[0;34m)\u001b[0m\u001b[0;34m\u001b[0m\u001b[0m\n\u001b[0m\u001b[1;32m      3\u001b[0m     \u001b[0mstdev_y\u001b[0m \u001b[0;34m=\u001b[0m \u001b[0mstandard_deviation\u001b[0m\u001b[0;34m(\u001b[0m\u001b[0my\u001b[0m\u001b[0;34m)\u001b[0m\u001b[0;34m\u001b[0m\u001b[0m\n\u001b[1;32m      4\u001b[0m     \u001b[0;32mif\u001b[0m \u001b[0mstdev_x\u001b[0m \u001b[0;34m>\u001b[0m \u001b[0;36m0\u001b[0m \u001b[0;32mand\u001b[0m \u001b[0mstdev_y\u001b[0m \u001b[0;34m>\u001b[0m \u001b[0;36m0\u001b[0m\u001b[0;34m:\u001b[0m\u001b[0;34m\u001b[0m\u001b[0m\n\u001b[1;32m      5\u001b[0m         \u001b[0;32mreturn\u001b[0m \u001b[0mcovariance\u001b[0m\u001b[0;34m(\u001b[0m\u001b[0mx\u001b[0m\u001b[0;34m,\u001b[0m \u001b[0my\u001b[0m\u001b[0;34m)\u001b[0m \u001b[0;34m/\u001b[0m \u001b[0mstdev_x\u001b[0m \u001b[0;34m/\u001b[0m \u001b[0mstdev_y\u001b[0m\u001b[0;34m\u001b[0m\u001b[0m\n",
      "\u001b[0;32m<ipython-input-125-1826812da6b6>\u001b[0m in \u001b[0;36mstandard_deviation\u001b[0;34m(x)\u001b[0m\n\u001b[1;32m      1\u001b[0m \u001b[0;32mdef\u001b[0m \u001b[0mstandard_deviation\u001b[0m\u001b[0;34m(\u001b[0m\u001b[0mx\u001b[0m\u001b[0;34m)\u001b[0m\u001b[0;34m:\u001b[0m\u001b[0;34m\u001b[0m\u001b[0m\n\u001b[0;32m----> 2\u001b[0;31m    \u001b[0;32mreturn\u001b[0m \u001b[0mmath\u001b[0m\u001b[0;34m.\u001b[0m\u001b[0msqrt\u001b[0m\u001b[0;34m(\u001b[0m\u001b[0mvariance\u001b[0m\u001b[0;34m(\u001b[0m\u001b[0mx\u001b[0m\u001b[0;34m)\u001b[0m\u001b[0;34m)\u001b[0m\u001b[0;34m\u001b[0m\u001b[0m\n\u001b[0m",
      "\u001b[0;31mTypeError\u001b[0m: 'list' object is not callable"
     ]
    }
   ],
   "source": [
    "print correlation(xs, ys1) # 0.9\n",
    "print correlation(xs, ys2) # -0.9"
   ]
  },
  {
   "cell_type": "code",
   "execution_count": 0,
   "metadata": {
    "colab": {},
    "colab_type": "code",
    "id": "CZlBTzDmlNob"
   },
   "outputs": [],
   "source": [
    "def correlation_matrix(data):\n",
    "    \"\"\"returns the num_columns x num_columns matrix whose (i, j)th entry\n",
    "    is the correlation between columns i and j of data\"\"\"\n",
    "    \n",
    "    _, num_columns = shape(data)\n",
    "    \n",
    "    def matrix_entry(i, j):\n",
    "        return correlation(get_column(data, i), get_column(data, j))\n",
    "      \n",
    "    return make_matrix(num_columns, num_columns, matrix_entry)"
   ]
  },
  {
   "cell_type": "code",
   "execution_count": 0,
   "metadata": {
    "colab": {
     "base_uri": "https://localhost:8080/",
     "height": 347
    },
    "colab_type": "code",
    "id": "WRrA8Q-ClaLh",
    "outputId": "cf632491-3e72-412a-d218-08431ee85e92"
   },
   "outputs": [
    {
     "data": {
      "image/png": "[encoded data removed]",
      "text/plain": [
       "<Figure size 576x396 with 9 Axes>"
      ]
     },
     "metadata": {
      "tags": []
     },
     "output_type": "display_data"
    }
   ],
   "source": [
    "import matplotlib.pyplot as plt\n",
    "\n",
    "_, num_columns = shape(data)\n",
    "fig, ax = plt.subplots(num_columns, num_columns)\n",
    "\n",
    "for i in range(num_columns):\n",
    "    for j in range(num_columns):\n",
    "      \n",
    "      # scatter column_j on the x-axis vs column_i on the y-axis\n",
    "      if i != j: ax[i][j].scatter(get_column(data, j), get_column(data, i))\n",
    "        \n",
    "      # unless i == j, in which case show the series name\n",
    "      else: ax[i][j].annotate(\"series \" + str(i), (0.5, 0.5),\n",
    "                              xycoords='axes fraction',\n",
    "                              ha=\"center\", va=\"center\")\n",
    "        \n",
    "      # then hide axis labels except left and bottom charts\n",
    "      if i < num_columns - 1: ax[i][j].xaxis.set_visible(False)\n",
    "      if j > 0: ax[i][j].yaxis.set_visible(False)\n",
    "        \n",
    "# fix the bottom right and top left axis labels, which are wrong because\n",
    "# their charts only have text in them\n",
    "ax[-1][-1].set_xlim(ax[0][-1].get_xlim())\n",
    "ax[0][0].set_ylim(ax[0][1].get_ylim())\n",
    "\n",
    "plt.show()"
   ]
  },
  {
   "cell_type": "code",
   "execution_count": 0,
   "metadata": {
    "colab": {
     "base_uri": "https://localhost:8080/",
     "height": 164
    },
    "colab_type": "code",
    "id": "q_-8peitmCl_",
    "outputId": "96d05d73-ac34-4a8a-b9ad-ab8b0cd21393"
   },
   "outputs": [
    {
     "ename": "NameError",
     "evalue": "ignored",
     "output_type": "error",
     "traceback": [
      "\u001b[0;31m\u001b[0m",
      "\u001b[0;31mNameError\u001b[0mTraceback (most recent call last)",
      "\u001b[0;32m<ipython-input-130-cb47d3929e00>\u001b[0m in \u001b[0;36m<module>\u001b[0;34m()\u001b[0m\n\u001b[0;32m----> 1\u001b[0;31m \u001b[0mclosing_price\u001b[0m \u001b[0;34m=\u001b[0m \u001b[0mfloat\u001b[0m\u001b[0;34m(\u001b[0m\u001b[0mrow\u001b[0m\u001b[0;34m[\u001b[0m\u001b[0;36m2\u001b[0m\u001b[0;34m]\u001b[0m\u001b[0;34m)\u001b[0m\u001b[0;34m\u001b[0m\u001b[0m\n\u001b[0m",
      "\u001b[0;31mNameError\u001b[0m: name 'row' is not defined"
     ]
    }
   ],
   "source": [
    "closing_price = float(row[2])"
   ]
  },
  {
   "cell_type": "code",
   "execution_count": 0,
   "metadata": {
    "colab": {},
    "colab_type": "code",
    "id": "yNc-v1zUmGx4"
   },
   "outputs": [],
   "source": [
    "def parse_row(input_row, parsers):\n",
    "    \"\"\"given a list of parsers (some of which may be None)\n",
    "    apply the appropriate one to each element of the input_row\"\"\"\n",
    "    \n",
    "    return [parser(value) if parser is not None else value\n",
    "            for value, parser in zip(input_row, parsers)]\n",
    "  \n",
    "def parse_rows_with(reader, parsers):\n",
    "    \"\"\"wrap a reader to apply the parsers to each of its rows\"\"\"\n",
    "    for row in reader:\n",
    "        yield parse_row(row, parsers)"
   ]
  },
  {
   "cell_type": "code",
   "execution_count": 0,
   "metadata": {
    "colab": {},
    "colab_type": "code",
    "id": "CTIz4lz-mPmV"
   },
   "outputs": [],
   "source": [
    "def try_or_none(f):\n",
    "    \"\"\"wraps f to return None if f raises an exception\n",
    "    assumes f takes only one input\"\"\"\n",
    "    def f_or_none(x):\n",
    "        try: return f(x)\n",
    "        except: return None\n",
    "    return f_or_none"
   ]
  },
  {
   "cell_type": "code",
   "execution_count": 0,
   "metadata": {
    "colab": {},
    "colab_type": "code",
    "id": "c9UkakzSmWPM"
   },
   "outputs": [],
   "source": [
    "def parse_row(input_row, parsers):\n",
    "    return [try_or_none(parser)(value) if parser is not None else value\n",
    "            for value, parser in zip(input_row, parsers)]"
   ]
  },
  {
   "cell_type": "code",
   "execution_count": 0,
   "metadata": {
    "colab": {
     "base_uri": "https://localhost:8080/",
     "height": 252
    },
    "colab_type": "code",
    "id": "rPvdr1aKmao6",
    "outputId": "a3334e9b-d112-4c4e-8acb-4a6c521e280a"
   },
   "outputs": [
    {
     "ename": "IOError",
     "evalue": "ignored",
     "output_type": "error",
     "traceback": [
      "\u001b[0;31m\u001b[0m",
      "\u001b[0;31mIOError\u001b[0mTraceback (most recent call last)",
      "\u001b[0;32m<ipython-input-134-25a81aeaf963>\u001b[0m in \u001b[0;36m<module>\u001b[0;34m()\u001b[0m\n\u001b[1;32m      2\u001b[0m \u001b[0mdata\u001b[0m \u001b[0;34m=\u001b[0m \u001b[0;34m[\u001b[0m\u001b[0;34m]\u001b[0m\u001b[0;34m\u001b[0m\u001b[0m\n\u001b[1;32m      3\u001b[0m \u001b[0;34m\u001b[0m\u001b[0m\n\u001b[0;32m----> 4\u001b[0;31m \u001b[0;32mwith\u001b[0m \u001b[0mopen\u001b[0m\u001b[0;34m(\u001b[0m\u001b[0;34m\"comma_delimited_stock_prices.csv\"\u001b[0m\u001b[0;34m,\u001b[0m \u001b[0;34m\"rb\"\u001b[0m\u001b[0;34m)\u001b[0m \u001b[0;32mas\u001b[0m \u001b[0mf\u001b[0m\u001b[0;34m:\u001b[0m\u001b[0;34m\u001b[0m\u001b[0m\n\u001b[0m\u001b[1;32m      5\u001b[0m       \u001b[0mreader\u001b[0m \u001b[0;34m=\u001b[0m \u001b[0mcsv\u001b[0m\u001b[0;34m.\u001b[0m\u001b[0mreader\u001b[0m\u001b[0;34m(\u001b[0m\u001b[0mf\u001b[0m\u001b[0;34m)\u001b[0m\u001b[0;34m\u001b[0m\u001b[0m\n\u001b[1;32m      6\u001b[0m       \u001b[0;32mfor\u001b[0m \u001b[0mline\u001b[0m \u001b[0;32min\u001b[0m \u001b[0mparse_rows_with\u001b[0m\u001b[0;34m(\u001b[0m\u001b[0mreader\u001b[0m\u001b[0;34m,\u001b[0m \u001b[0;34m[\u001b[0m\u001b[0mdateutil\u001b[0m\u001b[0;34m.\u001b[0m\u001b[0mparser\u001b[0m\u001b[0;34m.\u001b[0m\u001b[0mparse\u001b[0m\u001b[0;34m,\u001b[0m \u001b[0mNone\u001b[0m\u001b[0;34m,\u001b[0m \u001b[0mfloat\u001b[0m\u001b[0;34m]\u001b[0m\u001b[0;34m)\u001b[0m\u001b[0;34m:\u001b[0m\u001b[0;34m\u001b[0m\u001b[0m\n",
      "\u001b[0;31mIOError\u001b[0m: [Errno 2] No such file or directory: 'comma_delimited_stock_prices.csv'"
     ]
    }
   ],
   "source": [
    "import dateutil.parser\n",
    "data = []\n",
    "\n",
    "with open(\"comma_delimited_stock_prices.csv\", \"rb\") as f:\n",
    "      reader = csv.reader(f)\n",
    "      for line in parse_rows_with(reader, [dateutil.parser.parse, None, float]):\n",
    "          data.append(line)"
   ]
  },
  {
   "cell_type": "code",
   "execution_count": 0,
   "metadata": {
    "colab": {},
    "colab_type": "code",
    "id": "R6YbUMjCmh1Y"
   },
   "outputs": [],
   "source": [
    "for row in data:\n",
    "    if any(x is None for x in row):\n",
    "        print row"
   ]
  },
  {
   "cell_type": "code",
   "execution_count": 0,
   "metadata": {
    "colab": {},
    "colab_type": "code",
    "id": "8VWD0oc8moJP"
   },
   "outputs": [],
   "source": [
    "def try_parse_field(field_name, value, parser_dict):\n",
    "    \"\"\"try to parse value using the appropriate function from parser_dict\"\"\"\n",
    "    parser = parser_dict.get(field_name) # None if no such entry\n",
    "    if parser is not None:\n",
    "        return try_or_none(parser)(value)\n",
    "    else:\n",
    "        return value"
   ]
  },
  {
   "cell_type": "markdown",
   "metadata": {
    "colab_type": "text",
    "id": "fdiPFybhqzwh"
   },
   "source": []
  },
  {
   "cell_type": "code",
   "execution_count": 0,
   "metadata": {
    "colab": {},
    "colab_type": "code",
    "id": "pmHqOfomqg_R"
   },
   "outputs": [],
   "source": [
    "def parse_dict(input_dict, parser_dict):\n",
    "        return { field_name : try_parse_field(field_name, value, parser_dict)\n",
    "                  for field_name, value in input_dict.iteritems() }"
   ]
  },
  {
   "cell_type": "code",
   "execution_count": 0,
   "metadata": {
    "colab": {
     "base_uri": "https://localhost:8080/",
     "height": 130
    },
    "colab_type": "code",
    "id": "qpKhcknYmw6b",
    "outputId": "45086fa2-2d3d-4259-d5e9-32a9bed2aa8a"
   },
   "outputs": [
    {
     "ename": "SyntaxError",
     "evalue": "ignored",
     "output_type": "error",
     "traceback": [
      "\u001b[0;36m  File \u001b[0;32m\"<ipython-input-138-fabeffc470e9>\"\u001b[0;36m, line \u001b[0;32m4\u001b[0m\n\u001b[0;31m    # ...]\u001b[0m\n\u001b[0m          ^\u001b[0m\n\u001b[0;31mSyntaxError\u001b[0m\u001b[0;31m:\u001b[0m invalid syntax\n"
     ]
    }
   ],
   "source": [
    "data = [{'closing_price': 102.06,\n",
    "'date': datetime.datetime(2014, 8, 29, 0, 0),\n",
    "'symbol': 'AAPL'},\n",
    "# ...]"
   ]
  },
  {
   "cell_type": "code",
   "execution_count": 0,
   "metadata": {
    "colab": {
     "base_uri": "https://localhost:8080/",
     "height": 198
    },
    "colab_type": "code",
    "id": "hQjlMQYJm0Lx",
    "outputId": "f70bec01-0227-467e-f04d-0ec4aa171606"
   },
   "outputs": [
    {
     "ename": "ValueError",
     "evalue": "ignored",
     "output_type": "error",
     "traceback": [
      "\u001b[0;31m\u001b[0m",
      "\u001b[0;31mValueError\u001b[0mTraceback (most recent call last)",
      "\u001b[0;32m<ipython-input-140-e9fafe0510dc>\u001b[0m in \u001b[0;36m<module>\u001b[0;34m()\u001b[0m\n\u001b[1;32m      1\u001b[0m max_aapl_price = max(row[\"closing_price\"]\n\u001b[0;32m----> 2\u001b[0;31m                      \u001b[0;32mfor\u001b[0m \u001b[0mrow\u001b[0m \u001b[0;32min\u001b[0m \u001b[0mdata\u001b[0m\u001b[0;34m\u001b[0m\u001b[0m\n\u001b[0m\u001b[1;32m      3\u001b[0m                      if row[\"symbol\"] == \"AAPL\")\n",
      "\u001b[0;31mValueError\u001b[0m: max() arg is an empty sequence"
     ]
    }
   ],
   "source": [
    "max_aapl_price = max(row[\"closing_price\"]\n",
    "                     for row in data\n",
    "                     if row[\"symbol\"] == \"AAPL\")"
   ]
  },
  {
   "cell_type": "code",
   "execution_count": 0,
   "metadata": {
    "colab": {},
    "colab_type": "code",
    "id": "DpIQ4Pxnm__v"
   },
   "outputs": [],
   "source": [
    "# group rows by symbol\n",
    "by_symbol = defaultdict(list)\n",
    "for row in data:\n",
    "    by_symbol[row[\"symbol\"]].append(row)\n",
    "# use a dict comprehension to find the max for each symbol\n",
    "max_price_by_symbol = { symbol : max(row[\"closing_price\"]\n",
    "                                      for row in grouped_rows)\n",
    "                       for symbol, grouped_rows in by_symbol.iteritems() }"
   ]
  },
  {
   "cell_type": "code",
   "execution_count": 0,
   "metadata": {
    "colab": {},
    "colab_type": "code",
    "id": "xLn8Xhe-nN2T"
   },
   "outputs": [],
   "source": [
    "def picker(field_name):\n",
    "    \"\"\"returns a function that picks a field out of a dict\"\"\"\n",
    "    return lambda row: row[field_name]\n",
    "  \n",
    "def pluck(field_name, rows):\n",
    "    \"\"\"turn a list of dicts into the list of field_name values\"\"\"\n",
    "    return map(picker(field_name), rows)"
   ]
  },
  {
   "cell_type": "code",
   "execution_count": 0,
   "metadata": {
    "colab": {},
    "colab_type": "code",
    "id": "aVpx-zRSnTWD"
   },
   "outputs": [],
   "source": [
    "def group_by(grouper, rows, value_transform=None):\n",
    "    # key is output of grouper, value is list of rows\n",
    "    grouped = defaultdict(list)\n",
    "    for row in rows:\n",
    "        grouped[grouper(row)].append(row)\n",
    "        \n",
    "    if value_transform is None:\n",
    "       return grouped\n",
    "    else:\n",
    "      return { key : value_transform(rows)\n",
    "              for key, rows in grouped.iteritems() }"
   ]
  },
  {
   "cell_type": "code",
   "execution_count": 0,
   "metadata": {
    "colab": {},
    "colab_type": "code",
    "id": "p5qi2MJLnfsf"
   },
   "outputs": [],
   "source": [
    "max_price_by_symbol = group_by(picker(\"symbol\"),\n",
    "                               data,\n",
    "                               lambda rows: max(pluck(\"closing_price\", rows)))"
   ]
  },
  {
   "cell_type": "code",
   "execution_count": 0,
   "metadata": {
    "colab": {},
    "colab_type": "code",
    "id": "N-3ASaIvnlHv"
   },
   "outputs": [],
   "source": [
    "def percent_price_change(yesterday, today):\n",
    "    return today[\"closing_price\"] / yesterday[\"closing_price\"] - 1\n",
    "  \n",
    "def day_over_day_changes(grouped_rows):\n",
    "    # sort the rows by date\n",
    "    ordered = sorted(grouped_rows, key=picker(\"date\"))\n",
    "    \n",
    "    # zip with an offset to get pairs of consecutive days\n",
    "    return [{ \"symbol\" : today[\"symbol\"],\n",
    "              \"date\" : today[\"date\"],\n",
    "              \"change\" : percent_price_change(yesterday, today) }\n",
    "            for yesterday, today in zip(ordered, ordered[1:])]"
   ]
  },
  {
   "cell_type": "code",
   "execution_count": 0,
   "metadata": {
    "colab": {},
    "colab_type": "code",
    "id": "VKQYfYivnzms"
   },
   "outputs": [],
   "source": [
    "# key is symbol, value is list of \"change\" dicts\n",
    "changes_by_symbol = group_by(picker(\"symbol\"), data, day_over_day_changes)\n",
    "\n",
    "# collect all \"change\" dicts into one big list\n",
    "all_changes = [change\n",
    "               for changes in changes_by_symbol.values()\n",
    "               for change in changes]"
   ]
  },
  {
   "cell_type": "code",
   "execution_count": 0,
   "metadata": {
    "colab": {
     "base_uri": "https://localhost:8080/",
     "height": 232
    },
    "colab_type": "code",
    "id": "552VwEYrn4q4",
    "outputId": "561e7bd0-d66e-4516-c406-dbb9efd2933b"
   },
   "outputs": [
    {
     "ename": "ValueError",
     "evalue": "ignored",
     "output_type": "error",
     "traceback": [
      "\u001b[0;31m\u001b[0m",
      "\u001b[0;31mValueError\u001b[0mTraceback (most recent call last)",
      "\u001b[0;32m<ipython-input-148-986dc276c42e>\u001b[0m in \u001b[0;36m<module>\u001b[0;34m()\u001b[0m\n\u001b[0;32m----> 1\u001b[0;31m \u001b[0mmax\u001b[0m\u001b[0;34m(\u001b[0m\u001b[0mall_changes\u001b[0m\u001b[0;34m,\u001b[0m \u001b[0mkey\u001b[0m\u001b[0;34m=\u001b[0m\u001b[0mpicker\u001b[0m\u001b[0;34m(\u001b[0m\u001b[0;34m\"change\"\u001b[0m\u001b[0;34m)\u001b[0m\u001b[0;34m)\u001b[0m\u001b[0;34m\u001b[0m\u001b[0m\n\u001b[0m\u001b[1;32m      2\u001b[0m \u001b[0;31m# {'change': 0.3283582089552237,\u001b[0m\u001b[0;34m\u001b[0m\u001b[0;34m\u001b[0m\u001b[0m\n\u001b[1;32m      3\u001b[0m \u001b[0;31m# 'date': datetime.datetime(1997, 8, 6, 0, 0),\u001b[0m\u001b[0;34m\u001b[0m\u001b[0;34m\u001b[0m\u001b[0m\n\u001b[1;32m      4\u001b[0m \u001b[0;31m# 'symbol': 'AAPL'}\u001b[0m\u001b[0;34m\u001b[0m\u001b[0;34m\u001b[0m\u001b[0m\n\u001b[1;32m      5\u001b[0m \u001b[0;31m# see, e.g. http://news.cnet.com/2100-1001-202143.html\u001b[0m\u001b[0;34m\u001b[0m\u001b[0;34m\u001b[0m\u001b[0m\n",
      "\u001b[0;31mValueError\u001b[0m: max() arg is an empty sequence"
     ]
    }
   ],
   "source": [
    "max(all_changes, key=picker(\"change\"))\n",
    "# {'change': 0.3283582089552237,\n",
    "# 'date': datetime.datetime(1997, 8, 6, 0, 0),\n",
    "# 'symbol': 'AAPL'}\n",
    "# see, e.g. http://news.cnet.com/2100-1001-202143.html\n",
    "min(all_changes, key=picker(\"change\"))\n",
    "# {'change': -0.5193370165745856,\n",
    "# 'date': datetime.datetime(2000, 9, 29, 0, 0),\n",
    "# 'symbol': 'AAPL'}\n",
    "# see, e.g. http://money.cnn.com/2000/09/29/markets/techwrap/"
   ]
  },
  {
   "cell_type": "code",
   "execution_count": 0,
   "metadata": {
    "colab": {},
    "colab_type": "code",
    "id": "w6FQJ5wsn9S4"
   },
   "outputs": [],
   "source": [
    "# to combine percent changes, we add 1 to each, multiply them, and subtract 1\n",
    "# for instance, if we combine +10% and -20%, the overall change is\n",
    "# (1 + 10%) * (1 - 20%) - 1 = 1.1 * .8 - 1 = -12%\n",
    "def combine_pct_changes(pct_change1, pct_change2):\n",
    "    return (1 + pct_change1) * (1 + pct_change2) - 1\n",
    "def overall_change(changes):\n",
    "    return reduce(combine_pct_changes, pluck(\"change\", changes))\n",
    "overall_change_by_month = group_by(lambda row: row['date'].month,\n",
    "                                   all_changes,\n",
    "                                   overall_change)"
   ]
  },
  {
   "cell_type": "code",
   "execution_count": 0,
   "metadata": {
    "colab": {},
    "colab_type": "code",
    "id": "h_WjejIorQ5l"
   },
   "outputs": [],
   "source": [
    "#Rescaling"
   ]
  },
  {
   "cell_type": "code",
   "execution_count": 0,
   "metadata": {
    "colab": {},
    "colab_type": "code",
    "id": "VkGNmtHwoHdq"
   },
   "outputs": [],
   "source": [
    "a_to_b = distance([63, 150], [67, 160]) # 10.77\n",
    "a_to_c = distance([63, 150], [70, 171]) # 22.14\n",
    "b_to_c = distance([67, 160], [70, 171]) # 11.40"
   ]
  },
  {
   "cell_type": "code",
   "execution_count": 0,
   "metadata": {
    "colab": {},
    "colab_type": "code",
    "id": "aOp3dnlOoKkE"
   },
   "outputs": [],
   "source": [
    "a_to_b = distance([160, 150], [170.2, 160]) # 14.28\n",
    "a_to_c = distance([160, 150], [177.8, 171]) # 27.53\n",
    "b_to_c = distance([170.2, 160], [177.8, 171]) # 13.37"
   ]
  },
  {
   "cell_type": "code",
   "execution_count": 0,
   "metadata": {
    "colab": {},
    "colab_type": "code",
    "id": "hsUJ2ywCoMSp"
   },
   "outputs": [],
   "source": [
    "def scale(data_matrix):\n",
    "    \"\"\"returns the means and standard deviations of each column\"\"\"\n",
    "    num_rows, num_cols = shape(data_matrix)\n",
    "    means = [mean(get_column(data_matrix,j))\n",
    "              for j in range(num_cols)]\n",
    "    stdevs = [standard_deviation(get_column(data_matrix,j))\n",
    "              for j in range(num_cols)]\n",
    "    return means, stdevs"
   ]
  },
  {
   "cell_type": "code",
   "execution_count": 0,
   "metadata": {
    "colab": {},
    "colab_type": "code",
    "id": "MZpEbQz1oS0z"
   },
   "outputs": [],
   "source": [
    "def rescale(data_matrix):\n",
    "    \"\"\"rescales the input data so that each column\n",
    "    has mean 0 and standard deviation 1\n",
    "    leaves alone columns with no deviation\"\"\"\n",
    "    means, stdevs = scale(data_matrix)\n",
    "    \n",
    "    def rescaled(i, j):\n",
    "      if stdevs[j] > 0:\n",
    "        return (data_matrix[i][j] - means[j]) / stdevs[j]\n",
    "      else:\n",
    "        return data_matrix[i][j]\n",
    "      \n",
    "    num_rows, num_cols = shape(data_matrix)\n",
    "    return make_matrix(num_rows, num_cols, rescaled)"
   ]
  },
  {
   "cell_type": "code",
   "execution_count": 0,
   "metadata": {
    "colab": {},
    "colab_type": "code",
    "id": "8uf7f-F3riyP"
   },
   "outputs": [],
   "source": [
    "#Dimensionality Reduction"
   ]
  },
  {
   "cell_type": "code",
   "execution_count": 0,
   "metadata": {
    "colab": {},
    "colab_type": "code",
    "id": "vcbmjUu_oeo4"
   },
   "outputs": [],
   "source": [
    "def de_mean_matrix(A):\n",
    "    \"\"\"returns the result of subtracting from every value in A the mean\n",
    "    value of its column. the resulting matrix has mean 0 in every column\"\"\"\n",
    "    nr, nc = shape(A)\n",
    "    column_means, _ = scale(A)\n",
    "    return make_matrix(nr, nc, lambda i, j: A[i][j] - column_means[j])"
   ]
  },
  {
   "cell_type": "code",
   "execution_count": 0,
   "metadata": {
    "colab": {
     "base_uri": "https://localhost:8080/",
     "height": 34
    },
    "colab_type": "code",
    "id": "3hR0nFxKrqIp",
    "outputId": "2bd28df4-fe41-4da6-9c24-0f5dc65c9606"
   },
   "outputs": [
    {
     "data": {
      "text/plain": [
       "<function __main__.de_mean_matrix>"
      ]
     },
     "execution_count": 188,
     "metadata": {
      "tags": []
     },
     "output_type": "execute_result"
    }
   ],
   "source": [
    "de_mean_matrix"
   ]
  },
  {
   "cell_type": "code",
   "execution_count": 0,
   "metadata": {
    "colab": {},
    "colab_type": "code",
    "id": "AHR74bIeot8N"
   },
   "outputs": [],
   "source": [
    "def direction(w):\n",
    "    mag = magnitude(w)\n",
    "    return [w_i / mag for w_i in w]"
   ]
  },
  {
   "cell_type": "code",
   "execution_count": 0,
   "metadata": {
    "colab": {},
    "colab_type": "code",
    "id": "TsbTP6w9oy1b"
   },
   "outputs": [],
   "source": [
    "def directional_variance_i(x_i, w):\n",
    "    \"\"\"the variance of the row x_i in the direction determined by w\"\"\"\n",
    "    return dot(x_i, direction(w)) ** 2"
   ]
  },
  {
   "cell_type": "code",
   "execution_count": 0,
   "metadata": {
    "colab": {},
    "colab_type": "code",
    "id": "6AKn5XuFo2P7"
   },
   "outputs": [],
   "source": [
    "def directional_variance(X, w):\n",
    "    \"\"\"the variance of the data in the direction determined w\"\"\"\n",
    "    return sum(directional_variance_i(x_i, w)\n",
    "    for x_i in X)"
   ]
  },
  {
   "cell_type": "code",
   "execution_count": 0,
   "metadata": {
    "colab": {},
    "colab_type": "code",
    "id": "08Ktz2eOo4cz"
   },
   "outputs": [],
   "source": [
    "def directional_variance_gradient_i(x_i, w):\n",
    "    \"\"\"the contribution of row x_i to the gradient of\n",
    "    the direction-w variance\"\"\"\n",
    "    projection_length = dot(x_i, direction(w))\n",
    "    return [2 * projection_length * x_ij for x_ij in x_i]"
   ]
  },
  {
   "cell_type": "code",
   "execution_count": 0,
   "metadata": {
    "colab": {},
    "colab_type": "code",
    "id": "nK-kJH8So7b9"
   },
   "outputs": [],
   "source": [
    "def directional_variance_gradient(X, w):\n",
    "    return vector_sum(directional_variance_gradient_i(x_i,w)\n",
    "    for x_i in X)"
   ]
  },
  {
   "cell_type": "code",
   "execution_count": 0,
   "metadata": {
    "colab": {},
    "colab_type": "code",
    "id": "lqvcnddBo-H5"
   },
   "outputs": [],
   "source": [
    "def first_principal_component(X):\n",
    "    guess = [1 for _ in X[0]]\n",
    "    unscaled_maximizer = maximize_batch(\n",
    "        partial(directional_variance, X), # is now a function of w\n",
    "        partial(directional_variance_gradient, X), # is now a function of w\n",
    "        guess)\n",
    "    return direction(unscaled_maximizer)"
   ]
  },
  {
   "cell_type": "code",
   "execution_count": 0,
   "metadata": {
    "colab": {
     "base_uri": "https://localhost:8080/",
     "height": 34
    },
    "colab_type": "code",
    "id": "ORrp86Mor5Tt",
    "outputId": "d5064cbc-4327-40ec-cf2e-f2201d35fab2"
   },
   "outputs": [
    {
     "data": {
      "text/plain": [
       "<function __main__.first_principal_component>"
      ]
     },
     "execution_count": 189,
     "metadata": {
      "tags": []
     },
     "output_type": "execute_result"
    }
   ],
   "source": [
    "first_principal_component"
   ]
  },
  {
   "cell_type": "code",
   "execution_count": 0,
   "metadata": {
    "colab": {},
    "colab_type": "code",
    "id": "mLac5iZqpEcX"
   },
   "outputs": [],
   "source": [
    "# here there is no \"y\", so we just pass in a vector of Nones\n",
    "# and functions that ignore that input\n",
    "def first_principal_component_sgd(X):\n",
    "    guess = [1 for _ in X[0]]\n",
    "    unscaled_maximizer = maximize_stochastic(\n",
    "        lambda x, _, w: directional_variance_i(x, w),\n",
    "        lambda x, _, w: directional_variance_gradient_i(x, w),\n",
    "        X,\n",
    "        [None for _ in X], # the fake \"y\"\n",
    "        guess)\n",
    "    return direction(unscaled_maximizer)"
   ]
  },
  {
   "cell_type": "code",
   "execution_count": 0,
   "metadata": {
    "colab": {},
    "colab_type": "code",
    "id": "wm05KdrjpKzz"
   },
   "outputs": [],
   "source": [
    "def project(v, w):\n",
    "    \"\"\"return the projection of v onto the direction w\"\"\"\n",
    "    projection_length = dot(v, w)\n",
    "    return scalar_multiply(projection_length, w)"
   ]
  },
  {
   "cell_type": "code",
   "execution_count": 0,
   "metadata": {
    "colab": {},
    "colab_type": "code",
    "id": "1aitAv_IpPCR"
   },
   "outputs": [],
   "source": [
    "def remove_projection_from_vector(v, w):\n",
    "    \"\"\"projects v onto w and subtracts the result from v\"\"\"\n",
    "    return vector_subtract(v, project(v, w))"
   ]
  },
  {
   "cell_type": "code",
   "execution_count": 0,
   "metadata": {
    "colab": {},
    "colab_type": "code",
    "id": "3BcGktN9pRR-"
   },
   "outputs": [],
   "source": [
    "def remove_projection(X, w):\n",
    "    \"\"\"for each row of X\n",
    "    projects the row onto w, and subtracts the result from the row\"\"\"\n",
    "    return [remove_projection_from_vector(x_i, w) for x_i in X]"
   ]
  },
  {
   "cell_type": "code",
   "execution_count": 0,
   "metadata": {
    "colab": {},
    "colab_type": "code",
    "id": "Q4ncoAagpUWJ"
   },
   "outputs": [],
   "source": [
    "def principal_component_analysis(X, num_components):\n",
    "    components = []\n",
    "    for _ in range(num_components):\n",
    "        component = first_principal_component(X)\n",
    "        components.append(component)\n",
    "        X = remove_projection(X, component)\n",
    "    return components"
   ]
  },
  {
   "cell_type": "code",
   "execution_count": 0,
   "metadata": {
    "colab": {},
    "colab_type": "code",
    "id": "smVeyLSdpbW7"
   },
   "outputs": [],
   "source": [
    "def transform_vector(v, components):\n",
    "    return [dot(v, w) for w in components]\n",
    "def transform(X, components):\n",
    "    return [transform_vector(x_i, components) for x_i in X]"
   ]
  },
  {
   "cell_type": "code",
   "execution_count": 0,
   "metadata": {
    "colab": {},
    "colab_type": "code",
    "id": "mASus4EppeKK"
   },
   "outputs": [],
   "source": [
    "# End of codes"
   ]
  }
 ],
 "metadata": {
  "colab": {
   "collapsed_sections": [],
   "name": "Self_Study8_Jim.ipynb",
   "provenance": [],
   "version": "0.3.2"
  },
  "kernelspec": {
   "display_name": "Python 3",
   "language": "python",
   "name": "python3"
  },
  "language_info": {
   "codemirror_mode": {
    "name": "ipython",
    "version": 3
   },
   "file_extension": ".py",
   "mimetype": "text/x-python",
   "name": "python",
   "nbconvert_exporter": "python",
   "pygments_lexer": "ipython3",
   "version": "3.7.1"
  }
 },
 "nbformat": 4,
 "nbformat_minor": 1
}
