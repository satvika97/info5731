{
 "cells": [
  {
   "cell_type": "code",
   "execution_count": 0,
   "metadata": {
    "colab": {
     "base_uri": "https://localhost:8080/",
     "height": 224
    },
    "colab_type": "code",
    "id": "MIniZ8lcl6bW",
    "outputId": "1de75ae1-e071-4198-a292-2ae0bb9f3d93"
   },
   "outputs": [
    {
     "name": "stdout",
     "output_type": "stream",
     "text": [
      "--2019-04-21 17:42:33--  https://raw.githubusercontent.com/wshuyi/demo-customer-churn-ann/master/customer_churn.csv\n",
      "Resolving raw.githubusercontent.com (raw.githubusercontent.com)... 151.101.0.133, 151.101.64.133, 151.101.128.133, ...\n",
      "Connecting to raw.githubusercontent.com (raw.githubusercontent.com)|151.101.0.133|:443... connected.\n",
      "HTTP request sent, awaiting response... 200 OK\n",
      "Length: 684858 (669K) [text/plain]\n",
      "Saving to: ‘customer_churn.csv.7’\n",
      "\n",
      "customer_churn.csv. 100%[===================>] 668.81K  --.-KB/s    in 0.02s   \n",
      "\n",
      "2019-04-21 17:42:33 (32.0 MB/s) - ‘customer_churn.csv.7’ saved [684858/684858]\n",
      "\n"
     ]
    }
   ],
   "source": [
    "!wget https://raw.githubusercontent.com/wshuyi/demo-customer-churn-ann/master/customer_churn.csv"
   ]
  },
  {
   "cell_type": "code",
   "execution_count": 0,
   "metadata": {
    "colab": {},
    "colab_type": "code",
    "id": "E8jXURyEp6vs"
   },
   "outputs": [],
   "source": [
    "import pandas as pd"
   ]
  },
  {
   "cell_type": "code",
   "execution_count": 0,
   "metadata": {
    "colab": {},
    "colab_type": "code",
    "id": "7p3vOb4Krhr7"
   },
   "outputs": [],
   "source": [
    "df = pd.read_csv(\"customer_churn.csv\")"
   ]
  },
  {
   "cell_type": "code",
   "execution_count": 0,
   "metadata": {
    "colab": {
     "base_uri": "https://localhost:8080/",
     "height": 224
    },
    "colab_type": "code",
    "id": "6-bymCwWrk-r",
    "outputId": "7a5f3b23-1784-4ac7-df5f-0a51be42f323"
   },
   "outputs": [
    {
     "data": {
      "text/html": [
       "<div>\n",
       "<style scoped>\n",
       "    .dataframe tbody tr th:only-of-type {\n",
       "        vertical-align: middle;\n",
       "    }\n",
       "\n",
       "    .dataframe tbody tr th {\n",
       "        vertical-align: top;\n",
       "    }\n",
       "\n",
       "    .dataframe thead th {\n",
       "        text-align: right;\n",
       "    }\n",
       "</style>\n",
       "<table border=\"1\" class=\"dataframe\">\n",
       "  <thead>\n",
       "    <tr style=\"text-align: right;\">\n",
       "      <th></th>\n",
       "      <th>RowNumber</th>\n",
       "      <th>CustomerId</th>\n",
       "      <th>Surname</th>\n",
       "      <th>CreditScore</th>\n",
       "      <th>Geography</th>\n",
       "      <th>Gender</th>\n",
       "      <th>Age</th>\n",
       "      <th>Tenure</th>\n",
       "      <th>Balance</th>\n",
       "      <th>NumOfProducts</th>\n",
       "      <th>HasCrCard</th>\n",
       "      <th>IsActiveMember</th>\n",
       "      <th>EstimatedSalary</th>\n",
       "      <th>Exited</th>\n",
       "    </tr>\n",
       "  </thead>\n",
       "  <tbody>\n",
       "    <tr>\n",
       "      <th>0</th>\n",
       "      <td>1</td>\n",
       "      <td>15634602</td>\n",
       "      <td>Hargrave</td>\n",
       "      <td>619</td>\n",
       "      <td>France</td>\n",
       "      <td>Female</td>\n",
       "      <td>42</td>\n",
       "      <td>2</td>\n",
       "      <td>0.00</td>\n",
       "      <td>1</td>\n",
       "      <td>1</td>\n",
       "      <td>1</td>\n",
       "      <td>101348.88</td>\n",
       "      <td>1</td>\n",
       "    </tr>\n",
       "    <tr>\n",
       "      <th>1</th>\n",
       "      <td>2</td>\n",
       "      <td>15647311</td>\n",
       "      <td>Hill</td>\n",
       "      <td>608</td>\n",
       "      <td>Spain</td>\n",
       "      <td>Female</td>\n",
       "      <td>41</td>\n",
       "      <td>1</td>\n",
       "      <td>83807.86</td>\n",
       "      <td>1</td>\n",
       "      <td>0</td>\n",
       "      <td>1</td>\n",
       "      <td>112542.58</td>\n",
       "      <td>0</td>\n",
       "    </tr>\n",
       "    <tr>\n",
       "      <th>2</th>\n",
       "      <td>3</td>\n",
       "      <td>15619304</td>\n",
       "      <td>Onio</td>\n",
       "      <td>502</td>\n",
       "      <td>France</td>\n",
       "      <td>Female</td>\n",
       "      <td>42</td>\n",
       "      <td>8</td>\n",
       "      <td>159660.80</td>\n",
       "      <td>3</td>\n",
       "      <td>1</td>\n",
       "      <td>0</td>\n",
       "      <td>113931.57</td>\n",
       "      <td>1</td>\n",
       "    </tr>\n",
       "    <tr>\n",
       "      <th>3</th>\n",
       "      <td>4</td>\n",
       "      <td>15701354</td>\n",
       "      <td>Boni</td>\n",
       "      <td>699</td>\n",
       "      <td>France</td>\n",
       "      <td>Female</td>\n",
       "      <td>39</td>\n",
       "      <td>1</td>\n",
       "      <td>0.00</td>\n",
       "      <td>2</td>\n",
       "      <td>0</td>\n",
       "      <td>0</td>\n",
       "      <td>93826.63</td>\n",
       "      <td>0</td>\n",
       "    </tr>\n",
       "    <tr>\n",
       "      <th>4</th>\n",
       "      <td>5</td>\n",
       "      <td>15737888</td>\n",
       "      <td>Mitchell</td>\n",
       "      <td>850</td>\n",
       "      <td>Spain</td>\n",
       "      <td>Female</td>\n",
       "      <td>43</td>\n",
       "      <td>2</td>\n",
       "      <td>125510.82</td>\n",
       "      <td>1</td>\n",
       "      <td>1</td>\n",
       "      <td>1</td>\n",
       "      <td>79084.10</td>\n",
       "      <td>0</td>\n",
       "    </tr>\n",
       "  </tbody>\n",
       "</table>\n",
       "</div>"
      ],
      "text/plain": [
       "   RowNumber  CustomerId   Surname  CreditScore Geography  Gender  Age  \\\n",
       "0          1    15634602  Hargrave          619    France  Female   42   \n",
       "1          2    15647311      Hill          608     Spain  Female   41   \n",
       "2          3    15619304      Onio          502    France  Female   42   \n",
       "3          4    15701354      Boni          699    France  Female   39   \n",
       "4          5    15737888  Mitchell          850     Spain  Female   43   \n",
       "\n",
       "   Tenure    Balance  NumOfProducts  HasCrCard  IsActiveMember  \\\n",
       "0       2       0.00              1          1               1   \n",
       "1       1   83807.86              1          0               1   \n",
       "2       8  159660.80              3          1               0   \n",
       "3       1       0.00              2          0               0   \n",
       "4       2  125510.82              1          1               1   \n",
       "\n",
       "   EstimatedSalary  Exited  \n",
       "0        101348.88       1  \n",
       "1        112542.58       0  \n",
       "2        113931.57       1  \n",
       "3         93826.63       0  \n",
       "4         79084.10       0  "
      ]
     },
     "execution_count": 157,
     "metadata": {
      "tags": []
     },
     "output_type": "execute_result"
    }
   ],
   "source": [
    "df.head()"
   ]
  },
  {
   "cell_type": "markdown",
   "metadata": {
    "colab_type": "text",
    "id": "PXLYLaliyuus"
   },
   "source": [
    "Checking for the counts in the imbalanced datasets"
   ]
  },
  {
   "cell_type": "code",
   "execution_count": 0,
   "metadata": {
    "colab": {
     "base_uri": "https://localhost:8080/",
     "height": 329
    },
    "colab_type": "code",
    "id": "YVEd0zmOTwbr",
    "outputId": "b16b3cbd-baa7-4f1a-a460-70b1e6fb8e48"
   },
   "outputs": [
    {
     "name": "stdout",
     "output_type": "stream",
     "text": [
      "Exited 1: 2037\n",
      "Exited 0: 7963\n",
      "Proportion: 3.91 : 1\n"
     ]
    },
    {
     "data": {
      "image/png": "[encoded data removed]",
      "text/plain": [
       "<Figure size 432x288 with 1 Axes>"
      ]
     },
     "metadata": {
      "tags": []
     },
     "output_type": "display_data"
    }
   ],
   "source": [
    "import numpy as np\n",
    "\n",
    "target_count = df.Exited.value_counts()\n",
    "print('Exited 1:', target_count[1])\n",
    "print('Exited 0:', target_count[0])\n",
    "print('Proportion:', round(target_count[0] / target_count[1], 2), ': 1')\n",
    "\n",
    "target_count.plot(kind='bar', title='Count (target)');"
   ]
  },
  {
   "cell_type": "markdown",
   "metadata": {
    "colab_type": "text",
    "id": "8PlatLwpy7Xz"
   },
   "source": [
    "Resampling to address the unbalanced data problem. \n",
    "Undersampling with Random Samples\n"
   ]
  },
  {
   "cell_type": "code",
   "execution_count": 0,
   "metadata": {
    "colab": {
     "base_uri": "https://localhost:8080/",
     "height": 697
    },
    "colab_type": "code",
    "id": "BJeE34tdy4dH",
    "outputId": "318c70bd-88a0-4ca7-b29d-6aedcf7bfbe8"
   },
   "outputs": [
    {
     "name": "stdout",
     "output_type": "stream",
     "text": [
      "   RowNumber  CustomerId   Surname  CreditScore Geography  Gender  Age  \\\n",
      "1          2    15647311      Hill          608     Spain  Female   41   \n",
      "3          4    15701354      Boni          699    France  Female   39   \n",
      "4          5    15737888  Mitchell          850     Spain  Female   43   \n",
      "6          7    15592531  Bartlett          822    France    Male   50   \n",
      "8          9    15792365        He          501    France    Male   44   \n",
      "\n",
      "   Tenure    Balance  NumOfProducts  HasCrCard  IsActiveMember  \\\n",
      "1       1   83807.86              1          0               1   \n",
      "3       1       0.00              2          0               0   \n",
      "4       2  125510.82              1          1               1   \n",
      "6       7       0.00              2          1               1   \n",
      "8       4  142051.07              2          0               1   \n",
      "\n",
      "   EstimatedSalary  Exited  \n",
      "1        112542.58       0  \n",
      "3         93826.63       0  \n",
      "4         79084.10       0  \n",
      "6         10062.80       0  \n",
      "8         74940.50       0  \n",
      "    RowNumber  CustomerId   Surname  CreditScore Geography  Gender  Age  \\\n",
      "0           1    15634602  Hargrave          619    France  Female   42   \n",
      "2           3    15619304      Onio          502    France  Female   42   \n",
      "5           6    15574012       Chu          645     Spain    Male   44   \n",
      "7           8    15656148    Obinna          376   Germany  Female   29   \n",
      "16         17    15737452     Romeo          653   Germany    Male   58   \n",
      "\n",
      "    Tenure    Balance  NumOfProducts  HasCrCard  IsActiveMember  \\\n",
      "0        2       0.00              1          1               1   \n",
      "2        8  159660.80              3          1               0   \n",
      "5        8  113755.78              2          1               0   \n",
      "7        4  115046.74              4          1               0   \n",
      "16       1  132602.88              1          1               0   \n",
      "\n",
      "    EstimatedSalary  Exited  \n",
      "0         101348.88       1  \n",
      "2         113931.57       1  \n",
      "5         149756.71       1  \n",
      "7         119346.88       1  \n",
      "16          5097.67       1  \n"
     ]
    }
   ],
   "source": [
    "# Class count\n",
    "count_class_0, count_class_1 = df.Exited.value_counts()\n",
    "# Divide by class\n",
    "df_class_0 = df[df['Exited'] == 0]\n",
    "df_class_1 = df[df['Exited'] == 1]\n",
    "print(df_class_0.head())\n",
    "print(df_class_1.head())"
   ]
  },
  {
   "cell_type": "code",
   "execution_count": 0,
   "metadata": {
    "colab": {
     "base_uri": "https://localhost:8080/",
     "height": 346
    },
    "colab_type": "code",
    "id": "5BuOuTqMzc9h",
    "outputId": "e92d0422-86b8-4999-8cf8-aecdc6f6fea2"
   },
   "outputs": [
    {
     "name": "stdout",
     "output_type": "stream",
     "text": [
      "Random under-sampling:\n",
      "1    2037\n",
      "0    2037\n",
      "Name: Exited, dtype: int64\n"
     ]
    },
    {
     "data": {
      "image/png": "[encoded data removed]",
      "text/plain": [
       "<Figure size 432x288 with 1 Axes>"
      ]
     },
     "metadata": {
      "tags": []
     },
     "output_type": "display_data"
    }
   ],
   "source": [
    "df_class_0_under = df_class_0.sample(count_class_1)\n",
    "df_test_under = pd.concat([df_class_0_under, df_class_1], axis=0)\n",
    "\n",
    "print('Random under-sampling:')\n",
    "print(df_test_under.Exited.value_counts())\n",
    "\n",
    "df_test_under.Exited.value_counts().plot(kind='bar', title='Count (Exited)');"
   ]
  },
  {
   "cell_type": "code",
   "execution_count": 0,
   "metadata": {
    "colab": {
     "base_uri": "https://localhost:8080/",
     "height": 3247
    },
    "colab_type": "code",
    "id": "EMQ_2Sca0789",
    "outputId": "11e39e50-26b3-4331-9b6f-49aec89f25f8"
   },
   "outputs": [
    {
     "name": "stdout",
     "output_type": "stream",
     "text": [
      "      RowNumber  CustomerId      Surname  CreditScore Geography  Gender  Age  \\\n",
      "2127       2128    15703482       Walker          710   Germany    Male   34   \n",
      "324         325    15682757       Pardey          734    France    Male   30   \n",
      "3701       3702    15678317      Manfrin          603    France    Male   46   \n",
      "7039       7040    15631685      Lambert          523   Germany    Male   60   \n",
      "3359       3360    15747878        Aiken          739     Spain    Male   60   \n",
      "5375       5376    15705352         Yang          686     Spain    Male   38   \n",
      "3800       3801    15685314        Noble          850    France  Female   28   \n",
      "4764       4765    15657637        Ts'ui          696     Spain  Female   36   \n",
      "5434       5435    15638803    Donaldson          733     Spain  Female   32   \n",
      "707         708    15773809     Campbell          620    France    Male   42   \n",
      "310         311    15712287   Pokrovskii          652    France  Female   80   \n",
      "2059       2060    15668081        Capon          581     Spain  Female   50   \n",
      "4716       4717    15805764     Hallahan          646    France    Male   18   \n",
      "140         141    15698932       Groves          756   Germany    Male   44   \n",
      "7183       7184    15740458       Murphy          703     Spain    Male   36   \n",
      "3363       3364    15681924      Ekwueme          747   Germany    Male   38   \n",
      "9295       9296    15740868     Pirogova          658   Germany  Female   45   \n",
      "7990       7991    15643635    Robertson          664     Spain    Male   32   \n",
      "8361       8362    15705676       Wardle          690    France  Female   35   \n",
      "3912       3913    15655590       Garcia          581     Spain    Male   46   \n",
      "3126       3127    15691808         King          656    France    Male   43   \n",
      "4171       4172    15748481        Howey          564    France  Female   27   \n",
      "1554       1555    15779481     Swadling          628    France    Male   34   \n",
      "5138       5139    15589969        Capon          850    France    Male   34   \n",
      "850         851    15572265           Wu          646   Germany    Male   46   \n",
      "709         710    15734886        Mazzi          686    France  Female   34   \n",
      "9922       9923    15596811     Mitchell          667    France    Male   36   \n",
      "8479       8480    15807568       Wright          632    France    Male   50   \n",
      "6908       6909    15610653        Belov          733     Spain  Female   38   \n",
      "5374       5375    15607753  Alexandrova          606     Spain  Female   23   \n",
      "...         ...         ...          ...          ...       ...     ...  ...   \n",
      "9832       9833    15814690  Chukwujekwu          595   Germany  Female   64   \n",
      "9834       9835    15799358      Vincent          516    France  Female   46   \n",
      "9838       9839    15616367        Ricci          581   Germany    Male   39   \n",
      "9852       9853    15718765      Maclean          501     Spain    Male   43   \n",
      "9856       9857    15687329         Hope          763   Germany  Female   32   \n",
      "9858       9859    15619514         Bull          507   Germany    Male   40   \n",
      "9859       9860    15615430        Adams          678   Germany    Male   55   \n",
      "9863       9864    15726179      Ferrari          757   Germany  Female   43   \n",
      "9877       9878    15572182   Onwuamaeze          505   Germany  Female   33   \n",
      "9879       9880    15669414       Pisano          486   Germany    Male   62   \n",
      "9882       9883    15785490        Okeke          771    France    Male   50   \n",
      "9884       9885    15686974    Sergeyeva          751    France  Female   48   \n",
      "9895       9896    15796764        Bruno          684   Germany  Female   56   \n",
      "9898       9899    15746569         Tsui          589    France    Male   38   \n",
      "9905       9906    15784124      Emenike          645   Germany    Male   41   \n",
      "9910       9911    15784042           L?          624    France    Male   55   \n",
      "9917       9918    15755731        Davis          635   Germany    Male   53   \n",
      "9920       9921    15673020        Smith          678    France  Female   49   \n",
      "9924       9925    15578865      Palerma          632   Germany  Female   50   \n",
      "9934       9935    15774586         West          692   Germany  Female   43   \n",
      "9947       9948    15732202   Abramovich          615    France    Male   34   \n",
      "9956       9957    15707861        Nucci          520    France  Female   46   \n",
      "9960       9961    15681026     Lucciano          795   Germany  Female   33   \n",
      "9962       9963    15594612        Flynn          702     Spain    Male   44   \n",
      "9975       9976    15666295        Smith          610   Germany    Male   50   \n",
      "9981       9982    15672754     Burbidge          498   Germany    Male   42   \n",
      "9982       9983    15768163      Griffin          655   Germany  Female   46   \n",
      "9991       9992    15769959  Ajuluchukwu          597    France  Female   53   \n",
      "9997       9998    15584532          Liu          709    France  Female   36   \n",
      "9998       9999    15682355    Sabbatini          772   Germany    Male   42   \n",
      "\n",
      "      Tenure    Balance  NumOfProducts  HasCrCard  IsActiveMember  \\\n",
      "2127       9  134260.36              2          1               0   \n",
      "324        3       0.00              2          1               0   \n",
      "3701       2       0.00              2          1               1   \n",
      "7039       1  163894.35              1          0               1   \n",
      "3359       4       0.00              1          1               1   \n",
      "5375       7  111484.88              1          1               1   \n",
      "3800       2       0.00              2          1               1   \n",
      "4764       3       0.00              3          1               0   \n",
      "5434       5       0.00              2          1               0   \n",
      "707        4       0.00              2          1               0   \n",
      "310        4       0.00              2          1               1   \n",
      "2059       4       0.00              2          1               1   \n",
      "4716      10       0.00              2          0               1   \n",
      "140       10  137452.09              1          1               0   \n",
      "7183       7  135095.47              1          1               0   \n",
      "3363       2  129728.60              1          1               0   \n",
      "9295       9  134562.80              1          1               1   \n",
      "7990       5  133705.74              1          0               0   \n",
      "8361       9  107944.33              2          0               0   \n",
      "3912       2   79385.21              2          0               0   \n",
      "3126       7  134919.85              1          1               0   \n",
      "4171       6       0.00              1          0               0   \n",
      "1554       4  158741.43              2          1               1   \n",
      "5138       6       0.00              1          0               1   \n",
      "850        1  170826.55              2          1               0   \n",
      "709        3  123971.51              2          1               0   \n",
      "9922       8  139753.35              1          1               0   \n",
      "8479       2       0.00              2          0               0   \n",
      "6908       5       0.00              2          1               1   \n",
      "5374      10   70417.79              1          0               1   \n",
      "...      ...        ...            ...        ...             ...   \n",
      "9832       2  105736.32              1          1               1   \n",
      "9834       6   62212.29              1          0               1   \n",
      "9838       1  121523.51              1          0               0   \n",
      "9852       6  104533.24              1          0               0   \n",
      "9856       1  108465.65              2          1               0   \n",
      "9858       3  120105.43              1          1               0   \n",
      "9859       4  129646.91              1          1               1   \n",
      "9863       5  131433.33              2          1               1   \n",
      "9877       3  106506.77              3          1               0   \n",
      "9879       9  118356.89              2          1               0   \n",
      "9882       3  105229.72              1          1               1   \n",
      "9884       4       0.00              1          0               1   \n",
      "9895       3  127585.98              3          1               1   \n",
      "9898       4       0.00              1          1               0   \n",
      "9905       2   93925.30              1          1               0   \n",
      "9910       7  118793.60              1          1               1   \n",
      "9917       8  117005.55              1          0               1   \n",
      "9920       3  204510.94              1          0               1   \n",
      "9924       5  107959.39              1          1               1   \n",
      "9934      10  118588.83              1          1               1   \n",
      "9947       1   83503.11              2          1               1   \n",
      "9956      10   85216.61              1          1               0   \n",
      "9960       9  104552.72              1          1               1   \n",
      "9962       9       0.00              1          0               0   \n",
      "9975       1  113957.01              2          1               0   \n",
      "9981       3  152039.70              1          1               1   \n",
      "9982       7  137145.12              1          1               0   \n",
      "9991       4   88381.21              1          1               0   \n",
      "9997       7       0.00              1          0               1   \n",
      "9998       3   75075.31              2          1               0   \n",
      "\n",
      "      EstimatedSalary  Exited  \n",
      "2127        147074.67       0  \n",
      "324         107640.25       0  \n",
      "3701         59563.49       0  \n",
      "7039         57061.71       0  \n",
      "3359         51637.67       0  \n",
      "5375         76076.20       0  \n",
      "3800         38773.74       0  \n",
      "4764         65039.90       0  \n",
      "5434        131625.14       0  \n",
      "707           6232.31       0  \n",
      "310         188603.07       0  \n",
      "2059         80701.72       0  \n",
      "4716         52795.15       0  \n",
      "140         189543.90       0  \n",
      "7183        143859.66       0  \n",
      "3363         89289.54       0  \n",
      "9295        159268.67       0  \n",
      "7990        134455.84       0  \n",
      "8361         48478.47       0  \n",
      "3912        188492.82       0  \n",
      "3126        194691.95       0  \n",
      "4171          7819.76       0  \n",
      "1554        126192.54       0  \n",
      "5138         52796.31       0  \n",
      "850          45041.32       0  \n",
      "709         147794.63       0  \n",
      "9922         79871.16       0  \n",
      "8479         57942.88       0  \n",
      "6908          1271.51       0  \n",
      "5374         90896.04       0  \n",
      "...               ...     ...  \n",
      "9832         89935.73       1  \n",
      "9834        171681.86       1  \n",
      "9838        161655.55       1  \n",
      "9852         81123.59       1  \n",
      "9856         60552.44       1  \n",
      "9858         92075.01       1  \n",
      "9859        184125.10       1  \n",
      "9863          3497.43       1  \n",
      "9877         45445.78       1  \n",
      "9879        168034.83       1  \n",
      "9882         16281.68       1  \n",
      "9884         30165.06       1  \n",
      "9895         80593.49       1  \n",
      "9898         95483.48       1  \n",
      "9905        123982.14       1  \n",
      "9910         95022.02       1  \n",
      "9917        123646.57       1  \n",
      "9920           738.88       1  \n",
      "9924          6985.34       1  \n",
      "9934        161241.65       1  \n",
      "9947         73124.53       1  \n",
      "9956        117369.52       1  \n",
      "9960        120853.83       1  \n",
      "9962         59207.41       1  \n",
      "9975        196526.55       1  \n",
      "9981         53445.17       1  \n",
      "9982        115146.40       1  \n",
      "9991         69384.71       1  \n",
      "9997         42085.58       1  \n",
      "9998         92888.52       1  \n",
      "\n",
      "[4074 rows x 14 columns]\n"
     ]
    }
   ],
   "source": [
    "print(df_test_under)"
   ]
  },
  {
   "cell_type": "code",
   "execution_count": 0,
   "metadata": {
    "colab": {
     "base_uri": "https://localhost:8080/",
     "height": 224
    },
    "colab_type": "code",
    "id": "_gWjpFVg1KnK",
    "outputId": "62df66c7-ee9a-412d-ad77-5c4bfcb4f8b7"
   },
   "outputs": [
    {
     "data": {
      "text/html": [
       "<div>\n",
       "<style scoped>\n",
       "    .dataframe tbody tr th:only-of-type {\n",
       "        vertical-align: middle;\n",
       "    }\n",
       "\n",
       "    .dataframe tbody tr th {\n",
       "        vertical-align: top;\n",
       "    }\n",
       "\n",
       "    .dataframe thead th {\n",
       "        text-align: right;\n",
       "    }\n",
       "</style>\n",
       "<table border=\"1\" class=\"dataframe\">\n",
       "  <thead>\n",
       "    <tr style=\"text-align: right;\">\n",
       "      <th></th>\n",
       "      <th>RowNumber</th>\n",
       "      <th>CustomerId</th>\n",
       "      <th>Surname</th>\n",
       "      <th>CreditScore</th>\n",
       "      <th>Geography</th>\n",
       "      <th>Gender</th>\n",
       "      <th>Age</th>\n",
       "      <th>Tenure</th>\n",
       "      <th>Balance</th>\n",
       "      <th>NumOfProducts</th>\n",
       "      <th>HasCrCard</th>\n",
       "      <th>IsActiveMember</th>\n",
       "      <th>EstimatedSalary</th>\n",
       "      <th>Exited</th>\n",
       "    </tr>\n",
       "  </thead>\n",
       "  <tbody>\n",
       "    <tr>\n",
       "      <th>2127</th>\n",
       "      <td>2128</td>\n",
       "      <td>15703482</td>\n",
       "      <td>Walker</td>\n",
       "      <td>710</td>\n",
       "      <td>Germany</td>\n",
       "      <td>Male</td>\n",
       "      <td>34</td>\n",
       "      <td>9</td>\n",
       "      <td>134260.36</td>\n",
       "      <td>2</td>\n",
       "      <td>1</td>\n",
       "      <td>0</td>\n",
       "      <td>147074.67</td>\n",
       "      <td>0</td>\n",
       "    </tr>\n",
       "    <tr>\n",
       "      <th>324</th>\n",
       "      <td>325</td>\n",
       "      <td>15682757</td>\n",
       "      <td>Pardey</td>\n",
       "      <td>734</td>\n",
       "      <td>France</td>\n",
       "      <td>Male</td>\n",
       "      <td>30</td>\n",
       "      <td>3</td>\n",
       "      <td>0.00</td>\n",
       "      <td>2</td>\n",
       "      <td>1</td>\n",
       "      <td>0</td>\n",
       "      <td>107640.25</td>\n",
       "      <td>0</td>\n",
       "    </tr>\n",
       "    <tr>\n",
       "      <th>3701</th>\n",
       "      <td>3702</td>\n",
       "      <td>15678317</td>\n",
       "      <td>Manfrin</td>\n",
       "      <td>603</td>\n",
       "      <td>France</td>\n",
       "      <td>Male</td>\n",
       "      <td>46</td>\n",
       "      <td>2</td>\n",
       "      <td>0.00</td>\n",
       "      <td>2</td>\n",
       "      <td>1</td>\n",
       "      <td>1</td>\n",
       "      <td>59563.49</td>\n",
       "      <td>0</td>\n",
       "    </tr>\n",
       "    <tr>\n",
       "      <th>7039</th>\n",
       "      <td>7040</td>\n",
       "      <td>15631685</td>\n",
       "      <td>Lambert</td>\n",
       "      <td>523</td>\n",
       "      <td>Germany</td>\n",
       "      <td>Male</td>\n",
       "      <td>60</td>\n",
       "      <td>1</td>\n",
       "      <td>163894.35</td>\n",
       "      <td>1</td>\n",
       "      <td>0</td>\n",
       "      <td>1</td>\n",
       "      <td>57061.71</td>\n",
       "      <td>0</td>\n",
       "    </tr>\n",
       "    <tr>\n",
       "      <th>3359</th>\n",
       "      <td>3360</td>\n",
       "      <td>15747878</td>\n",
       "      <td>Aiken</td>\n",
       "      <td>739</td>\n",
       "      <td>Spain</td>\n",
       "      <td>Male</td>\n",
       "      <td>60</td>\n",
       "      <td>4</td>\n",
       "      <td>0.00</td>\n",
       "      <td>1</td>\n",
       "      <td>1</td>\n",
       "      <td>1</td>\n",
       "      <td>51637.67</td>\n",
       "      <td>0</td>\n",
       "    </tr>\n",
       "  </tbody>\n",
       "</table>\n",
       "</div>"
      ],
      "text/plain": [
       "      RowNumber  CustomerId  Surname  CreditScore Geography Gender  Age  \\\n",
       "2127       2128    15703482   Walker          710   Germany   Male   34   \n",
       "324         325    15682757   Pardey          734    France   Male   30   \n",
       "3701       3702    15678317  Manfrin          603    France   Male   46   \n",
       "7039       7040    15631685  Lambert          523   Germany   Male   60   \n",
       "3359       3360    15747878    Aiken          739     Spain   Male   60   \n",
       "\n",
       "      Tenure    Balance  NumOfProducts  HasCrCard  IsActiveMember  \\\n",
       "2127       9  134260.36              2          1               0   \n",
       "324        3       0.00              2          1               0   \n",
       "3701       2       0.00              2          1               1   \n",
       "7039       1  163894.35              1          0               1   \n",
       "3359       4       0.00              1          1               1   \n",
       "\n",
       "      EstimatedSalary  Exited  \n",
       "2127        147074.67       0  \n",
       "324         107640.25       0  \n",
       "3701         59563.49       0  \n",
       "7039         57061.71       0  \n",
       "3359         51637.67       0  "
      ]
     },
     "execution_count": 162,
     "metadata": {
      "tags": []
     },
     "output_type": "execute_result"
    }
   ],
   "source": [
    "#Rename the dataframe\n",
    "df = df_test_under\n",
    "df.head()"
   ]
  },
  {
   "cell_type": "code",
   "execution_count": 0,
   "metadata": {
    "colab": {},
    "colab_type": "code",
    "id": "3S5eWTtbrlt8"
   },
   "outputs": [],
   "source": [
    "!pip install -q tensorflow==2.0.0-alpha0"
   ]
  },
  {
   "cell_type": "code",
   "execution_count": 0,
   "metadata": {
    "colab": {},
    "colab_type": "code",
    "id": "c8cAZxhirw7L"
   },
   "outputs": [],
   "source": [
    "import tensorflow as tf\n",
    "from tensorflow import keras"
   ]
  },
  {
   "cell_type": "markdown",
   "metadata": {
    "colab_type": "text",
    "id": "GPHhShtR9_6u"
   },
   "source": [
    "Implement Scaling to standardized scores (i.e.. z-score)"
   ]
  },
  {
   "cell_type": "code",
   "execution_count": 0,
   "metadata": {
    "colab": {
     "base_uri": "https://localhost:8080/",
     "height": 105
    },
    "colab_type": "code",
    "id": "yM4nML_p9knd",
    "outputId": "b3cdc9d2-2d5f-4c3d-d863-1bd8749fafb5"
   },
   "outputs": [
    {
     "name": "stderr",
     "output_type": "stream",
     "text": [
      "/usr/local/lib/python3.6/dist-packages/sklearn/preprocessing/data.py:645: DataConversionWarning: Data with input dtype int64, float64 were all converted to float64 by StandardScaler.\n",
      "  return self.partial_fit(X, y)\n",
      "/usr/local/lib/python3.6/dist-packages/sklearn/base.py:464: DataConversionWarning: Data with input dtype int64, float64 were all converted to float64 by StandardScaler.\n",
      "  return self.fit(X, **fit_params).transform(X)\n"
     ]
    }
   ],
   "source": [
    "from sklearn.preprocessing import StandardScaler\n",
    "scaler = StandardScaler()\n",
    "df[numeric_columns] = scaler.fit_transform(df[numeric_columns])"
   ]
  },
  {
   "cell_type": "code",
   "execution_count": 0,
   "metadata": {
    "colab": {
     "base_uri": "https://localhost:8080/",
     "height": 224
    },
    "colab_type": "code",
    "id": "TR5MmSKe-emG",
    "outputId": "af1e651a-af6d-411e-be19-a1bfd021bc02"
   },
   "outputs": [
    {
     "data": {
      "text/html": [
       "<div>\n",
       "<style scoped>\n",
       "    .dataframe tbody tr th:only-of-type {\n",
       "        vertical-align: middle;\n",
       "    }\n",
       "\n",
       "    .dataframe tbody tr th {\n",
       "        vertical-align: top;\n",
       "    }\n",
       "\n",
       "    .dataframe thead th {\n",
       "        text-align: right;\n",
       "    }\n",
       "</style>\n",
       "<table border=\"1\" class=\"dataframe\">\n",
       "  <thead>\n",
       "    <tr style=\"text-align: right;\">\n",
       "      <th></th>\n",
       "      <th>RowNumber</th>\n",
       "      <th>CustomerId</th>\n",
       "      <th>Surname</th>\n",
       "      <th>CreditScore</th>\n",
       "      <th>Geography</th>\n",
       "      <th>Gender</th>\n",
       "      <th>Age</th>\n",
       "      <th>Tenure</th>\n",
       "      <th>Balance</th>\n",
       "      <th>NumOfProducts</th>\n",
       "      <th>HasCrCard</th>\n",
       "      <th>IsActiveMember</th>\n",
       "      <th>EstimatedSalary</th>\n",
       "      <th>Exited</th>\n",
       "    </tr>\n",
       "  </thead>\n",
       "  <tbody>\n",
       "    <tr>\n",
       "      <th>2127</th>\n",
       "      <td>2128</td>\n",
       "      <td>15703482</td>\n",
       "      <td>Walker</td>\n",
       "      <td>0.616021</td>\n",
       "      <td>Germany</td>\n",
       "      <td>Male</td>\n",
       "      <td>-0.662176</td>\n",
       "      <td>1.369121</td>\n",
       "      <td>0.841308</td>\n",
       "      <td>0.739886</td>\n",
       "      <td>1</td>\n",
       "      <td>0</td>\n",
       "      <td>0.820311</td>\n",
       "      <td>0</td>\n",
       "    </tr>\n",
       "    <tr>\n",
       "      <th>324</th>\n",
       "      <td>325</td>\n",
       "      <td>15682757</td>\n",
       "      <td>Pardey</td>\n",
       "      <td>0.860291</td>\n",
       "      <td>France</td>\n",
       "      <td>Male</td>\n",
       "      <td>-1.037313</td>\n",
       "      <td>-0.697368</td>\n",
       "      <td>-1.350871</td>\n",
       "      <td>0.739886</td>\n",
       "      <td>1</td>\n",
       "      <td>0</td>\n",
       "      <td>0.135773</td>\n",
       "      <td>0</td>\n",
       "    </tr>\n",
       "    <tr>\n",
       "      <th>3701</th>\n",
       "      <td>3702</td>\n",
       "      <td>15678317</td>\n",
       "      <td>Manfrin</td>\n",
       "      <td>-0.473016</td>\n",
       "      <td>France</td>\n",
       "      <td>Male</td>\n",
       "      <td>0.463235</td>\n",
       "      <td>-1.041783</td>\n",
       "      <td>-1.350871</td>\n",
       "      <td>0.739886</td>\n",
       "      <td>1</td>\n",
       "      <td>1</td>\n",
       "      <td>-0.698786</td>\n",
       "      <td>0</td>\n",
       "    </tr>\n",
       "    <tr>\n",
       "      <th>7039</th>\n",
       "      <td>7040</td>\n",
       "      <td>15631685</td>\n",
       "      <td>Lambert</td>\n",
       "      <td>-1.287249</td>\n",
       "      <td>Germany</td>\n",
       "      <td>Male</td>\n",
       "      <td>1.776215</td>\n",
       "      <td>-1.386198</td>\n",
       "      <td>1.325166</td>\n",
       "      <td>-0.747920</td>\n",
       "      <td>0</td>\n",
       "      <td>1</td>\n",
       "      <td>-0.742214</td>\n",
       "      <td>0</td>\n",
       "    </tr>\n",
       "    <tr>\n",
       "      <th>3359</th>\n",
       "      <td>3360</td>\n",
       "      <td>15747878</td>\n",
       "      <td>Aiken</td>\n",
       "      <td>0.911181</td>\n",
       "      <td>Spain</td>\n",
       "      <td>Male</td>\n",
       "      <td>1.776215</td>\n",
       "      <td>-0.352953</td>\n",
       "      <td>-1.350871</td>\n",
       "      <td>-0.747920</td>\n",
       "      <td>1</td>\n",
       "      <td>1</td>\n",
       "      <td>-0.836369</td>\n",
       "      <td>0</td>\n",
       "    </tr>\n",
       "  </tbody>\n",
       "</table>\n",
       "</div>"
      ],
      "text/plain": [
       "      RowNumber  CustomerId  Surname  CreditScore Geography Gender       Age  \\\n",
       "2127       2128    15703482   Walker     0.616021   Germany   Male -0.662176   \n",
       "324         325    15682757   Pardey     0.860291    France   Male -1.037313   \n",
       "3701       3702    15678317  Manfrin    -0.473016    France   Male  0.463235   \n",
       "7039       7040    15631685  Lambert    -1.287249   Germany   Male  1.776215   \n",
       "3359       3360    15747878    Aiken     0.911181     Spain   Male  1.776215   \n",
       "\n",
       "        Tenure   Balance  NumOfProducts  HasCrCard  IsActiveMember  \\\n",
       "2127  1.369121  0.841308       0.739886          1               0   \n",
       "324  -0.697368 -1.350871       0.739886          1               0   \n",
       "3701 -1.041783 -1.350871       0.739886          1               1   \n",
       "7039 -1.386198  1.325166      -0.747920          0               1   \n",
       "3359 -0.352953 -1.350871      -0.747920          1               1   \n",
       "\n",
       "      EstimatedSalary  Exited  \n",
       "2127         0.820311       0  \n",
       "324          0.135773       0  \n",
       "3701        -0.698786       0  \n",
       "7039        -0.742214       0  \n",
       "3359        -0.836369       0  "
      ]
     },
     "execution_count": 166,
     "metadata": {
      "tags": []
     },
     "output_type": "execute_result"
    }
   ],
   "source": [
    "df.head()"
   ]
  },
  {
   "cell_type": "code",
   "execution_count": 0,
   "metadata": {
    "colab": {},
    "colab_type": "code",
    "id": "Kxp6PZafse1M"
   },
   "outputs": [],
   "source": [
    "from sklearn.model_selection import train_test_split"
   ]
  },
  {
   "cell_type": "code",
   "execution_count": 0,
   "metadata": {
    "colab": {},
    "colab_type": "code",
    "id": "WYyO3fIGsnFb"
   },
   "outputs": [],
   "source": [
    "train, test = train_test_split(df, test_size=0.2, random_state=1)"
   ]
  },
  {
   "cell_type": "code",
   "execution_count": 0,
   "metadata": {
    "colab": {},
    "colab_type": "code",
    "id": "jZcaM23vt2q6"
   },
   "outputs": [],
   "source": [
    "train, valid = train_test_split(train, test_size=0.2, random_state=1)"
   ]
  },
  {
   "cell_type": "code",
   "execution_count": 0,
   "metadata": {
    "colab": {
     "base_uri": "https://localhost:8080/",
     "height": 224
    },
    "colab_type": "code",
    "id": "iUK8X6gcuBCM",
    "outputId": "50299c9d-07f7-48d4-fa10-1cc3f269d0bb"
   },
   "outputs": [
    {
     "data": {
      "text/html": [
       "<div>\n",
       "<style scoped>\n",
       "    .dataframe tbody tr th:only-of-type {\n",
       "        vertical-align: middle;\n",
       "    }\n",
       "\n",
       "    .dataframe tbody tr th {\n",
       "        vertical-align: top;\n",
       "    }\n",
       "\n",
       "    .dataframe thead th {\n",
       "        text-align: right;\n",
       "    }\n",
       "</style>\n",
       "<table border=\"1\" class=\"dataframe\">\n",
       "  <thead>\n",
       "    <tr style=\"text-align: right;\">\n",
       "      <th></th>\n",
       "      <th>RowNumber</th>\n",
       "      <th>CustomerId</th>\n",
       "      <th>Surname</th>\n",
       "      <th>CreditScore</th>\n",
       "      <th>Geography</th>\n",
       "      <th>Gender</th>\n",
       "      <th>Age</th>\n",
       "      <th>Tenure</th>\n",
       "      <th>Balance</th>\n",
       "      <th>NumOfProducts</th>\n",
       "      <th>HasCrCard</th>\n",
       "      <th>IsActiveMember</th>\n",
       "      <th>EstimatedSalary</th>\n",
       "      <th>Exited</th>\n",
       "    </tr>\n",
       "  </thead>\n",
       "  <tbody>\n",
       "    <tr>\n",
       "      <th>7998</th>\n",
       "      <td>7999</td>\n",
       "      <td>15772482</td>\n",
       "      <td>Iloerika</td>\n",
       "      <td>1.827193</td>\n",
       "      <td>Germany</td>\n",
       "      <td>Male</td>\n",
       "      <td>-1.224881</td>\n",
       "      <td>-0.697368</td>\n",
       "      <td>0.811022</td>\n",
       "      <td>2.227691</td>\n",
       "      <td>1</td>\n",
       "      <td>0</td>\n",
       "      <td>0.088018</td>\n",
       "      <td>1</td>\n",
       "    </tr>\n",
       "    <tr>\n",
       "      <th>357</th>\n",
       "      <td>358</td>\n",
       "      <td>15661629</td>\n",
       "      <td>Ricci</td>\n",
       "      <td>-1.297427</td>\n",
       "      <td>Spain</td>\n",
       "      <td>Male</td>\n",
       "      <td>-0.662176</td>\n",
       "      <td>1.369121</td>\n",
       "      <td>0.713558</td>\n",
       "      <td>-0.747920</td>\n",
       "      <td>1</td>\n",
       "      <td>0</td>\n",
       "      <td>1.292018</td>\n",
       "      <td>1</td>\n",
       "    </tr>\n",
       "    <tr>\n",
       "      <th>8306</th>\n",
       "      <td>8307</td>\n",
       "      <td>15777060</td>\n",
       "      <td>Olszewski</td>\n",
       "      <td>1.226696</td>\n",
       "      <td>France</td>\n",
       "      <td>Female</td>\n",
       "      <td>-0.755960</td>\n",
       "      <td>-0.352953</td>\n",
       "      <td>-1.350871</td>\n",
       "      <td>-0.747920</td>\n",
       "      <td>1</td>\n",
       "      <td>0</td>\n",
       "      <td>-1.280013</td>\n",
       "      <td>1</td>\n",
       "    </tr>\n",
       "    <tr>\n",
       "      <th>7892</th>\n",
       "      <td>7893</td>\n",
       "      <td>15707025</td>\n",
       "      <td>Fang</td>\n",
       "      <td>-0.015010</td>\n",
       "      <td>Spain</td>\n",
       "      <td>Female</td>\n",
       "      <td>-0.943529</td>\n",
       "      <td>-0.008539</td>\n",
       "      <td>-1.350871</td>\n",
       "      <td>0.739886</td>\n",
       "      <td>1</td>\n",
       "      <td>1</td>\n",
       "      <td>-1.642493</td>\n",
       "      <td>0</td>\n",
       "    </tr>\n",
       "    <tr>\n",
       "      <th>6616</th>\n",
       "      <td>6617</td>\n",
       "      <td>15744046</td>\n",
       "      <td>Andrejew</td>\n",
       "      <td>-0.442482</td>\n",
       "      <td>Spain</td>\n",
       "      <td>Male</td>\n",
       "      <td>-0.755960</td>\n",
       "      <td>1.024706</td>\n",
       "      <td>-1.350871</td>\n",
       "      <td>0.739886</td>\n",
       "      <td>1</td>\n",
       "      <td>1</td>\n",
       "      <td>-0.636064</td>\n",
       "      <td>0</td>\n",
       "    </tr>\n",
       "  </tbody>\n",
       "</table>\n",
       "</div>"
      ],
      "text/plain": [
       "      RowNumber  CustomerId    Surname  CreditScore Geography  Gender  \\\n",
       "7998       7999    15772482   Iloerika     1.827193   Germany    Male   \n",
       "357         358    15661629      Ricci    -1.297427     Spain    Male   \n",
       "8306       8307    15777060  Olszewski     1.226696    France  Female   \n",
       "7892       7893    15707025       Fang    -0.015010     Spain  Female   \n",
       "6616       6617    15744046   Andrejew    -0.442482     Spain    Male   \n",
       "\n",
       "           Age    Tenure   Balance  NumOfProducts  HasCrCard  IsActiveMember  \\\n",
       "7998 -1.224881 -0.697368  0.811022       2.227691          1               0   \n",
       "357  -0.662176  1.369121  0.713558      -0.747920          1               0   \n",
       "8306 -0.755960 -0.352953 -1.350871      -0.747920          1               0   \n",
       "7892 -0.943529 -0.008539 -1.350871       0.739886          1               1   \n",
       "6616 -0.755960  1.024706 -1.350871       0.739886          1               1   \n",
       "\n",
       "      EstimatedSalary  Exited  \n",
       "7998         0.088018       1  \n",
       "357          1.292018       1  \n",
       "8306        -1.280013       1  \n",
       "7892        -1.642493       0  \n",
       "6616        -0.636064       0  "
      ]
     },
     "execution_count": 170,
     "metadata": {
      "tags": []
     },
     "output_type": "execute_result"
    }
   ],
   "source": [
    "valid.head()"
   ]
  },
  {
   "cell_type": "code",
   "execution_count": 0,
   "metadata": {
    "colab": {},
    "colab_type": "code",
    "id": "UB_oN95SuGTr"
   },
   "outputs": [],
   "source": [
    "from tensorflow import feature_column"
   ]
  },
  {
   "cell_type": "code",
   "execution_count": 0,
   "metadata": {
    "colab": {},
    "colab_type": "code",
    "id": "POkj0Ab0ubSb"
   },
   "outputs": [],
   "source": [
    "tf.random.set_seed(1)"
   ]
  },
  {
   "cell_type": "code",
   "execution_count": 0,
   "metadata": {
    "colab": {
     "base_uri": "https://localhost:8080/",
     "height": 85
    },
    "colab_type": "code",
    "id": "auInt4UTvMhN",
    "outputId": "032931e9-54aa-457c-a280-3cda6ab30516"
   },
   "outputs": [
    {
     "data": {
      "text/plain": [
       "Index(['RowNumber', 'CustomerId', 'Surname', 'CreditScore', 'Geography',\n",
       "       'Gender', 'Age', 'Tenure', 'Balance', 'NumOfProducts', 'HasCrCard',\n",
       "       'IsActiveMember', 'EstimatedSalary', 'Exited'],\n",
       "      dtype='object')"
      ]
     },
     "execution_count": 173,
     "metadata": {
      "tags": []
     },
     "output_type": "execute_result"
    }
   ],
   "source": [
    "df.columns"
   ]
  },
  {
   "cell_type": "code",
   "execution_count": 0,
   "metadata": {
    "colab": {},
    "colab_type": "code",
    "id": "6z3Lyl8-vbh8"
   },
   "outputs": [],
   "source": [
    "feature_columns = []"
   ]
  },
  {
   "cell_type": "code",
   "execution_count": 0,
   "metadata": {
    "colab": {},
    "colab_type": "code",
    "id": "zjfRzz-Ovfts"
   },
   "outputs": [],
   "source": [
    "for header in numeric_columns:\n",
    "  feature_columns.append(feature_column.numeric_column(header))"
   ]
  },
  {
   "cell_type": "code",
   "execution_count": 0,
   "metadata": {
    "colab": {},
    "colab_type": "code",
    "id": "Lks9brBowEec"
   },
   "outputs": [],
   "source": [
    "def get_one_hot_rom_categorical(colname):\n",
    "  categorical = feature_column.categorical_column_with_vocabulary_list(\n",
    "  colname,\n",
    "  train[colname].unique().tolist())\n",
    "  return feature_column.indicator_column(categorical)"
   ]
  },
  {
   "cell_type": "code",
   "execution_count": 0,
   "metadata": {
    "colab": {},
    "colab_type": "code",
    "id": "qUwc8z7kwqRM"
   },
   "outputs": [],
   "source": [
    "for col in categorical_columns:\n",
    "  feature_columns.append(get_one_hot_rom_categorical(col))"
   ]
  },
  {
   "cell_type": "code",
   "execution_count": 0,
   "metadata": {
    "colab": {
     "base_uri": "https://localhost:8080/",
     "height": 207
    },
    "colab_type": "code",
    "id": "DrUPqyAmw668",
    "outputId": "18e03efd-254f-4a04-8c51-38ee9c548173"
   },
   "outputs": [
    {
     "data": {
      "text/plain": [
       "[NumericColumn(key='CreditScore', shape=(1,), default_value=None, dtype=tf.float32, normalizer_fn=None),\n",
       " NumericColumn(key='Age', shape=(1,), default_value=None, dtype=tf.float32, normalizer_fn=None),\n",
       " NumericColumn(key='Tenure', shape=(1,), default_value=None, dtype=tf.float32, normalizer_fn=None),\n",
       " NumericColumn(key='Balance', shape=(1,), default_value=None, dtype=tf.float32, normalizer_fn=None),\n",
       " NumericColumn(key='NumOfProducts', shape=(1,), default_value=None, dtype=tf.float32, normalizer_fn=None),\n",
       " NumericColumn(key='EstimatedSalary', shape=(1,), default_value=None, dtype=tf.float32, normalizer_fn=None),\n",
       " IndicatorColumn(categorical_column=VocabularyListCategoricalColumn(key='Geography', vocabulary_list=('Spain', 'France', 'Germany'), dtype=tf.string, default_value=-1, num_oov_buckets=0)),\n",
       " IndicatorColumn(categorical_column=VocabularyListCategoricalColumn(key='Gender', vocabulary_list=('Female', 'Male'), dtype=tf.string, default_value=-1, num_oov_buckets=0)),\n",
       " IndicatorColumn(categorical_column=VocabularyListCategoricalColumn(key='HasCrCard', vocabulary_list=(1, 0), dtype=tf.int64, default_value=-1, num_oov_buckets=0)),\n",
       " IndicatorColumn(categorical_column=VocabularyListCategoricalColumn(key='IsActiveMember', vocabulary_list=(0, 1), dtype=tf.int64, default_value=-1, num_oov_buckets=0))]"
      ]
     },
     "execution_count": 178,
     "metadata": {
      "tags": []
     },
     "output_type": "execute_result"
    }
   ],
   "source": [
    "feature_columns"
   ]
  },
  {
   "cell_type": "code",
   "execution_count": 0,
   "metadata": {
    "colab": {},
    "colab_type": "code",
    "id": "GmGW0nAOw7tM"
   },
   "outputs": [],
   "source": [
    "from tensorflow.keras import layers"
   ]
  },
  {
   "cell_type": "code",
   "execution_count": 0,
   "metadata": {
    "colab": {},
    "colab_type": "code",
    "id": "puXQ2JTJxK5M"
   },
   "outputs": [],
   "source": [
    "feature_layer = layers.DenseFeatures(feature_columns)"
   ]
  },
  {
   "cell_type": "code",
   "execution_count": 0,
   "metadata": {
    "colab": {
     "base_uri": "https://localhost:8080/",
     "height": 34
    },
    "colab_type": "code",
    "id": "AwNBJL9FxQDt",
    "outputId": "11eb9e49-0823-4f48-d117-af5c006dc683"
   },
   "outputs": [
    {
     "data": {
      "text/plain": [
       "<tensorflow.python.feature_column.feature_column_v2.DenseFeatures at 0x7f9130fa0f28>"
      ]
     },
     "execution_count": 181,
     "metadata": {
      "tags": []
     },
     "output_type": "execute_result"
    }
   ],
   "source": [
    "feature_layer"
   ]
  },
  {
   "cell_type": "code",
   "execution_count": 0,
   "metadata": {
    "colab": {},
    "colab_type": "code",
    "id": "5t3rm0BBxQz_"
   },
   "outputs": [],
   "source": [
    "model = keras.Sequential()\n",
    "model.add(feature_layer)\n",
    "model.add(layers.Dense(200, activation='relu'))\n",
    "model.add(layers.Dense(100, activation='relu'))\n",
    "model.add(layers.Dense(1, activation='sigmoid'))"
   ]
  },
  {
   "cell_type": "code",
   "execution_count": 0,
   "metadata": {
    "colab": {},
    "colab_type": "code",
    "id": "3NvsdcGTyAr9"
   },
   "outputs": [],
   "source": [
    "model.compile(optimizer='adam',\n",
    "             loss='binary_crossentropy',\n",
    "             metrics=['accuracy'])"
   ]
  },
  {
   "cell_type": "code",
   "execution_count": 0,
   "metadata": {
    "colab": {},
    "colab_type": "code",
    "id": "MmzLApAGyLvt"
   },
   "outputs": [],
   "source": [
    "def df_to_tfdata(df, shuffle=True, bs=32):\n",
    "  df = df.copy()\n",
    "  labels = df.pop('Exited')\n",
    "  ds = tf.data.Dataset.from_tensor_slices((dict(df), labels))\n",
    "  if shuffle:\n",
    "    ds = ds.shuffle(buffer_size=len(df), seed=1)\n",
    "  ds = ds.batch(bs)\n",
    "  return ds"
   ]
  },
  {
   "cell_type": "code",
   "execution_count": 0,
   "metadata": {
    "colab": {},
    "colab_type": "code",
    "id": "XZT5usTjy-hc"
   },
   "outputs": [],
   "source": [
    "train_ds = df_to_tfdata(train)"
   ]
  },
  {
   "cell_type": "code",
   "execution_count": 0,
   "metadata": {
    "colab": {},
    "colab_type": "code",
    "id": "Bm9AT7BBzE1e"
   },
   "outputs": [],
   "source": [
    "valid_ds = df_to_tfdata(valid, shuffle=False)\n",
    "test_ds = df_to_tfdata(test, shuffle=False)"
   ]
  },
  {
   "cell_type": "code",
   "execution_count": 0,
   "metadata": {
    "colab": {
     "base_uri": "https://localhost:8080/",
     "height": 224
    },
    "colab_type": "code",
    "id": "S5xGmRrbzNEN",
    "outputId": "8a3a7a70-9aa1-44fc-e263-fee6cbab2832"
   },
   "outputs": [
    {
     "name": "stdout",
     "output_type": "stream",
     "text": [
      "Epoch 1/5\n",
      "82/82 [==============================] - 2s 21ms/step - loss: 0.5831 - accuracy: 0.6432 - val_loss: 0.5055 - val_accuracy: 0.7776\n",
      "Epoch 2/5\n",
      "82/82 [==============================] - 2s 19ms/step - loss: 0.5133 - accuracy: 0.7424 - val_loss: 0.4665 - val_accuracy: 0.7853\n",
      "Epoch 3/5\n",
      "82/82 [==============================] - 2s 19ms/step - loss: 0.4814 - accuracy: 0.7638 - val_loss: 0.4533 - val_accuracy: 0.7945\n",
      "Epoch 4/5\n",
      "82/82 [==============================] - 2s 18ms/step - loss: 0.4676 - accuracy: 0.7680 - val_loss: 0.4512 - val_accuracy: 0.8006\n",
      "Epoch 5/5\n",
      "82/82 [==============================] - 2s 18ms/step - loss: 0.4595 - accuracy: 0.7760 - val_loss: 0.4509 - val_accuracy: 0.7975\n"
     ]
    },
    {
     "data": {
      "text/plain": [
       "<tensorflow.python.keras.callbacks.History at 0x7f9130f59080>"
      ]
     },
     "execution_count": 187,
     "metadata": {
      "tags": []
     },
     "output_type": "execute_result"
    }
   ],
   "source": [
    "model.fit(train_ds,\n",
    "         validation_data = valid_ds,\n",
    "         epochs=5)"
   ]
  },
  {
   "cell_type": "code",
   "execution_count": 0,
   "metadata": {
    "colab": {
     "base_uri": "https://localhost:8080/",
     "height": 51
    },
    "colab_type": "code",
    "id": "U6dUm_nczW2N",
    "outputId": "e5c64c7f-554f-4336-9834-5dd7948b48df"
   },
   "outputs": [
    {
     "name": "stdout",
     "output_type": "stream",
     "text": [
      "26/26 [==============================] - 0s 11ms/step - loss: 0.4712 - accuracy: 0.7656\n"
     ]
    },
    {
     "data": {
      "text/plain": [
       "[0.4712032744517693, 0.7656442]"
      ]
     },
     "execution_count": 188,
     "metadata": {
      "tags": []
     },
     "output_type": "execute_result"
    }
   ],
   "source": [
    "model.evaluate(test_ds)"
   ]
  },
  {
   "cell_type": "code",
   "execution_count": 0,
   "metadata": {
    "colab": {
     "base_uri": "https://localhost:8080/",
     "height": 68
    },
    "colab_type": "code",
    "id": "z3zbcs8TzuYN",
    "outputId": "431e63bb-9153-4bd1-e03c-1071c26849a8"
   },
   "outputs": [
    {
     "data": {
      "text/plain": [
       "0    1310\n",
       "1    1297\n",
       "Name: Exited, dtype: int64"
      ]
     },
     "execution_count": 189,
     "metadata": {
      "tags": []
     },
     "output_type": "execute_result"
    }
   ],
   "source": [
    "train.Exited.value_counts()"
   ]
  },
  {
   "cell_type": "code",
   "execution_count": 0,
   "metadata": {
    "colab": {
     "base_uri": "https://localhost:8080/",
     "height": 68
    },
    "colab_type": "code",
    "id": "QBls2daB1kQg",
    "outputId": "b078ede8-78f6-4c96-cc2c-3bc34ff628a0"
   },
   "outputs": [
    {
     "data": {
      "text/plain": [
       "1    415\n",
       "0    400\n",
       "Name: Exited, dtype: int64"
      ]
     },
     "execution_count": 190,
     "metadata": {
      "tags": []
     },
     "output_type": "execute_result"
    }
   ],
   "source": [
    "test.Exited.value_counts()"
   ]
  },
  {
   "cell_type": "markdown",
   "metadata": {
    "colab_type": "text",
    "id": "9-fjc5bP24mh"
   },
   "source": [
    "Addressed the unbalanced data issues with a ramdom undersampling approach. Then any numerical values are standardized by scaling. This is only one example of how to address inbalanced data. We can also try to handle it with random oversampling but each has their pros and cons. "
   ]
  }
 ],
 "metadata": {
  "accelerator": "GPU",
  "colab": {
   "collapsed_sections": [],
   "name": "Jim_SelfStudy12_TensorFlow.ipynb",
   "provenance": [],
   "version": "0.3.2"
  },
  "kernelspec": {
   "display_name": "Python 3",
   "language": "python",
   "name": "python3"
  },
  "language_info": {
   "codemirror_mode": {
    "name": "ipython",
    "version": 3
   },
   "file_extension": ".py",
   "mimetype": "text/x-python",
   "name": "python",
   "nbconvert_exporter": "python",
   "pygments_lexer": "ipython3",
   "version": "3.7.1"
  }
 },
 "nbformat": 4,
 "nbformat_minor": 1
}
