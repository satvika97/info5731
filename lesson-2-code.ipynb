{
 "cells": [
  {
   "cell_type": "code",
   "execution_count": 22,
   "metadata": {},
   "outputs": [],
   "source": [
    "message = 'Welcome to the course INFO 5731 - Computational Methods for Information Systems'"
   ]
  },
  {
   "cell_type": "code",
   "execution_count": 23,
   "metadata": {},
   "outputs": [
    {
     "name": "stdout",
     "output_type": "stream",
     "text": [
      "Welcome to the course INFO 5731 - Computational Methods for Information Systems\n"
     ]
    }
   ],
   "source": [
    "print(message)"
   ]
  },
  {
   "cell_type": "code",
   "execution_count": 3,
   "metadata": {},
   "outputs": [],
   "source": [
    "#assignment statements\n",
    "n = 17\n",
    "pi = 3.141592653589793"
   ]
  },
  {
   "cell_type": "code",
   "execution_count": 4,
   "metadata": {},
   "outputs": [
    {
     "name": "stdout",
     "output_type": "stream",
     "text": [
      "20\n",
      "60\n"
     ]
    }
   ],
   "source": [
    "#expressions and statements\n",
    "n = 20\n",
    "print(n)\n",
    "print(n+40)\n"
   ]
  },
  {
   "cell_type": "code",
   "execution_count": 7,
   "metadata": {},
   "outputs": [
    {
     "name": "stdout",
     "output_type": "stream",
     "text": [
      "42.182\n"
     ]
    }
   ],
   "source": [
    "#Script mode\n",
    "miles = 26.2 \n",
    "print(miles * 1.61)"
   ]
  },
  {
   "cell_type": "code",
   "execution_count": 17,
   "metadata": {},
   "outputs": [
    {
     "name": "stdout",
     "output_type": "stream",
     "text": [
      "satvikamarrapu\n"
     ]
    }
   ],
   "source": [
    "#String operations\n",
    "first = 'satvika' \n",
    "second = 'marrapu'  \n",
    "print(first+second)"
   ]
  },
  {
   "cell_type": "code",
   "execution_count": 16,
   "metadata": {},
   "outputs": [
    {
     "name": "stdout",
     "output_type": "stream",
     "text": [
      "4\n",
      "8\n",
      "9\n",
      "18\n",
      "5\n",
      "8.0\n",
      "31.41592653589793\n"
     ]
    }
   ],
   "source": [
    "#Order of operations\n",
    "x=2 * (3-1)\n",
    "print(x)\n",
    "y=(1+1)**(5-2)\n",
    "print(y)\n",
    "z=1 + 2**3 \n",
    "print(z)\n",
    "a= 2 * 3**2 \n",
    "print(a)\n",
    "b=2*3-1\n",
    "print(b)\n",
    "c= 6+4/2 \n",
    "print(c)\n",
    "degrees=20\n",
    "d= degrees / 2 * pi\n",
    "print(d)"
   ]
  },
  {
   "cell_type": "code",
   "execution_count": 24,
   "metadata": {},
   "outputs": [],
   "source": [
    "#comments\n",
    "v = 5 # assign 5 to v \n"
   ]
  },
  {
   "cell_type": "code",
   "execution_count": 25,
   "metadata": {},
   "outputs": [],
   "source": [
    "#chapter3"
   ]
  },
  {
   "cell_type": "code",
   "execution_count": 31,
   "metadata": {},
   "outputs": [
    {
     "name": "stdout",
     "output_type": "stream",
     "text": [
      "32\n",
      "64\n",
      "-2\n",
      "32.0\n",
      "-3.677\n",
      "my name is satvika\n",
      "32\n"
     ]
    }
   ],
   "source": [
    "#Function calls\n",
    "a = int('32')\n",
    "print(a)\n",
    "print(a*2)\n",
    "b = int(-2.3)\n",
    "print(b)\n",
    "x = float(32)\n",
    "print(x)\n",
    "y = float(-3.677)\n",
    "print(y)\n",
    "c = str('my name is satvika')\n",
    "print(c)\n",
    "d = str(32)\n",
    "print(d)"
   ]
  },
  {
   "cell_type": "code",
   "execution_count": 33,
   "metadata": {},
   "outputs": [
    {
     "name": "stdout",
     "output_type": "stream",
     "text": [
      "0.644217687237691\n"
     ]
    }
   ],
   "source": [
    "#Math functions\n",
    "import math \n",
    "radians = 0.7\n",
    "height = math.sin(radians) \n",
    "print(height)"
   ]
  },
  {
   "cell_type": "code",
   "execution_count": 34,
   "metadata": {},
   "outputs": [
    {
     "name": "stdout",
     "output_type": "stream",
     "text": [
      "0.7071067811865476\n"
     ]
    }
   ],
   "source": [
    "import math\n",
    "degrees = 45\n",
    "radians = degrees / 180.0 * math.pi\n",
    "x = math.sin(radians) \n",
    "print(x)"
   ]
  },
  {
   "cell_type": "code",
   "execution_count": 35,
   "metadata": {},
   "outputs": [
    {
     "name": "stdout",
     "output_type": "stream",
     "text": [
      "0.7071067811865476\n"
     ]
    }
   ],
   "source": [
    "import math\n",
    "a=math.sqrt(2) / 2.0 \n",
    "print(a)"
   ]
  },
  {
   "cell_type": "code",
   "execution_count": 37,
   "metadata": {},
   "outputs": [
    {
     "name": "stdout",
     "output_type": "stream",
     "text": [
      "0.7071067811865476\n"
     ]
    }
   ],
   "source": [
    "#composition\n",
    "import math\n",
    "x = math.sin(degrees / 360.0 * 2 * math.pi) \n",
    "print(x)"
   ]
  },
  {
   "cell_type": "code",
   "execution_count": 38,
   "metadata": {},
   "outputs": [
    {
     "name": "stdout",
     "output_type": "stream",
     "text": [
      "1.7071067811865475\n"
     ]
    }
   ],
   "source": [
    "import math\n",
    "x = math.exp(math.log(x+1))\n",
    "print(x)"
   ]
  },
  {
   "cell_type": "code",
   "execution_count": 40,
   "metadata": {},
   "outputs": [
    {
     "name": "stdout",
     "output_type": "stream",
     "text": [
      "2400\n"
     ]
    }
   ],
   "source": [
    "import math\n",
    "hours = 40\n",
    "minutes = hours * 60 \n",
    "print(minutes)"
   ]
  },
  {
   "cell_type": "code",
   "execution_count": 45,
   "metadata": {},
   "outputs": [
    {
     "name": "stdout",
     "output_type": "stream",
     "text": [
      "I'm a very good girl\n",
      "Said me my teacher my dear brother.\n"
     ]
    }
   ],
   "source": [
    "#Adding new functions\n",
    "def print_song(): \n",
    "    print(\"I'm a very good girl\") \n",
    "    print(\"Said me my teacher my dear brother.\")\n",
    "    \n",
    "print_song()    "
   ]
  },
  {
   "cell_type": "code",
   "execution_count": 46,
   "metadata": {},
   "outputs": [
    {
     "name": "stdout",
     "output_type": "stream",
     "text": [
      "I'm a very good girl\n",
      "Said me my teacher my dear brother.\n",
      "I'm a very good girl\n",
      "Said me my teacher my dear brother.\n"
     ]
    }
   ],
   "source": [
    "def repeat_song(): \n",
    "    print_song() \n",
    "    print_song() \n",
    "    \n",
    "repeat_song()    "
   ]
  },
  {
   "cell_type": "code",
   "execution_count": 47,
   "metadata": {},
   "outputs": [
    {
     "name": "stdout",
     "output_type": "stream",
     "text": [
      "I'm a very good girl\n",
      "Said me my teacher my dear brother.\n",
      "I'm a very good girl\n",
      "Said me my teacher my dear brother.\n"
     ]
    }
   ],
   "source": [
    "# Deﬁnitions and uses\n",
    "def print_song(): \n",
    "    print(\"I'm a very good girl\") \n",
    "    print(\"Said me my teacher my dear brother.\")\n",
    "def repeat_song(): \n",
    "    print_song() \n",
    "    print_song()\n",
    "    \n",
    "repeat_song() "
   ]
  },
  {
   "cell_type": "code",
   "execution_count": 66,
   "metadata": {},
   "outputs": [
    {
     "name": "stdout",
     "output_type": "stream",
     "text": [
      "tiger\n",
      "tiger\n"
     ]
    }
   ],
   "source": [
    "#Parameters and arguments\n",
    "def print_twice(x):\n",
    "    print(x)\n",
    "    print(x)\n",
    "    \n",
    "print_twice('tiger')    \n",
    "    \n",
    "    "
   ]
  },
  {
   "cell_type": "code",
   "execution_count": 69,
   "metadata": {},
   "outputs": [
    {
     "name": "stdout",
     "output_type": "stream",
     "text": [
      "tiger tiger tiger tiger \n",
      "tiger tiger tiger tiger \n",
      "-1.0\n",
      "-1.0\n"
     ]
    }
   ],
   "source": [
    "print_twice('tiger ' * 4)\n",
    "print_twice(math.cos(math.pi)) "
   ]
  },
  {
   "cell_type": "code",
   "execution_count": 78,
   "metadata": {},
   "outputs": [
    {
     "name": "stdout",
     "output_type": "stream",
     "text": [
      "Computational Methods for Information Systems.\n",
      "Computational Methods for Information Systems.\n"
     ]
    }
   ],
   "source": [
    "subject = 'Computational Methods for Information Systems.' \n",
    "print_twice(subject) "
   ]
  },
  {
   "cell_type": "code",
   "execution_count": 76,
   "metadata": {},
   "outputs": [],
   "source": [
    "#Variables and parameters are local\n",
    "def add_twice(part1, part2): \n",
    "    add = part1 + part2 \n",
    "    print_twice(add) "
   ]
  },
  {
   "cell_type": "code",
   "execution_count": 80,
   "metadata": {},
   "outputs": [
    {
     "name": "stdout",
     "output_type": "stream",
     "text": [
      "satvika marrapu\n",
      "satvika marrapu\n"
     ]
    }
   ],
   "source": [
    "    line1 = 'satvika'\n",
    "    line2 = ' marrapu'\n",
    "    add_twice(line1,line2)"
   ]
  },
  {
   "cell_type": "code",
   "execution_count": null,
   "metadata": {},
   "outputs": [],
   "source": [
    "#Case study: interface design\n",
    "import turtle \n",
    "bob = turtle.Turtle()"
   ]
  },
  {
   "cell_type": "code",
   "execution_count": null,
   "metadata": {},
   "outputs": [],
   "source": [
    "#Simple repetition\n",
    "import turtle\n",
    "bob = turtle.Turtle()\n",
    "bob.fd(100)\n",
    "bob.lt(90)\n",
    "bob.fd(100)\n",
    "bob.lt(90)\n",
    "bob.fd(100)\n",
    "bob.lt(90)\n"
   ]
  },
  {
   "cell_type": "code",
   "execution_count": null,
   "metadata": {},
   "outputs": [],
   "source": [
    "#Encapsulation\n",
    "def square(t):\n",
    "    for i in range(4): \n",
    "        t.fd(100) \n",
    "        t.lt(90)\n",
    "        \n",
    "square(bob)"
   ]
  },
  {
   "cell_type": "code",
   "execution_count": null,
   "metadata": {},
   "outputs": [],
   "source": [
    "# polygon\n",
    "import turtle\n",
    "bob = turtle.Turtle()\n",
    "def polygon(t,n,length): \n",
    "    angle = 360/n\n",
    "    for i in range(n):\n",
    "        t.fd(length)\n",
    "        t.lt(angle)\n",
    "        \n",
    "polygon(bob, 7, 70)"
   ]
  },
  {
   "cell_type": "code",
   "execution_count": null,
   "metadata": {},
   "outputs": [],
   "source": [
    "#drawing circle using polygon\n",
    "import turtle\n",
    "import math\n",
    "bob = turtle.Turtle()\n",
    "def polygon(t,n,length): \n",
    "    angle = 360/n\n",
    "    for i in range(n):\n",
    "        t.fd(length)\n",
    "        t.lt(angle)\n",
    "def circle(t, r):     \n",
    "    circumference = 2 * math.pi * r\n",
    "    n = int(circumference / 3) + 3\n",
    "    length = circumference / n\n",
    "    polygon(t, n, length)\n",
    "\n",
    "circle(bob, 100)"
   ]
  },
  {
   "cell_type": "code",
   "execution_count": null,
   "metadata": {},
   "outputs": [],
   "source": [
    "import turtle\n",
    "import math\n",
    "bob = turtle.Turtle()\n",
    "def polyline(t, n, length, angle):\n",
    "    for i in range(n):\n",
    "        t.fd(length)\n",
    "        t.lt(angle)\n",
    "def polygon(t, n, length):\n",
    "    angle = 360.0 / n\n",
    "    polyline(t, n, length, angle)\n",
    "def arc(t, r, angle):\n",
    "    arc_length = 2 * math.pi * r * angle / 360\n",
    "    n = int(arc_length / 3) + 1\n",
    "    step_length = arc_length / n\n",
    "    step_angle = float(angle) / n\n",
    "    polyline(t, n, step_length, step_angle)\n",
    "def circle(t, r):\n",
    "    arc(t, r, 360)    \n",
    "\n",
    "circle(bob, 100)"
   ]
  },
  {
   "cell_type": "code",
   "execution_count": 89,
   "metadata": {},
   "outputs": [
    {
     "name": "stdout",
     "output_type": "stream",
     "text": [
      "2.3666666666666667\n",
      "2\n",
      "22\n",
      "22\n"
     ]
    }
   ],
   "source": [
    "#Conditionals and Recursion\n",
    "#Floor division and modulus\n",
    "minutes = 142\n",
    "hours = minutes/60\n",
    "print(hours) \n",
    "hours = minutes//60 \n",
    "print(hours)\n",
    "remainder = minutes - hours * 60 \n",
    "print(remainder)\n",
    "remainder = minutes%60 \n",
    "print(remainder)"
   ]
  },
  {
   "cell_type": "code",
   "execution_count": 90,
   "metadata": {},
   "outputs": [
    {
     "data": {
      "text/plain": [
       "False"
      ]
     },
     "execution_count": 90,
     "metadata": {},
     "output_type": "execute_result"
    }
   ],
   "source": [
    "32==5 "
   ]
  },
  {
   "cell_type": "code",
   "execution_count": 91,
   "metadata": {},
   "outputs": [
    {
     "data": {
      "text/plain": [
       "True"
      ]
     },
     "execution_count": 91,
     "metadata": {},
     "output_type": "execute_result"
    }
   ],
   "source": [
    "32!=5"
   ]
  },
  {
   "cell_type": "code",
   "execution_count": 92,
   "metadata": {},
   "outputs": [
    {
     "data": {
      "text/plain": [
       "False"
      ]
     },
     "execution_count": 92,
     "metadata": {},
     "output_type": "execute_result"
    }
   ],
   "source": [
    "32<5"
   ]
  },
  {
   "cell_type": "code",
   "execution_count": 93,
   "metadata": {},
   "outputs": [
    {
     "data": {
      "text/plain": [
       "True"
      ]
     },
     "execution_count": 93,
     "metadata": {},
     "output_type": "execute_result"
    }
   ],
   "source": [
    "32>5"
   ]
  },
  {
   "cell_type": "code",
   "execution_count": 94,
   "metadata": {},
   "outputs": [
    {
     "data": {
      "text/plain": [
       "True"
      ]
     },
     "execution_count": 94,
     "metadata": {},
     "output_type": "execute_result"
    }
   ],
   "source": [
    "5>=5"
   ]
  },
  {
   "cell_type": "code",
   "execution_count": 95,
   "metadata": {},
   "outputs": [
    {
     "data": {
      "text/plain": [
       "False"
      ]
     },
     "execution_count": 95,
     "metadata": {},
     "output_type": "execute_result"
    }
   ],
   "source": [
    "32<32"
   ]
  },
  {
   "cell_type": "code",
   "execution_count": 96,
   "metadata": {},
   "outputs": [
    {
     "name": "stdout",
     "output_type": "stream",
     "text": [
      "true\n"
     ]
    }
   ],
   "source": [
    "#Conditionl Execution\n",
    "def boolTest(x):\n",
    "    if(x == 5):  \n",
    "        print(\"true\")\n",
    "        \n",
    "boolTest(5)"
   ]
  },
  {
   "cell_type": "code",
   "execution_count": 97,
   "metadata": {},
   "outputs": [
    {
     "name": "stdout",
     "output_type": "stream",
     "text": [
      "x is odd\n",
      "x is even\n"
     ]
    }
   ],
   "source": [
    "#Alternative Execution\n",
    "def boolTest1(x):\n",
    "    if(x % 2 == 0):  \n",
    "        print(\"x is even\")\n",
    "    else:             \n",
    "        print(\"x is odd\")\n",
    "        \n",
    "boolTest1(3)\n",
    "boolTest1(2)"
   ]
  },
  {
   "cell_type": "code",
   "execution_count": 98,
   "metadata": {},
   "outputs": [
    {
     "name": "stdout",
     "output_type": "stream",
     "text": [
      "x is less than y\n",
      "x is less than y\n",
      "x is equal to y\n"
     ]
    }
   ],
   "source": [
    "#Chained Conditionals\n",
    "#when there are more than 2 possible condition then we use chained conditionals\n",
    "def chainCondition(x,y):\n",
    "    if(x<y):\n",
    "        print(\"x is less than y\")\n",
    "    elif(x>y):\n",
    "        print(\"x is greater than y\")\n",
    "    else:\n",
    "        print(\"x is equal to y\")\n",
    "\n",
    "chainCondition(10,11)      \n",
    "chainCondition(12,15)\n",
    "chainCondition(10,10)"
   ]
  },
  {
   "cell_type": "code",
   "execution_count": 99,
   "metadata": {},
   "outputs": [
    {
     "name": "stdout",
     "output_type": "stream",
     "text": [
      "x is greater than y\n",
      "x and y are equal\n",
      "x is less than y\n"
     ]
    }
   ],
   "source": [
    "#Nested Conditionals\n",
    "def nestCond(x,y):\n",
    "    if(x == y):\n",
    "        print(\"x and y are equal\")\n",
    "    else:\n",
    "        if(x<y):     \n",
    "            print(\"x is less than y\")\n",
    "        else:\n",
    "            print(\"x is greater than y\")\n",
    "            \n",
    "nestCond(55,32)\n",
    "nestCond(1,1)\n",
    "nestCond(25,100)"
   ]
  },
  {
   "cell_type": "code",
   "execution_count": 100,
   "metadata": {},
   "outputs": [
    {
     "name": "stdout",
     "output_type": "stream",
     "text": [
      "x is a positive single digit number, used and operator\n",
      "x is a positive single digit number\n"
     ]
    }
   ],
   "source": [
    "# alternate approaches for nesed conditions\n",
    "def andOpr(x):\n",
    "    if(0<x and x<10): \n",
    "        print(\"x is a positive single digit number, used and operator\")\n",
    "    if(0<x<10): \n",
    "        print(\"x is a positive single digit number\")\n",
    "        \n",
    "andOpr(5)"
   ]
  },
  {
   "cell_type": "code",
   "execution_count": 116,
   "metadata": {},
   "outputs": [
    {
     "name": "stdout",
     "output_type": "stream",
     "text": [
      "5\n",
      "4\n",
      "3\n",
      "2\n",
      "1\n",
      "Done\n"
     ]
    }
   ],
   "source": [
    "#Recursion\n",
    "def countdown(n):\n",
    "    if n <= 0:\n",
    "        print('Done')\n",
    "    else:\n",
    "        print(n)\n",
    "        countdown(n-1) \n",
    "\n",
    "countdown(5)"
   ]
  },
  {
   "cell_type": "code",
   "execution_count": 102,
   "metadata": {},
   "outputs": [
    {
     "name": "stdout",
     "output_type": "stream",
     "text": [
      "satvika\n",
      "satvika\n",
      "satvika\n",
      "satvika\n"
     ]
    }
   ],
   "source": [
    "#Recursion with return statement\n",
    "def print_n(s, n):\n",
    "    if n <= 0:\n",
    "        return\n",
    "    print(s)\n",
    "    print_n(s, n-1)\n",
    "        \n",
    "s = 'satvika'        \n",
    "print_n(s,4)"
   ]
  },
  {
   "cell_type": "code",
   "execution_count": 103,
   "metadata": {},
   "outputs": [
    {
     "name": "stdout",
     "output_type": "stream",
     "text": [
      "satvika\n"
     ]
    }
   ],
   "source": [
    "text = input()"
   ]
  },
  {
   "cell_type": "code",
   "execution_count": 104,
   "metadata": {},
   "outputs": [
    {
     "name": "stdout",
     "output_type": "stream",
     "text": [
      "What is your name?\n",
      "satvika\n"
     ]
    }
   ],
   "source": [
    "name = input('What is your name?\\n')"
   ]
  },
  {
   "cell_type": "code",
   "execution_count": 105,
   "metadata": {},
   "outputs": [
    {
     "name": "stdout",
     "output_type": "stream",
     "text": [
      "What...is the airspeed velocity of an unladen swallow?\n",
      "40\n"
     ]
    }
   ],
   "source": [
    "prompt= 'What...is the airspeed velocity of an unladen swallow?\\n'\n",
    "speed = input(prompt)"
   ]
  },
  {
   "cell_type": "code",
   "execution_count": 106,
   "metadata": {},
   "outputs": [
    {
     "data": {
      "text/plain": [
       "40"
      ]
     },
     "execution_count": 106,
     "metadata": {},
     "output_type": "execute_result"
    }
   ],
   "source": [
    "int(speed)"
   ]
  },
  {
   "cell_type": "code",
   "execution_count": 107,
   "metadata": {},
   "outputs": [
    {
     "name": "stdout",
     "output_type": "stream",
     "text": [
      "Factorial is only defined for integers.\n",
      "Factorial is not defined for negative integers.\n"
     ]
    }
   ],
   "source": [
    "#Checking Types\n",
    "def factorial(n):\n",
    "    if not isinstance(n, int):\n",
    "        print('Factorial is only defined for integers.')\n",
    "        return None\n",
    "    elif(n < 0):\n",
    "        print('Factorial is not defined for negative integers.')\n",
    "        return None\n",
    "    elif(n == 0):\n",
    "        return 1\n",
    "    else:\n",
    "        return n * factorial(n-1)\n",
    "\n",
    "factorial(6)\n",
    "factorial('fred')\n",
    "factorial(-6)"
   ]
  },
  {
   "cell_type": "code",
   "execution_count": 109,
   "metadata": {},
   "outputs": [
    {
     "name": "stdout",
     "output_type": "stream",
     "text": [
      "                             factorial 7\n",
      "                         factorial 6\n",
      "                     factorial 5\n",
      "                 factorial 4\n",
      "             factorial 3\n",
      "         factorial 2\n",
      "     factorial 1\n",
      " factorial 0\n",
      " returning 1\n",
      "     returning 1\n",
      "         returning 2\n",
      "             returning 6\n",
      "                 returning 24\n",
      "                     returning 120\n",
      "                         returning 720\n",
      "                             returning 5040\n"
     ]
    },
    {
     "data": {
      "text/plain": [
       "5040"
      ]
     },
     "execution_count": 109,
     "metadata": {},
     "output_type": "execute_result"
    }
   ],
   "source": [
    "def factorial1(n):\n",
    "    space = ' ' * (4 * n)\n",
    "    print(space, 'factorial', n)\n",
    "    if n == 0:\n",
    "        print(space, 'returning 1')\n",
    "        return 1\n",
    "    else:\n",
    "        recurse = factorial1(n-1)\n",
    "        result = n * recurse\n",
    "        print(space, 'returning', result)\n",
    "    return result\n",
    "\n",
    "factorial1(7)\n",
    "\n",
    "                     "
   ]
  },
  {
   "cell_type": "code",
   "execution_count": 110,
   "metadata": {},
   "outputs": [
    {
     "data": {
      "text/plain": [
       "7"
      ]
     },
     "execution_count": 110,
     "metadata": {},
     "output_type": "execute_result"
    }
   ],
   "source": [
    "#Reassignment of values to variables\n",
    "x = 5\n",
    "x\n",
    "x = 7\n",
    "x"
   ]
  },
  {
   "cell_type": "code",
   "execution_count": 112,
   "metadata": {},
   "outputs": [
    {
     "data": {
      "text/plain": [
       "-1"
      ]
     },
     "execution_count": 112,
     "metadata": {},
     "output_type": "execute_result"
    }
   ],
   "source": [
    "#updating variables\n",
    "x = 0\n",
    "x = x+1 \n",
    "x\n",
    "\n",
    "y = 0 \n",
    "y = y-1 \n",
    "y"
   ]
  },
  {
   "cell_type": "code",
   "execution_count": 115,
   "metadata": {},
   "outputs": [
    {
     "name": "stdout",
     "output_type": "stream",
     "text": [
      "3\n",
      "2\n",
      "1\n",
      "done\n"
     ]
    }
   ],
   "source": [
    "#While statements\n",
    "def countdown(n):\n",
    "    while n > 0:\n",
    "        print(n)\n",
    "        n = n - 1\n",
    "    print('done')\n",
    "    \n",
    "countdown(3)"
   ]
  },
  {
   "cell_type": "code",
   "execution_count": 114,
   "metadata": {},
   "outputs": [
    {
     "name": "stdout",
     "output_type": "stream",
     "text": [
      "> done\n",
      "Done!\n"
     ]
    }
   ],
   "source": [
    "#Break Statements\n",
    "while True:\n",
    "    line = input('> ')\n",
    "    if line == 'done':\n",
    "        break\n",
    "    print(line)\n",
    "print('Done!')"
   ]
  },
  {
   "cell_type": "code",
   "execution_count": null,
   "metadata": {},
   "outputs": [],
   "source": []
  }
 ],
 "metadata": {
  "kernelspec": {
   "display_name": "Python 3",
   "language": "python",
   "name": "python3"
  },
  "language_info": {
   "codemirror_mode": {
    "name": "ipython",
    "version": 3
   },
   "file_extension": ".py",
   "mimetype": "text/x-python",
   "name": "python",
   "nbconvert_exporter": "python",
   "pygments_lexer": "ipython3",
   "version": "3.7.1"
  }
 },
 "nbformat": 4,
 "nbformat_minor": 2
}
