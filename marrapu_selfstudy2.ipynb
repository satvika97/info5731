{
 "cells": [
  {
   "cell_type": "code",
   "execution_count": 3,
   "metadata": {},
   "outputs": [
    {
     "data": {
      "text/plain": [
       "'!\"#$%&\\'()*+,-./:;<=>?@[\\\\]^_`{|}~'"
      ]
     },
     "execution_count": 3,
     "metadata": {},
     "output_type": "execute_result"
    }
   ],
   "source": [
    "#ord frequency analysis\n",
    "import string \n",
    " string.punctuation "
   ]
  },
  {
   "cell_type": "code",
   "execution_count": 22,
   "metadata": {},
   "outputs": [
    {
     "name": "stdout",
     "output_type": "stream",
     "text": [
      "0.2876806398880639\n",
      "0.5369640891425445\n",
      "0.13280443247724194\n",
      "0.4169954550519507\n",
      "0.6717014171370577\n",
      "0.7649618781363251\n",
      "0.4010134067076292\n",
      "0.1445211542485767\n",
      "0.3921246475204313\n",
      "0.9283411314248693\n"
     ]
    }
   ],
   "source": [
    "#random numbers\n",
    "import random\n",
    "for i in range(10): \n",
    "    x = random.random() \n",
    "    print(x) "
   ]
  },
  {
   "cell_type": "code",
   "execution_count": 5,
   "metadata": {},
   "outputs": [
    {
     "data": {
      "text/plain": [
       "7"
      ]
     },
     "execution_count": 5,
     "metadata": {},
     "output_type": "execute_result"
    }
   ],
   "source": [
    "random.randint(5, 10) "
   ]
  },
  {
   "cell_type": "code",
   "execution_count": 6,
   "metadata": {},
   "outputs": [
    {
     "data": {
      "text/plain": [
       "5"
      ]
     },
     "execution_count": 6,
     "metadata": {},
     "output_type": "execute_result"
    }
   ],
   "source": [
    "random.randint(5, 10) "
   ]
  },
  {
   "cell_type": "code",
   "execution_count": 9,
   "metadata": {},
   "outputs": [
    {
     "data": {
      "text/plain": [
       "3"
      ]
     },
     "execution_count": 9,
     "metadata": {},
     "output_type": "execute_result"
    }
   ],
   "source": [
    "t = [1, 2, 3] \n",
    "random.choice(t) "
   ]
  },
  {
   "cell_type": "code",
   "execution_count": 8,
   "metadata": {},
   "outputs": [
    {
     "data": {
      "text/plain": [
       "2"
      ]
     },
     "execution_count": 8,
     "metadata": {},
     "output_type": "execute_result"
    }
   ],
   "source": [
    "random.choice(t) "
   ]
  },
  {
   "cell_type": "code",
   "execution_count": 12,
   "metadata": {},
   "outputs": [
    {
     "data": {
      "text/plain": [
       "{'s': 1, 'a': 2, 't': 1, 'v': 1, 'i': 1, 'k': 1}"
      ]
     },
     "execution_count": 12,
     "metadata": {},
     "output_type": "execute_result"
    }
   ],
   "source": [
    "#histogram\n",
    "def histogram(s):\n",
    "    d = dict()\n",
    "    for c in s:\n",
    "        if c not in d:\n",
    "            d[c] = 1 \n",
    "        else:\n",
    "            d[c] += 1\n",
    "    return d\n",
    "t = ['s','a','t','v','i','k','a']\n",
    "hist = histogram(t)\n",
    "hist   "
   ]
  },
  {
   "cell_type": "code",
   "execution_count": 13,
   "metadata": {},
   "outputs": [
    {
     "name": "stdout",
     "output_type": "stream",
     "text": [
      "Total number of words: 7\n",
      "Number of different words: 6\n"
     ]
    }
   ],
   "source": [
    "# Word histogram\n",
    "import string\n",
    "def process_file(filename): \n",
    "    hist = dict() \n",
    "    fp = open(filename) \n",
    "    for line in fp: \n",
    "        process_line(line, hist) \n",
    "    return hist\n",
    "def process_line(line, hist): \n",
    "    line = line.replace('-', ' ')\n",
    "    \n",
    "    for word in line.split(): \n",
    "        word = word.strip(string.punctuation + string.whitespace) \n",
    "        word = word.lower() \n",
    "        hist[word] = hist.get(word, 0) + 1\n",
    "def total_words(hist): \n",
    "    return sum(hist.values())\n",
    "def different_words(hist): \n",
    "    return len(hist)\n",
    "print('Total number of words:', total_words(hist)) \n",
    "print('Number of different words:', different_words(hist)) "
   ]
  },
  {
   "cell_type": "code",
   "execution_count": 14,
   "metadata": {},
   "outputs": [
    {
     "name": "stdout",
     "output_type": "stream",
     "text": [
      "The most common words are:\n",
      "a\t2\n",
      "v\t1\n",
      "t\t1\n",
      "s\t1\n",
      "k\t1\n",
      "i\t1\n"
     ]
    }
   ],
   "source": [
    "#Most common words\n",
    "def most_common(hist): \n",
    "    t = [] \n",
    "    for key, value in hist.items(): \n",
    "        t.append((value, key))\n",
    "    t.sort(reverse=True) \n",
    "    return t \n",
    "t = most_common(hist) \n",
    "print('The most common words are:') \n",
    "for freq, word in t[:10]: \n",
    "    print(word, freq, sep='\\t') "
   ]
  },
  {
   "cell_type": "code",
   "execution_count": 17,
   "metadata": {},
   "outputs": [],
   "source": [
    "# Optional parameters\n",
    "def print_most_common(hist, num=10): \n",
    "    t = most_common(hist) \n",
    "    print('The most common words are:') \n",
    "    for freq, word in t[:num]: \n",
    "        print(word, freq, sep='\\t')"
   ]
  },
  {
   "cell_type": "code",
   "execution_count": 20,
   "metadata": {},
   "outputs": [],
   "source": [
    "# Dictionary subtraction\n",
    "def subtract(d1, d2): \n",
    "    res = dict() \n",
    "    for key in d1: \n",
    "        if key not in d2: \n",
    "            res[key] = None \n",
    "    return res "
   ]
  },
  {
   "cell_type": "code",
   "execution_count": 23,
   "metadata": {},
   "outputs": [
    {
     "data": {
      "text/plain": [
       "(1, 'v')"
      ]
     },
     "execution_count": 23,
     "metadata": {},
     "output_type": "execute_result"
    }
   ],
   "source": [
    "# Random words\n",
    "def random_word(h):\n",
    "    t = [] \n",
    "    for word, freq in h.items(): \n",
    "        t.extend([word] * freq)\n",
    "return random.choice(t) "
   ]
  },
  {
   "cell_type": "code",
   "execution_count": 34,
   "metadata": {},
   "outputs": [
    {
     "data": {
      "text/plain": [
       "47"
      ]
     },
     "execution_count": 34,
     "metadata": {},
     "output_type": "execute_result"
    }
   ],
   "source": [
    " #Reading and writing\n",
    "fout = open('output.txt', 'w')\n",
    "line1 = \"Computational methods for information systems.\\n\" \n",
    "fout.write(line1) \n"
   ]
  },
  {
   "cell_type": "code",
   "execution_count": 35,
   "metadata": {},
   "outputs": [
    {
     "data": {
      "text/plain": [
       "8"
      ]
     },
     "execution_count": 35,
     "metadata": {},
     "output_type": "execute_result"
    }
   ],
   "source": [
    "line2 = \"Python.\\n\" \n",
    "fout.write(line2) "
   ]
  },
  {
   "cell_type": "code",
   "execution_count": 39,
   "metadata": {},
   "outputs": [
    {
     "data": {
      "text/plain": [
       "15"
      ]
     },
     "execution_count": 39,
     "metadata": {},
     "output_type": "execute_result"
    }
   ],
   "source": [
    "#Format operator\n",
    "x = 'Satvika Marrapu'  \n",
    "fout.write(str(x)) "
   ]
  },
  {
   "cell_type": "code",
   "execution_count": 41,
   "metadata": {},
   "outputs": [
    {
     "data": {
      "text/plain": [
       "'50'"
      ]
     },
     "execution_count": 41,
     "metadata": {},
     "output_type": "execute_result"
    }
   ],
   "source": [
    "methods = 50 \n",
    "'%d' % methods "
   ]
  },
  {
   "cell_type": "code",
   "execution_count": 42,
   "metadata": {},
   "outputs": [
    {
     "data": {
      "text/plain": [
       "'I have spotted 50 methods.'"
      ]
     },
     "execution_count": 42,
     "metadata": {},
     "output_type": "execute_result"
    }
   ],
   "source": [
    " 'I have spotted %d methods.' % methods "
   ]
  },
  {
   "cell_type": "code",
   "execution_count": 44,
   "metadata": {},
   "outputs": [
    {
     "data": {
      "text/plain": [
       "'In 4 years I have spotted 60 methods.'"
      ]
     },
     "execution_count": 44,
     "metadata": {},
     "output_type": "execute_result"
    }
   ],
   "source": [
    "'In %d years I have spotted %g %s.' % (4, 60, 'methods') "
   ]
  },
  {
   "cell_type": "code",
   "execution_count": 46,
   "metadata": {},
   "outputs": [
    {
     "data": {
      "text/plain": [
       "'C:\\\\Users\\\\WIN-10'"
      ]
     },
     "execution_count": 46,
     "metadata": {},
     "output_type": "execute_result"
    }
   ],
   "source": [
    " #Filenames and paths\n",
    " import os \n",
    " cwd = os.getcwd() \n",
    " cwd\n"
   ]
  },
  {
   "cell_type": "code",
   "execution_count": 58,
   "metadata": {},
   "outputs": [
    {
     "data": {
      "text/plain": [
       "'C:\\\\Users\\\\WIN-10\\\\MEMO.docx'"
      ]
     },
     "execution_count": 58,
     "metadata": {},
     "output_type": "execute_result"
    }
   ],
   "source": [
    "os.path.abspath('MEMO.docx')"
   ]
  },
  {
   "cell_type": "code",
   "execution_count": 59,
   "metadata": {},
   "outputs": [
    {
     "data": {
      "text/plain": [
       "True"
      ]
     },
     "execution_count": 59,
     "metadata": {},
     "output_type": "execute_result"
    }
   ],
   "source": [
    "os.path.exists('MEMO.docx') "
   ]
  },
  {
   "cell_type": "code",
   "execution_count": 60,
   "metadata": {},
   "outputs": [
    {
     "data": {
      "text/plain": [
       "False"
      ]
     },
     "execution_count": 60,
     "metadata": {},
     "output_type": "execute_result"
    }
   ],
   "source": [
    " os.path.isdir('memo.docx') "
   ]
  },
  {
   "cell_type": "code",
   "execution_count": 62,
   "metadata": {},
   "outputs": [
    {
     "data": {
      "text/plain": [
       "True"
      ]
     },
     "execution_count": 62,
     "metadata": {},
     "output_type": "execute_result"
    }
   ],
   "source": [
    "os.path.isdir('os.listdir(cwd) C:\\\\Users\\\\WIN-10')"
   ]
  },
  {
   "cell_type": "code",
   "execution_count": 63,
   "metadata": {},
   "outputs": [
    {
     "data": {
      "text/plain": [
       "['.anaconda',\n",
       " '.bash_history',\n",
       " '.conda',\n",
       " '.condarc',\n",
       " '.gitconfig',\n",
       " '.ipynb_checkpoints',\n",
       " '.ipython',\n",
       " '.jupyter',\n",
       " '.matplotlib',\n",
       " '.minttyrc',\n",
       " '.spyder-py3',\n",
       " '.vim',\n",
       " '.viminfo',\n",
       " '.vscode',\n",
       " '3D Objects',\n",
       " 'Anaconda3',\n",
       " 'AppData',\n",
       " 'Apple',\n",
       " 'Application Data',\n",
       " 'Contacts',\n",
       " 'Cookies',\n",
       " 'Desktop',\n",
       " 'Documents',\n",
       " 'Downloads',\n",
       " 'Favorites',\n",
       " 'IntelGraphicsProfiles',\n",
       " 'lesson-2-code.ipynb',\n",
       " 'Links',\n",
       " 'Local Settings',\n",
       " 'Marrapu-selfstudy1.ipynb',\n",
       " 'Marrapu_Assign2.ipynb',\n",
       " 'Mattapally_selfstudy1.ipynb',\n",
       " 'MEMO.docx',\n",
       " 'MicrosoftEdgeBackups',\n",
       " 'Music',\n",
       " 'My Documents',\n",
       " 'NetHood',\n",
       " 'NTUSER.DAT',\n",
       " 'ntuser.dat.LOG1',\n",
       " 'ntuser.dat.LOG2',\n",
       " 'NTUSER.DAT{951d69f9-9a46-11e8-828c-89001defe407}.TM.blf',\n",
       " 'NTUSER.DAT{951d69f9-9a46-11e8-828c-89001defe407}.TMContainer00000000000000000001.regtrans-ms',\n",
       " 'NTUSER.DAT{951d69f9-9a46-11e8-828c-89001defe407}.TMContainer00000000000000000002.regtrans-ms',\n",
       " 'ntuser.ini',\n",
       " 'Numpy1.ipynb',\n",
       " 'OneDrive',\n",
       " 'output.txt',\n",
       " 'PHRW.pdf',\n",
       " 'Pictures',\n",
       " 'PrintHood',\n",
       " 'py1.ipynb',\n",
       " 'Recent',\n",
       " 'run',\n",
       " 'satvika1.ipynb',\n",
       " 'satvika2.ipynb',\n",
       " 'Saved Games',\n",
       " 'Searches',\n",
       " 'selfstudy2.ipynb',\n",
       " 'SendTo',\n",
       " 'spyder_crash.log',\n",
       " 'Start Menu',\n",
       " 'Templates',\n",
       " 'Untitled.ipynb',\n",
       " 'Untitled1.ipynb',\n",
       " 'Untitled10.ipynb',\n",
       " 'Untitled11.ipynb',\n",
       " 'Untitled12.ipynb',\n",
       " 'Untitled13.ipynb',\n",
       " 'Untitled14.ipynb',\n",
       " 'Untitled15.ipynb',\n",
       " 'Untitled16.ipynb',\n",
       " 'Untitled17.ipynb',\n",
       " 'Untitled18.ipynb',\n",
       " 'Untitled19.ipynb',\n",
       " 'Untitled2.ipynb',\n",
       " 'Untitled20.ipynb',\n",
       " 'Untitled21.ipynb',\n",
       " 'Untitled22.ipynb',\n",
       " 'Untitled23.ipynb',\n",
       " 'Untitled24.ipynb',\n",
       " 'Untitled25-Copy1.ipynb',\n",
       " 'Untitled25.ipynb',\n",
       " 'Untitled26.ipynb',\n",
       " 'Untitled28.ipynb',\n",
       " 'Untitled3.ipynb',\n",
       " 'Untitled4.ipynb',\n",
       " 'Untitled5.ipynb',\n",
       " 'Untitled6.ipynb',\n",
       " 'Untitled7.ipynb',\n",
       " 'Untitled8.ipynb',\n",
       " 'Untitled9.ipynb',\n",
       " 'Videos']"
      ]
     },
     "execution_count": 63,
     "metadata": {},
     "output_type": "execute_result"
    }
   ],
   "source": [
    "os.listdir(cwd) "
   ]
  },
  {
   "cell_type": "code",
   "execution_count": 65,
   "metadata": {},
   "outputs": [],
   "source": [
    "def walk(dirname): \n",
    "    for name in os.listdir(dirname):\n",
    "        path = os.path.join(dirname, name)\n",
    "        if os.path.isfile(path):\n",
    "              print(path) \n",
    "        else: \n",
    "              walk(path) "
   ]
  },
  {
   "cell_type": "code",
   "execution_count": 67,
   "metadata": {},
   "outputs": [
    {
     "name": "stdout",
     "output_type": "stream",
     "text": [
      "Something went wrong.\n"
     ]
    }
   ],
   "source": [
    "try:\n",
    "    fin = open('bad_file') \n",
    "except: \n",
    "    print('Something went wrong.')"
   ]
  },
  {
   "cell_type": "code",
   "execution_count": 70,
   "metadata": {},
   "outputs": [
    {
     "data": {
      "text/plain": [
       "b'Photo of puppy.'"
      ]
     },
     "execution_count": 70,
     "metadata": {},
     "output_type": "execute_result"
    }
   ],
   "source": [
    "# Databases\n",
    "import dbm \n",
    "db = dbm.open('captions', 'c') \n",
    "db['cleese.png'] = 'Photo of puppy.' \n",
    "db['cleese.png'] "
   ]
  },
  {
   "cell_type": "code",
   "execution_count": 71,
   "metadata": {},
   "outputs": [
    {
     "data": {
      "text/plain": [
       "b'Photo of puppy going for a walk.'"
      ]
     },
     "execution_count": 71,
     "metadata": {},
     "output_type": "execute_result"
    }
   ],
   "source": [
    "db['cleese.png'] = 'Photo of puppy going for a walk.' \n",
    "db['cleese.png']"
   ]
  },
  {
   "cell_type": "code",
   "execution_count": 72,
   "metadata": {},
   "outputs": [
    {
     "name": "stdout",
     "output_type": "stream",
     "text": [
      "b'cleese.png' b'Photo of puppy going for a walk.'\n"
     ]
    }
   ],
   "source": [
    "for key in db: \n",
    "    print(key, db[key]) "
   ]
  },
  {
   "cell_type": "code",
   "execution_count": 73,
   "metadata": {},
   "outputs": [],
   "source": [
    "db.close()"
   ]
  },
  {
   "cell_type": "code",
   "execution_count": 78,
   "metadata": {},
   "outputs": [
    {
     "data": {
      "text/plain": [
       "b'\\x80\\x03]q\\x00(K\\x01K\\x02K\\x03e.'"
      ]
     },
     "execution_count": 78,
     "metadata": {},
     "output_type": "execute_result"
    }
   ],
   "source": [
    "#Pickling\n",
    "import pickle \n",
    "t = [1, 2, 3] \n",
    "pickle.dumps(t) "
   ]
  },
  {
   "cell_type": "code",
   "execution_count": 80,
   "metadata": {},
   "outputs": [
    {
     "data": {
      "text/plain": [
       "[1, 2, 3]"
      ]
     },
     "execution_count": 80,
     "metadata": {},
     "output_type": "execute_result"
    }
   ],
   "source": [
    " t1 = [1, 2, 3] \n",
    " s = pickle.dumps(t1) \n",
    " t2 = pickle.loads(s) \n",
    " t2 "
   ]
  },
  {
   "cell_type": "code",
   "execution_count": 81,
   "metadata": {},
   "outputs": [
    {
     "data": {
      "text/plain": [
       "True"
      ]
     },
     "execution_count": 81,
     "metadata": {},
     "output_type": "execute_result"
    }
   ],
   "source": [
    " t1 == t2 "
   ]
  },
  {
   "cell_type": "code",
   "execution_count": 82,
   "metadata": {},
   "outputs": [
    {
     "data": {
      "text/plain": [
       "False"
      ]
     },
     "execution_count": 82,
     "metadata": {},
     "output_type": "execute_result"
    }
   ],
   "source": [
    "t1 is t2 "
   ]
  },
  {
   "cell_type": "code",
   "execution_count": 84,
   "metadata": {},
   "outputs": [
    {
     "name": "stdout",
     "output_type": "stream",
     "text": [
      "1\n"
     ]
    }
   ],
   "source": [
    "cmd = 'ls -l' \n",
    "fp = os.popen(cmd)\n",
    "res = fp.read() \n",
    "stat = fp.close() \n",
    "print(stat) "
   ]
  },
  {
   "cell_type": "code",
   "execution_count": 86,
   "metadata": {},
   "outputs": [
    {
     "name": "stdout",
     "output_type": "stream",
     "text": [
      "\n",
      "1\n"
     ]
    }
   ],
   "source": [
    "filename = 'book.tex' \n",
    "cmd = 'md5sum ' + filename\n",
    "fp = os.popen(cmd) \n",
    "res = fp.read() \n",
    "stat = fp.close() \n",
    "print(res)\n",
    "print(stat)"
   ]
  },
  {
   "cell_type": "code",
   "execution_count": 89,
   "metadata": {},
   "outputs": [
    {
     "name": "stdout",
     "output_type": "stream",
     "text": [
      "132\n"
     ]
    }
   ],
   "source": [
    "def linecount(filename):\n",
    "    count = 0 \n",
    "    for line in open(filename): \n",
    "        count += 1 \n",
    "    return count\n",
    "print(linecount('satvika1.ipynb')) "
   ]
  },
  {
   "cell_type": "code",
   "execution_count": 92,
   "metadata": {},
   "outputs": [
    {
     "name": "stdout",
     "output_type": "stream",
     "text": [
      "1 2\t 3\n",
      " 4\n"
     ]
    }
   ],
   "source": [
    "#debugging\n",
    "s = '1 2\\t 3\\n 4' \n",
    " print(s) "
   ]
  },
  {
   "cell_type": "code",
   "execution_count": 93,
   "metadata": {},
   "outputs": [
    {
     "name": "stdout",
     "output_type": "stream",
     "text": [
      "'1 2\\t 3\\n 4'\n"
     ]
    }
   ],
   "source": [
    " print(repr(s)) "
   ]
  },
  {
   "cell_type": "code",
   "execution_count": 7,
   "metadata": {},
   "outputs": [],
   "source": [
    "def find_center(rect): \n",
    "    p = Point() \n",
    "    p.x = rect.corner.x + rect.width/2 \n",
    "    p.y = rect.corner.y + rect.height/2 \n",
    "    return p \n",
    "    center = find_center(box) \n",
    "    print_point(center) "
   ]
  },
  {
   "cell_type": "code",
   "execution_count": 18,
   "metadata": {},
   "outputs": [],
   "source": [
    "def add_time(t1, t2): \n",
    "    sum = Time() \n",
    "    sum.hour = t1.hour + t2.hour \n",
    "    sum.minute = t1.minute + t2.minute \n",
    "    sum.second = t1.second + t2.second \n",
    "    if sum.second >= 60:\n",
    "       sum.second -= 60 \n",
    "       sum.minute += 1\n",
    "    \n",
    "    if sum.minute >= 60: \n",
    "       sum.minute -= 60 \n",
    "       sum.hour += 1\n",
    "    \n",
    "    return sum "
   ]
  },
  {
   "cell_type": "code",
   "execution_count": 27,
   "metadata": {},
   "outputs": [],
   "source": [
    "class Time:\n",
    "    \"\"\"Represents the time of day.\"\"\"\n",
    "def print_time(time): \n",
    "    print('%.2d:%.2d:%.2d' % (time.hour, time.minute, time.second)) \n",
    "    start = Time() \n",
    "    start.hour = 9 \n",
    "    start.minute = 45 \n",
    "    start.second = 0\n",
    "    print_time(start) "
   ]
  },
  {
   "cell_type": "code",
   "execution_count": 25,
   "metadata": {},
   "outputs": [],
   "source": [
    "class Time: \n",
    "    def print_time(time): \n",
    "        print('%.2d:%.2d:%.2d' % (time.hour, time.minute, time.second))\n",
    "        Time.print_time(start)\n",
    "        start.print_time() "
   ]
  },
  {
   "cell_type": "code",
   "execution_count": 2,
   "metadata": {},
   "outputs": [],
   "source": [
    "# inside class Time:\n",
    "class Time: \n",
    "    def print_time(time): \n",
    "        print('%.2d:%.2d:%.2d' % (time.hour, time.minute, time.second))\n",
    "        Time.print_time(start)\n",
    "        start.print_time() \n",
    "def __add__(self, other):\n",
    "    if isinstance(other, Time):\n",
    "        return self.add_time(other)\n",
    "    else: \n",
    "        return self.increment(other)\n",
    "def add_time(self, other): \n",
    "    seconds = self.time_to_int() + other.time_to_int() \n",
    "    return int_to_time(seconds)\n",
    "def increment(self, seconds): \n",
    "    seconds += self.time_to_int() \n",
    "    return int_to_time(seconds)\n",
    "    start = Time(9, 45) \n",
    "    duration = Time(1, 35) \n",
    "    print(start + duration)\n",
    "    print(start + 1337) "
   ]
  },
  {
   "cell_type": "code",
   "execution_count": 37,
   "metadata": {},
   "outputs": [
    {
     "data": {
      "text/plain": [
       "{'spam': 4, 'egg': 1, 'bacon': 1}"
      ]
     },
     "execution_count": 37,
     "metadata": {},
     "output_type": "execute_result"
    }
   ],
   "source": [
    "def histogram(s): \n",
    "    d = dict() \n",
    "    for c in s: \n",
    "        if c not in d: \n",
    "            d[c] = 1\n",
    "        else: \n",
    "            d[c] = d[c]+1 \n",
    "    return d \n",
    "t = ['spam', 'egg', 'spam', 'spam', 'bacon', 'spam'] \n",
    "histogram(t) "
   ]
  },
  {
   "cell_type": "code",
   "execution_count": 3,
   "metadata": {},
   "outputs": [
    {
     "name": "stdout",
     "output_type": "stream",
     "text": [
      "[0, 2, 4, 6] [0, 1, 4, 9, 16] [0, 4, 16, 36]\n"
     ]
    }
   ],
   "source": [
    "even_numbers = [x for x in range(7) if x % 2 == 0] \n",
    "squares = [x * x for x in range(5)] # [0, 1, 4, 9, 16]\n",
    "even_squares = [x * x for x in even_numbers] \n",
    "print(even_numbers,squares,even_squares)"
   ]
  },
  {
   "cell_type": "code",
   "execution_count": 4,
   "metadata": {},
   "outputs": [
    {
     "name": "stdout",
     "output_type": "stream",
     "text": [
      "{0: 0, 1: 1, 2: 4, 3: 9, 4: 16} {1}\n"
     ]
    }
   ],
   "source": [
    "square_dict = { x : x * x for x in range(5) } # { 0:0, 1:1, 2:4, 3:9, 4:16 }\n",
    "square_set = { x * x for x in [1, -1] } \n",
    "print(square_dict,square_set)"
   ]
  },
  {
   "cell_type": "code",
   "execution_count": 5,
   "metadata": {},
   "outputs": [
    {
     "name": "stdout",
     "output_type": "stream",
     "text": [
      "[(0, 0), (0, 1), (0, 2), (0, 3), (0, 4), (0, 5), (0, 6), (0, 7), (0, 8), (0, 9), (1, 0), (1, 1), (1, 2), (1, 3), (1, 4), (1, 5), (1, 6), (1, 7), (1, 8), (1, 9), (2, 0), (2, 1), (2, 2), (2, 3), (2, 4), (2, 5), (2, 6), (2, 7), (2, 8), (2, 9), (3, 0), (3, 1), (3, 2), (3, 3), (3, 4), (3, 5), (3, 6), (3, 7), (3, 8), (3, 9)]\n"
     ]
    }
   ],
   "source": [
    "pairs = [(x, y)\n",
    " for x in range(4)\n",
    " for y in range(10)] \n",
    "print(pairs)"
   ]
  },
  {
   "cell_type": "code",
   "execution_count": 6,
   "metadata": {},
   "outputs": [
    {
     "name": "stdout",
     "output_type": "stream",
     "text": [
      "[(0, 1), (0, 2), (0, 3), (0, 4), (0, 5), (0, 6), (0, 7), (0, 8), (0, 9), (0, 10), (0, 11), (0, 12), (0, 13), (0, 14), (0, 15), (0, 16), (0, 17), (0, 18), (0, 19), (1, 2), (1, 3), (1, 4), (1, 5), (1, 6), (1, 7), (1, 8), (1, 9), (1, 10), (1, 11), (1, 12), (1, 13), (1, 14), (1, 15), (1, 16), (1, 17), (1, 18), (1, 19), (2, 3), (2, 4), (2, 5), (2, 6), (2, 7), (2, 8), (2, 9), (2, 10), (2, 11), (2, 12), (2, 13), (2, 14), (2, 15), (2, 16), (2, 17), (2, 18), (2, 19), (3, 4), (3, 5), (3, 6), (3, 7), (3, 8), (3, 9), (3, 10), (3, 11), (3, 12), (3, 13), (3, 14), (3, 15), (3, 16), (3, 17), (3, 18), (3, 19), (4, 5), (4, 6), (4, 7), (4, 8), (4, 9), (4, 10), (4, 11), (4, 12), (4, 13), (4, 14), (4, 15), (4, 16), (4, 17), (4, 18), (4, 19), (5, 6), (5, 7), (5, 8), (5, 9), (5, 10), (5, 11), (5, 12), (5, 13), (5, 14), (5, 15), (5, 16), (5, 17), (5, 18), (5, 19), (6, 7), (6, 8), (6, 9), (6, 10), (6, 11), (6, 12), (6, 13), (6, 14), (6, 15), (6, 16), (6, 17), (6, 18), (6, 19), (7, 8), (7, 9), (7, 10), (7, 11), (7, 12), (7, 13), (7, 14), (7, 15), (7, 16), (7, 17), (7, 18), (7, 19), (8, 9), (8, 10), (8, 11), (8, 12), (8, 13), (8, 14), (8, 15), (8, 16), (8, 17), (8, 18), (8, 19), (9, 10), (9, 11), (9, 12), (9, 13), (9, 14), (9, 15), (9, 16), (9, 17), (9, 18), (9, 19)]\n"
     ]
    }
   ],
   "source": [
    "increasing_pairs = [(x, y) # only pairs with x < y,\n",
    " for x in range(10) # range(lo, hi) equals\n",
    " for y in range(x + 1, 20)]\n",
    "print(increasing_pairs)"
   ]
  },
  {
   "cell_type": "code",
   "execution_count": 12,
   "metadata": {},
   "outputs": [
    {
     "name": "stdout",
     "output_type": "stream",
     "text": [
      "('a', 'b', 'c') (1, 2, 3)\n"
     ]
    }
   ],
   "source": [
    "pairs = [('a', 1), ('b', 2), ('c', 3)]\n",
    "letters, numbers = zip(*pairs)\n",
    "print(letters,numbers)"
   ]
  },
  {
   "cell_type": "code",
   "execution_count": 13,
   "metadata": {},
   "outputs": [
    {
     "data": {
      "text/plain": [
       "<zip at 0x1ac5488ed08>"
      ]
     },
     "execution_count": 13,
     "metadata": {},
     "output_type": "execute_result"
    }
   ],
   "source": [
    "zip(('a', 1), ('b', 2), ('c', 3))"
   ]
  },
  {
   "cell_type": "code",
   "execution_count": 14,
   "metadata": {},
   "outputs": [
    {
     "data": {
      "text/plain": [
       "7"
      ]
     },
     "execution_count": 14,
     "metadata": {},
     "output_type": "execute_result"
    }
   ],
   "source": [
    "def add(a, b): return a + b\n",
    "add(2,4)\n",
    "add(*[3,4])"
   ]
  },
  {
   "cell_type": "code",
   "execution_count": 15,
   "metadata": {},
   "outputs": [],
   "source": [
    "def doubler(f):\n",
    "     def g(x):\n",
    "             return 2 * f(x)\n",
    "             return g"
   ]
  },
  {
   "cell_type": "code",
   "execution_count": 19,
   "metadata": {},
   "outputs": [],
   "source": [
    "def doubler(f):\n",
    "     def g(x):\n",
    "             return 2 * f(x)\n",
    "             return g\n",
    "def f1(x):\n",
    "    return x + 1\n",
    "\n",
    "g = doubler(f1)\n"
   ]
  },
  {
   "cell_type": "code",
   "execution_count": 17,
   "metadata": {},
   "outputs": [
    {
     "name": "stdout",
     "output_type": "stream",
     "text": [
      "None\n"
     ]
    }
   ],
   "source": [
    "def f2(x, y):\n",
    "     return x + y\n",
    "g = doubler(f2)\n",
    "print(g)"
   ]
  },
  {
   "cell_type": "code",
   "execution_count": 20,
   "metadata": {},
   "outputs": [
    {
     "name": "stdout",
     "output_type": "stream",
     "text": [
      "unnamed args: (1, 2)\n",
      "keyword args: {'key': 'word', 'key2': 'word2'}\n"
     ]
    }
   ],
   "source": [
    "def magic(*args, **kwargs):\n",
    "     print(\"unnamed args:\", args)\n",
    "     print(\"keyword args:\", kwargs) \n",
    "magic(1, 2, key=\"word\", key2=\"word2\")"
   ]
  },
  {
   "cell_type": "code",
   "execution_count": null,
   "metadata": {},
   "outputs": [],
   "source": []
  }
 ],
 "metadata": {
  "kernelspec": {
   "display_name": "Python 3",
   "language": "python",
   "name": "python3"
  },
  "language_info": {
   "codemirror_mode": {
    "name": "ipython",
    "version": 3
   },
   "file_extension": ".py",
   "mimetype": "text/x-python",
   "name": "python",
   "nbconvert_exporter": "python",
   "pygments_lexer": "ipython3",
   "version": "3.7.1"
  }
 },
 "nbformat": 4,
 "nbformat_minor": 2
}
